{
 "cells": [
  {
   "cell_type": "markdown",
   "metadata": {},
   "source": [
    "# Lecture 2: Basics of Python and Strings\n",
    "\n",
    "## Contents\n",
    "- [Python control flow](#section3)\n",
    "    - [Iterations and loops](#subsection3.3)\n",
    "- [Strings](#section1)\n",
    "    - [Length of a string](#subsection1.1)\n",
    "    - [Indexing and slicing of strings](#subsection1.2)\n",
    "    - [Iterate characters via <code>range()</code>](#subsection1.3)\n",
    "    - [Methods of strings](#subsection1.4)\n",
    "- [Case studies](#section2)\n",
    "    - [Case study 1: upgraded cheerleader chant](#subsection2.1)"
   ]
  },
  {
   "cell_type": "markdown",
   "metadata": {},
   "source": [
    " "
   ]
  },
  {
   "cell_type": "markdown",
   "metadata": {},
   "source": [
    "## Python control flow <a id=\"section3\"></a>\n",
    "\n",
    "### Iterations and loops <a id=\"subsection3.3\"></a>\n",
    "The concept of looping is important because it’s one of the most common ways a computer automates repetitive tasks.\n",
    "\n",
    "#### Iteration via <code>while</code> loop\n",
    "People (or other intelligent creatures) may not be as good as computers to perform a huge number of repeated tasks, because they tend to make mistakes and they get bored with repetition, as shown by the following example.\n",
    "\n",
    "<div class=\"alert alert-block alert-success\">\n",
    "<b>Example 1:</b>  \n",
    "    Dr. Strange boss fight. \n",
    "</div>"
   ]
  },
  {
   "cell_type": "code",
   "execution_count": 1,
   "metadata": {},
   "outputs": [
    {
     "name": "stdout",
     "output_type": "stream",
     "text": [
      "Dr. Strange: Dormammu, I've come to bargain!\n",
      "Dormammu: I quit\n",
      "Dr. Strange: Wise choice bro!\n",
      "\n",
      "\n"
     ]
    }
   ],
   "source": [
    "Dormammu_quit = False\n",
    "\n",
    "while not Dormammu_quit:\n",
    "    print(\"Dr. Strange: Dormammu, I've come to bargain!\")\n",
    "    Dormammu_says = input(\"Dormammu: \")\n",
    "    if Dormammu_says == 'I quit' or Dormammu_says == 'You win':\n",
    "        Dormammu_quit = True\n",
    "        print('Dr. Strange: Wise choice bro!')\n",
    "    else:\n",
    "        print(\"Dr. Strange: Ah~~~~~~~~\")\n",
    "    print('\\n')"
   ]
  },
  {
   "cell_type": "markdown",
   "metadata": {},
   "source": [
    "Besides setting the value of <code>Dormammu_quit</code> to be \"True\" to escape the loop, we can also use the keyword <code>break</code> to get out of the loop."
   ]
  },
  {
   "cell_type": "code",
   "execution_count": 2,
   "metadata": {},
   "outputs": [
    {
     "name": "stdout",
     "output_type": "stream",
     "text": [
      "Dr. Strange: Dormammu, I've come to bargain!\n",
      "Dormammu: You win\n",
      "Dr. Strange: Wise choice bro!\n"
     ]
    }
   ],
   "source": [
    "Dormammu_quit = False\n",
    "\n",
    "while not Dormammu_quit:\n",
    "    print(\"Dr. Strange: Dormammu, I've come to bargain!\")\n",
    "    Dormammu_says = input(\"Dormammu: \")\n",
    "    if Dormammu_says == 'I quit' or Dormammu_says == 'You win':\n",
    "        print('Dr. Strange: Wise choice bro!')\n",
    "        break       # It breaks the time loop!\n",
    "    else:\n",
    "        print(\"Dr. Strange: Ah~~~~~~~~\")\n",
    "    print('\\n')"
   ]
  },
  {
   "cell_type": "markdown",
   "metadata": {},
   "source": [
    "<div class=\"alert alert-block alert-danger\">\n",
    "<b>Notes:</b>     \n",
    "\n",
    "<li> <b>while</b> repeats the code inside the loop block as long as the given boolean expression is True.\n",
    "<li> The loop block is also indicated by indentations. Nested structure can also be used. <li> A loop can be broken by using the keyword <b>break</b>, or by enforcing the boolean expression to be False\n",
    "<li> Be careful, do not get trapped in an endless <b>while</b> loop.\n",
    "\n",
    "</div>\n",
    "  \n",
    "#### Iteration via <code>for</code> loops\n",
    "<code>for</code> loops are traditionally used when you have a block of code which you want to repeat **a fixed number of times**. The Python <code>for</code> statement iterates over the members of a sequence in order, executing the block each time. \n",
    "\n",
    "<div class=\"alert alert-block alert-success\">\n",
    "<b>Example 2:</b>  Cheerleader chant.\n",
    "</div>"
   ]
  },
  {
   "cell_type": "code",
   "execution_count": 3,
   "metadata": {
    "scrolled": false
   },
   "outputs": [
    {
     "name": "stdout",
     "output_type": "stream",
     "text": [
      "What is your name? Jack\n",
      "Give me a J: \n",
      "J!!!\n",
      "Give me a a: \n",
      "a!!!\n",
      "Give me a c: \n",
      "c!!!\n",
      "Give me a k: \n",
      "k!!!\n",
      "What's that spell?\n",
      "Jack!!\n",
      "Go! Go! Jack!!\n"
     ]
    }
   ],
   "source": [
    "name = input(\"What is your name? \")\n",
    "\n",
    "for letter in name:     # Iterate each letter in name\n",
    "    \n",
    "    print(\"Give me a \" + letter + \": \")\n",
    "    print(letter + \"!!!\")\n",
    "\n",
    "print(\"What's that spell?\")\n",
    "print(name + \"!!\")\n",
    "\n",
    "print(\"Go! Go! \" + name + \"!!\")"
   ]
  },
  {
   "cell_type": "markdown",
   "metadata": {},
   "source": [
    "Please note that the variable <code>letter</code> takes each letter of the string <code>name</code> in every iteration, and the loop ends when we have enumerated all letters.\n",
    "\n",
    "In the case that the input name is \"Jack Sparrow\", the space between two words will also be printed. How to prevent the program from printing the space?"
   ]
  },
  {
   "cell_type": "code",
   "execution_count": 4,
   "metadata": {
    "scrolled": false
   },
   "outputs": [
    {
     "name": "stdout",
     "output_type": "stream",
     "text": [
      "What is your name? Jack Sparrow\n",
      "Give me a J: \n",
      "J!!!\n",
      "Give me a a: \n",
      "a!!!\n",
      "Give me a c: \n",
      "c!!!\n",
      "Give me a k: \n",
      "k!!!\n",
      "Give me a S: \n",
      "S!!!\n",
      "Give me a p: \n",
      "p!!!\n",
      "Give me a a: \n",
      "a!!!\n",
      "Give me a r: \n",
      "r!!!\n",
      "Give me a r: \n",
      "r!!!\n",
      "Give me a o: \n",
      "o!!!\n",
      "Give me a w: \n",
      "w!!!\n",
      "What's that spell?\n",
      "Jack Sparrow!!\n",
      "Go! Go! Jack Sparrow!!\n"
     ]
    }
   ],
   "source": [
    "name = input(\"What is your name? \")\n",
    "\n",
    "for letter in name:   # Iterate each letter in name\n",
    "    if letter == ' ':\n",
    "        continue \n",
    "    \n",
    "    print(\"Give me a \" + letter + \": \")\n",
    "    print(letter + \"!!!\")\n",
    "\n",
    "print(\"What's that spell?\")\n",
    "print(name + \"!!\")\n",
    "\n",
    "print(\"Go! Go! \" + name + \"!!\")"
   ]
  },
  {
   "cell_type": "markdown",
   "metadata": {},
   "source": [
    "#### Keywords <code>break</code> and <code>continue</code>\n",
    "Watch out for the differences between the keywords <code>break</code> and <code>continue</code>: <code>break</code> skips the subsequent code in the loop and terminate the loop, while <code>continue</code> skips the subsequent code and directly go to the next iteration. \n",
    "\n",
    "<div class=\"alert alert-block alert-success\">\n",
    "<b>Example 3:</b>  The difference between \"break\" and \"continue\".\n",
    "</div>"
   ]
  },
  {
   "cell_type": "code",
   "execution_count": 5,
   "metadata": {},
   "outputs": [
    {
     "name": "stdout",
     "output_type": "stream",
     "text": [
      "ab\n",
      "abdefg\n"
     ]
    }
   ],
   "source": [
    "a_string = 'abcdefg'\n",
    "\n",
    "new_string = ''\n",
    "for letter in a_string:\n",
    "    if letter == 'c':\n",
    "        break           # Skip the line below and terminate the loop\n",
    "    new_string = new_string + letter\n",
    "print(new_string)\n",
    "\n",
    "new_string = ''\n",
    "for letter in a_string:\n",
    "    if letter == 'c':\n",
    "        continue        # Skip the line below and go to the next iteration\n",
    "    new_string = new_string + letter\n",
    "print(new_string)"
   ]
  },
  {
   "cell_type": "markdown",
   "metadata": {},
   "source": [
    "#### Comparison between while loop and for loop\n",
    "\n",
    "|<code>while</code> loop | <code>for</code> loop |\n",
    "|:-----------------------|:-------------------------|\n",
    "| Unknown number of iterations | Known number of iterations|\n",
    "| A counter can be defined <br> and manually updated | A counter is updated <br> through the loop |\n",
    "| Break the loop by <code>break</code>| Break the loop by <code>break</code> |\n",
    "| Skip code blocks by <code>continue</code> | Skip code blocks by <code>continue</code> |\n"
   ]
  },
  {
   "cell_type": "markdown",
   "metadata": {},
   "source": [
    " "
   ]
  },
  {
   "cell_type": "markdown",
   "metadata": {},
   "source": [
    "## Strings <a id=\"section1\"></a>\n",
    "### Length of a string <a id=\"subsection1.1\"></a>\n",
    "The length of a string gives the number of characters in a string. "
   ]
  },
  {
   "cell_type": "code",
   "execution_count": 6,
   "metadata": {},
   "outputs": [
    {
     "data": {
      "text/plain": [
       "11"
      ]
     },
     "execution_count": 6,
     "metadata": {},
     "output_type": "execute_result"
    }
   ],
   "source": [
    "\"\"\"Length of the string\"\"\"\n",
    "\n",
    "len(\"Hello World\")"
   ]
  },
  {
   "cell_type": "markdown",
   "metadata": {},
   "source": [
    "### Indexing and slicing of strings <a id=\"subsection1.2\"></a>\n",
    "Each character in a string corresponds to an index number which starts from **0**. \n",
    "\n",
    "H |   e  |  l | l | o | <code></code>  | W | o | r | l | d\n",
    ":-----:|:-----:|:-----:|:-----:|:-----:|:-----:|:-----:|:-----:|:-----:|:-----:|:-----:\n",
    "0 | 1 | 2 | 3 | 4 | 5 | 6 | 7 | 8 | 9 | 10 \n",
    "\n",
    "\n",
    "All characters can be accessed via the associated index numbers, as demonstrated below."
   ]
  },
  {
   "cell_type": "code",
   "execution_count": 7,
   "metadata": {},
   "outputs": [
    {
     "name": "stdout",
     "output_type": "stream",
     "text": [
      "e\n",
      "o\n"
     ]
    }
   ],
   "source": [
    "greetings = \"Hello World\"\n",
    "\n",
    "letter_e = greetings[1]      # Access the 2nd character \"e\"\n",
    "print(letter_e)\n",
    "\n",
    "letter_A = greetings[7]      # Access the 8th character \"o\"\n",
    "print(letter_A)"
   ]
  },
  {
   "cell_type": "markdown",
   "metadata": {},
   "source": [
    "In case of a long string, we may want to pinpoint a character towards the end, we can also count backwards from the end of the string, starting at the index number -1, and such an index system is illustrated by the table below.\n",
    "\n",
    "H |   e  |  l | l | o | <code></code>  | W | o | r | l | d \n",
    ":-----:|:-----:|:-----:|:-----:|:-----:|:-----:|:-----:|:-----:|:-----:|:-----:|:-----:\n",
    "0 | 1 | 2 | 3 | 4 | 5 | 6 | 7 | 8 | 9 | 10\n",
    " -11 | -10 | -9 | -8 | -7 | -6 | -5 | -4 | -3 | -2 | -1\n"
   ]
  },
  {
   "cell_type": "code",
   "execution_count": 8,
   "metadata": {},
   "outputs": [
    {
     "name": "stdout",
     "output_type": "stream",
     "text": [
      "d\n",
      "W\n"
     ]
    }
   ],
   "source": [
    "greetings = \"Hello World\"\n",
    "\n",
    "letter_2 = greetings[-1]      # Access the last character \"d\"\n",
    "print(letter_2)\n",
    "\n",
    "letter_O = greetings[-5]      # Access the character \"W\"\n",
    "print(letter_O)"
   ]
  },
  {
   "cell_type": "markdown",
   "metadata": {},
   "source": [
    "Besides accessing individual characters of a string, We can also call out a range of characters from the string, by creating a **slice** in the form of <code>\\[*start*:*stop*:*step*\\]</code>, where *start*, *stop*, and *step* are three input arguments that define the values of the indices.\n",
    "\n",
    "Arguments | Remarks | Default Values\n",
    ":--------:|:-------:|:--------------:\n",
    "*start*   | The first index of the slice | 0 \n",
    "*stop*    | The index before which the slice stops | length of the string\n",
    "*step*    | The step length of the slice | 1\n",
    "\n",
    "If any arguments are not specified, the default value would be applied to define the slice expression. Some examples are provided below to illustrate how the slice works."
   ]
  },
  {
   "cell_type": "code",
   "execution_count": 9,
   "metadata": {
    "scrolled": true
   },
   "outputs": [
    {
     "name": "stdout",
     "output_type": "stream",
     "text": [
      "Hello\n",
      "World\n",
      "H d\n"
     ]
    }
   ],
   "source": [
    "greetings = \"Hello World\"\n",
    "\n",
    "print(greetings[0:5:1])     # Print the first five characters\n",
    "\n",
    "print(greetings[6:11:1])    # Print the last five characters\n",
    "\n",
    "print(greetings[0:11:5])    # Print the 1st, 6th, and 11th characters"
   ]
  },
  {
   "cell_type": "markdown",
   "metadata": {},
   "source": [
    "Alternatively, the code above is equivalent to the reduced form below, where the default values of some arguments are applied."
   ]
  },
  {
   "cell_type": "code",
   "execution_count": 10,
   "metadata": {},
   "outputs": [
    {
     "name": "stdout",
     "output_type": "stream",
     "text": [
      "Hello\n",
      "World\n",
      "H d\n"
     ]
    }
   ],
   "source": [
    "greetings = \"Hello World\"\n",
    "\n",
    "print(greetings[:5])        # Print the first five characters\n",
    "\n",
    "print(greetings[-5:])       # Print the last five characters\n",
    "\n",
    "print(greetings[::5])       # Print the 1st, 6th, and 11th characters"
   ]
  },
  {
   "cell_type": "markdown",
   "metadata": {},
   "source": [
    "<div class=\"alert alert-block alert-danger\">\n",
    "<b>Notes:</b>  \n",
    "    A common mistake is assuming that the last index of the slice is <i>stop</i>. Please be very careful that the last index should be the last avaiable integer before <i>stop</i>, as demonstrated by the following example.\n",
    "</div>\n"
   ]
  },
  {
   "cell_type": "code",
   "execution_count": 11,
   "metadata": {},
   "outputs": [
    {
     "name": "stdout",
     "output_type": "stream",
     "text": [
      "H \n"
     ]
    }
   ],
   "source": [
    "greetings = \"Hello World\"\n",
    "\n",
    "print(greetings[:-1:5])   # Print the 1st and 6th characters"
   ]
  },
  {
   "cell_type": "markdown",
   "metadata": {},
   "source": [
    "### Iterate characters via <code>range()</code> <a id=\"subsection1.3\"></a>\n",
    "\n",
    "The function <code>range(*start*, *stop*, *step*)</code> creates a <code>range</code> type object, which represents a sequence of integer numbers. The input arguments *start*, *stop*, and *step*, work exactly the same as the **slice** syntax, as shown by the table below.\n",
    "\n",
    "Arguments | Remarks | Default Values\n",
    ":--------:|:-------:|:--------------:\n",
    "*start*   | The first index of the slice | 0 \n",
    "*stop*    | The index before which the slice stops | -\n",
    "*step*    | The step length of the slice | 1\n",
    "\n",
    "A few examples are provided below to illustrate the <code>range</code> expressions."
   ]
  },
  {
   "cell_type": "code",
   "execution_count": 12,
   "metadata": {},
   "outputs": [
    {
     "name": "stdout",
     "output_type": "stream",
     "text": [
      "<class 'range'>\n",
      "range(0, 5)\n",
      "range(2, 5)\n"
     ]
    }
   ],
   "source": [
    "print(type(range(3)))           # Object type is \"range\"\n",
    "print(range(5))                 # Default values: start=0, step=1\n",
    "print(range(2, 5))              # Default values: step=1"
   ]
  },
  {
   "cell_type": "markdown",
   "metadata": {},
   "source": [
    "The <code>range</code> structure is usually used in <code>for</code> loops to iterate integers in the <code>range</code> sequence. For example, the cheerleader case can be rewritten as the following code."
   ]
  },
  {
   "cell_type": "code",
   "execution_count": 13,
   "metadata": {},
   "outputs": [
    {
     "name": "stdout",
     "output_type": "stream",
     "text": [
      "What is your name? Jack\n",
      "Give me a J: \n",
      "J!!!\n",
      "Give me a a: \n",
      "a!!!\n",
      "Give me a c: \n",
      "c!!!\n",
      "Give me a k: \n",
      "k!!!\n",
      "What's that spell?\n",
      "Jack!!\n",
      "Go! Go! Jack!!\n"
     ]
    }
   ],
   "source": [
    "name = input(\"What is your name? \")\n",
    "\n",
    "for index in range(len(name)):  # Iterate integers 0, 1, ..., len(name)-1\n",
    "    letter = name[index]\n",
    "    if letter == ' ':\n",
    "        continue \n",
    "    \n",
    "    print(\"Give me a \" + letter + \": \")\n",
    "    print(letter + \"!!!\")\n",
    "\n",
    "print(\"What's that spell?\")\n",
    "print(name + \"!!\")\n",
    "\n",
    "print(\"Go! Go! \" + name + \"!!\")"
   ]
  },
  {
   "cell_type": "markdown",
   "metadata": {},
   "source": [
    "In this example, the variable <code>index</code> takes one integer from the sequence running from 0 to <code>len(name)-1</code>. We can thus access each character through their indices <code>index</code>.\n",
    "\n",
    "<div class=\"alert alert-block alert-warning\">\n",
    "<b>Coding Style: </b>   \n",
    "Though the code above generates exactly the same results as the previous example, it is considered non-Pythonic because using an \"index\" is not as readable and straightforward as using each character itself. It is thus not recommended.\n",
    "</div>\n",
    "\n",
    "### Methods of strings <a id=\"subsection1.4\"></a>\n",
    "A method is a special function associated with an object. All methods are called via the syntax $<$object$>$.$<$method$>()$.\n",
    "\n",
    "You may check [Python string methods](https://www.programiz.com/python-programming/methods/string) for the full list of methods for strings. Some of the frequently used methods are explained in the code segments below."
   ]
  },
  {
   "cell_type": "code",
   "execution_count": 14,
   "metadata": {},
   "outputs": [
    {
     "name": "stdout",
     "output_type": "stream",
     "text": [
      "ALL WORK AND NO PLAY MAKES JACK A DULL BOY\n",
      "all work and no play makes jack a dull boy\n",
      "All work and no play makes jack a dull boy\n",
      "ALL WORK AND NO PLAY MAKES jACK A DULL BOY\n",
      "All Work And No Play Makes Jack A Dull Boy\n"
     ]
    }
   ],
   "source": [
    "\"\"\"Case conversion\"\"\"\n",
    "\n",
    "line = \"all work and no play makes Jack a dull boy\"\n",
    "\n",
    "line_upper = line.upper()       # Convert all letters to upper case\n",
    "line_lower = line.lower()       # Convert all letters to lower case\n",
    "line_cap = line.capitalize()    # Convert the first letter to upper case\n",
    "line_swap = line.swapcase()     # Swap upper and lower case\n",
    "line_title = line.title()       # Capitalize the 1st letter of each word\n",
    "\n",
    "print(line_upper)\n",
    "print(line_lower)\n",
    "print(line_cap)\n",
    "print(line_swap)\n",
    "print(line_title)"
   ]
  },
  {
   "cell_type": "code",
   "execution_count": 15,
   "metadata": {
    "scrolled": true
   },
   "outputs": [
    {
     "name": "stdout",
     "output_type": "stream",
     "text": [
      "6\n",
      "4\n"
     ]
    }
   ],
   "source": [
    "\"\"\"Find a character in a string\"\"\"\n",
    "\n",
    "greetings = \"Hello World\"\n",
    "\n",
    "print(greetings.find(\"Wo\"))     # Print the index of the start of \"Wo\" \n",
    "print(greetings.find(\"o\"))      # Print the index of the first \"o\""
   ]
  },
  {
   "cell_type": "markdown",
   "metadata": {},
   "source": [
    "<div class=\"alert alert-block alert-success\">\n",
    "<b>Example 4:</b>  Write a program to print the initials of a name keyed in by the user. For example, if the keyed in name is \"John Fitzgerald Kennedy\", then the printed out message is \"JFK\". \n",
    "</div>"
   ]
  },
  {
   "cell_type": "code",
   "execution_count": 16,
   "metadata": {
    "scrolled": true
   },
   "outputs": [
    {
     "name": "stdout",
     "output_type": "stream",
     "text": [
      "Key in a name: John Fitzgerald Kennedy\n",
      "JFK\n"
     ]
    }
   ],
   "source": [
    "name = input(\"Key in a name: \")\n",
    "\n",
    "initials = name[0]                          # Get the first name initial\n",
    "while True:\n",
    "    index = name.find(' ')                  # Position of the first space\n",
    "    if index == -1:                   \n",
    "        break                               # Break if no space found\n",
    "    initials = initials + name[index+1]     # Add the letter after space\n",
    "    name = name[index+1:]                   # Get a subset of name \n",
    "\n",
    "print(initials)"
   ]
  },
  {
   "cell_type": "markdown",
   "metadata": {},
   "source": [
    "#### The `format()` method\n",
    "The method `format()` of `str` type objects provides a convenient way to control the format of a string. Take a look at the example below."
   ]
  },
  {
   "cell_type": "code",
   "execution_count": 17,
   "metadata": {},
   "outputs": [
    {
     "data": {
      "text/plain": [
       "'Your final marks is 85, and your final grade is A+.'"
      ]
     },
     "execution_count": 17,
     "metadata": {},
     "output_type": "execute_result"
    }
   ],
   "source": [
    "final = 85                  # Final mark of a course\n",
    "grade = 'A+'                # Final grade of the course\n",
    "\n",
    "'Your final marks is {}, and your final grade is {}.'.format(final, grade)"
   ]
  },
  {
   "cell_type": "markdown",
   "metadata": {},
   "source": [
    "The curly brackets within a string (called format fields) are replaced with the objects passed into the `format()` method. In the example above, the first pair of curly brackets is replaced by the first object `final=85`, and the second pair is replaced by the second object `grade='A'`. The `format()` method also allows users to index the format fields in a string, as demonstrated by the following example. "
   ]
  },
  {
   "cell_type": "code",
   "execution_count": 18,
   "metadata": {},
   "outputs": [
    {
     "name": "stdout",
     "output_type": "stream",
     "text": [
      "apple, orange, and banana\n",
      "orange, apple, and banana\n",
      "apple, banana, and orange\n"
     ]
    }
   ],
   "source": [
    "print('{0}, {1}, and {2}'.format('apple', 'orange', 'banana'))\n",
    "print('{1}, {0}, and {2}'.format('apple', 'orange', 'banana'))\n",
    "print('{0}, {2}, and {1}'.format('apple', 'orange', 'banana'))"
   ]
  },
  {
   "cell_type": "markdown",
   "metadata": {},
   "source": [
    "You may notice that the curly brackets indexed by `0` are replaced by the first object given in the method `format()`, the brackets indexed by `1` are replaced by the second object, and the ones index by `2` are replaced by the third object, and so on so forth. \n",
    "\n",
    "The `format()` method is also able to control the specific displayed format of numbers and objects of other types. Interested readers may refer to [format](https://www.programiz.com/python-programming/methods/string/format) for more details.\n",
    "\n",
    "Besides using the `format()` method, we could also use the `f`-string, indicated by an `f` letter in front of the string, to insert values to the string. The `f`-string enables users to use any valid variables or expressions to replace curly brackets in the string, as shown by the sample code below."
   ]
  },
  {
   "cell_type": "code",
   "execution_count": 19,
   "metadata": {},
   "outputs": [
    {
     "name": "stdout",
     "output_type": "stream",
     "text": [
      "Hello John, you have $25678.95 in your count.\n"
     ]
    }
   ],
   "source": [
    "name = 'John'\n",
    "balance = 25678.95\n",
    "\n",
    "print(f'Hello {name}, you have ${balance} in your count.')   # Note that there is an 'f' in front of the string"
   ]
  },
  {
   "cell_type": "markdown",
   "metadata": {},
   "source": [
    " "
   ]
  },
  {
   "cell_type": "markdown",
   "metadata": {},
   "source": [
    "## Case Studies <a id=\"section2\"></a>\n",
    "### Case study 1: Upgraded Cheerleader Chant<a id=\"subsection2.1\"></a>\n",
    "\n",
    "You may find that our \"Cheerleader\" program is not perfect. We want to make three changes: \n",
    "1. The article used for letters was sometimes wrong. For example, it should be \"Give me an I\" instead of \"Give me a I\". Try to correct the wrong articles.\n",
    "2. When individual letters are shout out, always use upper case to show the passion of the cheer!\n",
    "3. The user also select a scale of passion as an integer between one and five, then the sentence \"Go! Go! XXX\" will be repeated by the given number of times. \n",
    "\n",
    "One example is given below."
   ]
  },
  {
   "cell_type": "raw",
   "metadata": {},
   "source": [
    "What is your name? NUS Biz\n",
    "What is the scale of passion? 3\n",
    "\n",
    "\n",
    "Give me an N: \n",
    "N!!!\n",
    "Give me a U: \n",
    "U!!!\n",
    "Give me an S: \n",
    "S!!!\n",
    "Give me a B: \n",
    "B!!!\n",
    "Give me an I: \n",
    "I!!!\n",
    "Give me a Z: \n",
    "Z!!!\n",
    "What's that spell?\n",
    "NUS Biz!!\n",
    "\n",
    "\n",
    "Go! Go! NUS Biz!!\n",
    "Go! Go! NUS Biz!!\n",
    "Go! Go! NUS Biz!!"
   ]
  },
  {
   "cell_type": "markdown",
   "metadata": {},
   "source": [
    "**Solution**:"
   ]
  },
  {
   "cell_type": "code",
   "execution_count": 7,
   "metadata": {},
   "outputs": [
    {
     "name": "stdout",
     "output_type": "stream",
     "text": [
      "What is your name? NUS Biz\n",
      "What is the scale of passion? 3\n",
      "Give me an N: \n",
      "N!!!\n",
      "Give me a U: \n",
      "U!!!\n",
      "Give me an S: \n",
      "S!!!\n",
      "Give me a B: \n",
      "B!!!\n",
      "Give me an I: \n",
      "I!!!\n",
      "Give me a Z: \n",
      "Z!!!\n",
      "What's that spell? \n",
      "NUS Biz!! \n",
      "\n",
      "\n",
      "Go! Go! NUS Biz!!\n",
      "Go! Go! NUS Biz!!\n",
      "Go! Go! NUS Biz!!\n",
      "\n"
     ]
    }
   ],
   "source": [
    "name = str(input(\"What is your name? \"))\n",
    "name1 = name.upper()\n",
    "scale = int(input(\"What is the scale of passion? \"))\n",
    "alphabets = [\"A\",\"E\",\"F\",\"H\",\"I\",\"L\",\"M\",\"N\",\"O\",\"R\",\"S\",\"X\"]\n",
    "\n",
    "for i in range(len(name)):\n",
    "    if name1[i]==\" \":\n",
    "        continue\n",
    "    elif name1[i] in alphabets:\n",
    "        print (\"Give me an %s: \\n%s!!!\" %(name1[i], name1[i]))\n",
    "    else:\n",
    "        print (\"Give me a %s: \\n%s!!!\" %(name1[i], name1[i]))\n",
    "\n",
    "print (\"What's that spell? \\n%s!! \\n\\n\" % name)\n",
    "print ((\"Go! Go! %s!!\\n\" %name)*scale)\n",
    "    "
   ]
  },
  {
   "cell_type": "code",
   "execution_count": null,
   "metadata": {},
   "outputs": [],
   "source": []
  }
 ],
 "metadata": {
  "kernelspec": {
   "display_name": "Python 3",
   "language": "python",
   "name": "python3"
  },
  "language_info": {
   "codemirror_mode": {
    "name": "ipython",
    "version": 3
   },
   "file_extension": ".py",
   "mimetype": "text/x-python",
   "name": "python",
   "nbconvert_exporter": "python",
   "pygments_lexer": "ipython3",
   "version": "3.8.5"
  }
 },
 "nbformat": 4,
 "nbformat_minor": 2
}
