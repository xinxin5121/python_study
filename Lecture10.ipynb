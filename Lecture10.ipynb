{
 "cells": [
  {
   "cell_type": "markdown",
   "metadata": {},
   "source": [
    "# Lecture 10: Predictive Modeling: Classification\n",
    "\n",
    "## Contents\n",
    "\n",
    "- [Imports](#section1)\n",
    "- [Introduction to classification](#section2) \n",
    "- [Logistic regression](#section3)\n",
    "    - [Logistic function](#subsection3.1)\n",
    "    - [Cross-validation for assessing model performance](#subsection3.2)\n",
    "- [Linear discriminant analysis](#section4)\n",
    "- [Quadratic discriminant analysis](#section5)\n",
    "- [Support vector machines](#section6)\n",
    "    - [Maximal margin classifier for well separated classes](#subsection6.1)\n",
    "    - [Support vector classifier](#subsection6.2)\n",
    "    - [Support vector machine classifier](#subsection6.3)\n",
    "- [K-nearest neighbor classification](#section7)\n",
    "- [Case studies](#section8)\n",
    "    - [Case study 1: Bank marketing](#subsection8.1)"
   ]
  },
  {
   "cell_type": "markdown",
   "metadata": {},
   "source": [
    " "
   ]
  },
  {
   "cell_type": "markdown",
   "metadata": {},
   "source": [
    "## Imports <a id=\"section1\"></a>"
   ]
  },
  {
   "cell_type": "code",
   "execution_count": 1,
   "metadata": {
    "scrolled": true
   },
   "outputs": [],
   "source": [
    "import pandas as pd\n",
    "import numpy as np\n",
    "import matplotlib.pyplot as plt\n",
    "from numpy import random as rd\n",
    "\n",
    "pd.set_option(\"display.max_columns\", 10, \n",
    "              \"display.max_rows\", 7)                    # Diaply configuration of Pandas data frame\n",
    "\n",
    "from sklearn.pipeline import Pipeline \n",
    "from sklearn.model_selection import cross_val_score  \n",
    "from sklearn.model_selection import cross_val_predict\n",
    "from sklearn.model_selection import ShuffleSplit\n",
    "from sklearn.model_selection import KFold\n",
    "from sklearn.model_selection import GridSearchCV        \n",
    "from sklearn.preprocessing import MinMaxScaler\n",
    "\n",
    "from sklearn.linear_model import LinearRegression\n",
    "from sklearn.linear_model import LogisticRegression\n",
    "from sklearn.svm import SVC \n",
    "from sklearn.discriminant_analysis import LinearDiscriminantAnalysis\n",
    "from sklearn.discriminant_analysis import QuadraticDiscriminantAnalysis\n",
    "from sklearn.neighbors import KNeighborsClassifier\n",
    "\n",
    "from sklearn.metrics import confusion_matrix\n",
    "from sklearn.metrics import auc\n",
    "from sklearn.metrics import roc_curve"
   ]
  },
  {
   "cell_type": "code",
   "execution_count": 2,
   "metadata": {},
   "outputs": [],
   "source": [
    "import os\n",
    "os.chdir('/Users/Xinwei/Desktop/BMK5202 Py for BA/Dataset')"
   ]
  },
  {
   "cell_type": "markdown",
   "metadata": {},
   "source": [
    " "
   ]
  },
  {
   "cell_type": "markdown",
   "metadata": {},
   "source": [
    "## Introduction to classification<a id=\"section2\"></a>\n",
    "\n",
    "> *We now turn our focus to building and evaluating models for a categorical response. Although many of the regression modeling techniques can also be used for classification, the way we evaluate model performance is necessarily very different since metrics like RMSE and $R^2$ are not appropriate in the context of classification.* - [Applied Predictive Modeling](https://vuquangnguyen2016.files.wordpress.com/2018/03/applied-predictive-modeling-max-kuhn-kjell-johnson_1518.pdf)\n",
    "\n",
    "Examples of classification problems:\n",
    "- A person arrives at the emergency room with a set of symptoms that could possibly be attributed to one of three medical conditions. Which of the three conditions does the individual have?\n",
    "- An online banking service must be able to determine whether or not a transaction being performed on the site is fraudulent, on the basis of the user’s IP address, past transaction history, and so forth.\n",
    "- On the basis of DNA sequence data for a number of patients with and without a given disease, a biologist would like to figure out which DNA mutations are deleterious (disease-causing) and which are not.\n",
    "\n",
    "## Logistic regression <a id=\"section3\"></a>\n",
    "\n",
    "> *Classification models usually generate two types of predictions. Like regression models, classification models produce a continuous valued prediction, which is usually in the form of a probability (i.e., the predicted values of class membership for any individual sample are between 0 and 1 and sum to 1). In addition to a continuous prediction, classification models generate a predicted class, which comes in the form of a discrete category.* - [Applied Predictive Modeling](https://vuquangnguyen2016.files.wordpress.com/2018/03/applied-predictive-modeling-max-kuhn-kjell-johnson_1518.pdf)\n",
    "\n",
    "In this section, we will use a logistic regression model to explain the basic concepts of classification, such as:\n",
    "- How to produce a continuous prediction as the probability;\n",
    "- How to determine the predicted class based on the probability value;\n",
    "- How to assess the performance of a classification model.\n",
    "\n",
    "<div class=\"alert alert-block alert-success\">\n",
    "<b>Example 1:</b>  \n",
    "    Consider the credit card default dataset \"default.csv\", where the response <b>default</b> falls into one of two categories, \"Yes\" or \"No\". Try to predict the status of <b>default</b> using the predictor variable <b>balance</b>.\n",
    "</div>\n",
    "\n",
    "The dataset \"default.csv\" is imported and the categorical variables are converted into dummies by the following code cell. The categorical response <code>default</code> is converted into the dummy variable <code>default_Yes</code>."
   ]
  },
  {
   "cell_type": "code",
   "execution_count": 2,
   "metadata": {
    "scrolled": true
   },
   "outputs": [
    {
     "data": {
      "text/html": [
       "<div>\n",
       "<style scoped>\n",
       "    .dataframe tbody tr th:only-of-type {\n",
       "        vertical-align: middle;\n",
       "    }\n",
       "\n",
       "    .dataframe tbody tr th {\n",
       "        vertical-align: top;\n",
       "    }\n",
       "\n",
       "    .dataframe thead th {\n",
       "        text-align: right;\n",
       "    }\n",
       "</style>\n",
       "<table border=\"1\" class=\"dataframe\">\n",
       "  <thead>\n",
       "    <tr style=\"text-align: right;\">\n",
       "      <th></th>\n",
       "      <th>balance</th>\n",
       "      <th>income</th>\n",
       "      <th>default_Yes</th>\n",
       "      <th>student_Yes</th>\n",
       "    </tr>\n",
       "  </thead>\n",
       "  <tbody>\n",
       "    <tr>\n",
       "      <th>0</th>\n",
       "      <td>729.526495</td>\n",
       "      <td>44361.62507</td>\n",
       "      <td>0</td>\n",
       "      <td>0</td>\n",
       "    </tr>\n",
       "    <tr>\n",
       "      <th>1</th>\n",
       "      <td>817.180407</td>\n",
       "      <td>12106.13470</td>\n",
       "      <td>0</td>\n",
       "      <td>1</td>\n",
       "    </tr>\n",
       "    <tr>\n",
       "      <th>2</th>\n",
       "      <td>1073.549164</td>\n",
       "      <td>31767.13895</td>\n",
       "      <td>0</td>\n",
       "      <td>0</td>\n",
       "    </tr>\n",
       "    <tr>\n",
       "      <th>...</th>\n",
       "      <td>...</td>\n",
       "      <td>...</td>\n",
       "      <td>...</td>\n",
       "      <td>...</td>\n",
       "    </tr>\n",
       "    <tr>\n",
       "      <th>9997</th>\n",
       "      <td>845.411989</td>\n",
       "      <td>58636.15698</td>\n",
       "      <td>0</td>\n",
       "      <td>0</td>\n",
       "    </tr>\n",
       "    <tr>\n",
       "      <th>9998</th>\n",
       "      <td>1569.009053</td>\n",
       "      <td>36669.11236</td>\n",
       "      <td>0</td>\n",
       "      <td>0</td>\n",
       "    </tr>\n",
       "    <tr>\n",
       "      <th>9999</th>\n",
       "      <td>200.922183</td>\n",
       "      <td>16862.95232</td>\n",
       "      <td>0</td>\n",
       "      <td>1</td>\n",
       "    </tr>\n",
       "  </tbody>\n",
       "</table>\n",
       "<p>10000 rows × 4 columns</p>\n",
       "</div>"
      ],
      "text/plain": [
       "          balance       income  default_Yes  student_Yes\n",
       "0      729.526495  44361.62507            0            0\n",
       "1      817.180407  12106.13470            0            1\n",
       "2     1073.549164  31767.13895            0            0\n",
       "...           ...          ...          ...          ...\n",
       "9997   845.411989  58636.15698            0            0\n",
       "9998  1569.009053  36669.11236            0            0\n",
       "9999   200.922183  16862.95232            0            1\n",
       "\n",
       "[10000 rows x 4 columns]"
      ]
     },
     "execution_count": 2,
     "metadata": {},
     "output_type": "execute_result"
    }
   ],
   "source": [
    "credit = pd.read_csv('default.csv')\n",
    "credit_num = pd.get_dummies(credit, drop_first=True)\n",
    "credit_num"
   ]
  },
  {
   "cell_type": "markdown",
   "metadata": {},
   "source": [
    "The dummy variable <code>default_Yes</code> equals one for default (\"Yes\"), and zero for not default (\"No\"), so it is natural to take anything between zero and one as the probability of default. \n",
    "\n",
    "### Logistic function <a id=\"subsection3.1\"></a>\n",
    "\n",
    "According to the interpretation above, we will first try a linear regression model\n",
    "$$\n",
    "y_{\\text{prob}} = \\beta_0 + \\beta_1 x_{\\text{balance}}\n",
    "$$\n",
    "for fitting the probability value. The results are given below (Figure 4.2 on page 131 of the reference book [An Introduction to Statistical Learning-with Applications in R](https://web.stanford.edu/~hastie/ISLRv2_website.pdf))."
   ]
  },
  {
   "cell_type": "code",
   "execution_count": 3,
   "metadata": {
    "scrolled": true
   },
   "outputs": [
    {
     "data": {
      "image/png": "[encoded data removed]",
      "text/plain": [
       "<Figure size 432x288 with 1 Axes>"
      ]
     },
     "metadata": {
      "needs_background": "light"
     },
     "output_type": "display_data"
    }
   ],
   "source": [
    "x = credit_num[['balance']]\n",
    "y = credit_num['default_Yes']\n",
    "\n",
    "regr = LinearRegression() \n",
    "regr.fit(x, y)                                          # Fitting the LR model with x, y training data    \n",
    "x_pred = np.arange(0, 2701).reshape((2701, 1))          # New x values to be predicted\n",
    "y_pred = regr.predict(x_pred)                           # Predicted y values\n",
    "\n",
    "plt.hlines(1, xmin=0, xmax=2700, linestyle='--')        # False-level horizontal line\n",
    "plt.hlines(0, xmin=0, xmax=2700, linestyle='--')        # True-level horizontal line\n",
    "plt.scatter(x, y, marker='|', c='orange', alpha=0.5)    # Scatter points of sample data\n",
    "plt.plot(x_pred, y_pred,                                # x and y data of the regression curve\n",
    "         linewidth=2, alpha=0.5, color='b')\n",
    "\n",
    "plt.xlabel('balance ($)', fontsize=14)\n",
    "plt.ylabel('defualt_Yes', fontsize=14)\n",
    "plt.show()"
   ]
  },
  {
   "cell_type": "markdown",
   "metadata": {},
   "source": [
    "Clearly the linear regression model is not a suitable tool for capturing the probability: for <code>balance</code> values close to zero we predict a negative probability of default; if we were to predict for very large values of <code>balance</code>, we would get values bigger than one. These predictions are not sensible, since of course the true probability of default, regardless of credit card balance, must fall between zero and one. In fact, given the zero-one boundary of the probability, the regression function is unlikely to be linear. \n",
    "\n",
    "To avoid this problem, the probability is captured by a **logistic function**, expressed as follows:\n",
    "$$\n",
    "y_{\\text{prob}} = \\frac{\\exp\\left(\\beta_0 + \\beta_1 x_{\\text{balance}}\\right)}{1+\\exp\\left(\\beta_0 + \\beta_1 x_{\\text{balance}}\\right)}.\n",
    "$$\n",
    "It can be seen that as the term $\\beta_0 + \\beta_1 x_{\\text{balance}}$ goes to infinity, we have $y_{\\text{prob}}$ approaches one, and as it goes to negative infinity, $\\exp\\left(\\beta_0 + \\beta_1 x_{\\text{balance}}\\right)$ goes to zero, thus $y_{\\text{prob}}$ approaches zero. By using the logistic function, we could implement the **logistic regression model** which predict the continuous probabilities as follows. "
   ]
  },
  {
   "cell_type": "code",
   "execution_count": 4,
   "metadata": {},
   "outputs": [],
   "source": [
    "logit = LogisticRegression() \n",
    "logit.fit(x, y)                                         # Fitting the LR model with x, y training data    \n",
    "x_pred = np.arange(0, 2701).reshape((2701, 1))          # New x values to be predicted\n",
    "y_proba = logit.predict_proba(x_pred)                   # Predicted probabilities of y being one or zero"
   ]
  },
  {
   "cell_type": "markdown",
   "metadata": {},
   "source": [
    "Note that `y_proba` is a two-column two-dimensional array, where the first column represent the predicted probability of `default_Yes=0`, and the second column is the predicted probability of `default_Yes=1`. "
   ]
  },
  {
   "cell_type": "code",
   "execution_count": 5,
   "metadata": {
    "scrolled": true
   },
   "outputs": [
    {
     "data": {
      "text/plain": [
       "array([[9.99976331e-01, 2.36688220e-05],\n",
       "       [9.99976201e-01, 2.37993302e-05],\n",
       "       [9.99976069e-01, 2.39305581e-05],\n",
       "       ...,\n",
       "       [1.49977179e-02, 9.85002282e-01],\n",
       "       [1.49166999e-02, 9.85083300e-01],\n",
       "       [1.48361129e-02, 9.85163887e-01]])"
      ]
     },
     "execution_count": 5,
     "metadata": {},
     "output_type": "execute_result"
    }
   ],
   "source": [
    "y_proba"
   ]
  },
  {
   "cell_type": "markdown",
   "metadata": {},
   "source": [
    "It is easy to verify that the summation of probabilities of these two scenarios is one."
   ]
  },
  {
   "cell_type": "code",
   "execution_count": 6,
   "metadata": {
    "scrolled": true
   },
   "outputs": [
    {
     "data": {
      "text/plain": [
       "array([1., 1., 1., ..., 1., 1., 1.])"
      ]
     },
     "execution_count": 6,
     "metadata": {},
     "output_type": "execute_result"
    }
   ],
   "source": [
    "y_proba.sum(axis=1)"
   ]
  },
  {
   "cell_type": "markdown",
   "metadata": {},
   "source": [
    "Besides Besides using the `pred_proba()` method to predict the probability of default/not default, we may also use the `predict()` method to determine if predicted value for `default_Yes`. As a default setting of the two-class model, the prediction for `default_Yes` is one if the predicted probability of default is higher than the threshold value 0.5, otherwise the prediction is zero."
   ]
  },
  {
   "cell_type": "code",
   "execution_count": 7,
   "metadata": {},
   "outputs": [
    {
     "data": {
      "text/plain": [
       "array([0, 0, 0, ..., 1, 1, 1], dtype=uint8)"
      ]
     },
     "execution_count": 7,
     "metadata": {},
     "output_type": "execute_result"
    }
   ],
   "source": [
    "y_pred = logit.predict(x_pred)\n",
    "y_pred"
   ]
  },
  {
   "cell_type": "markdown",
   "metadata": {},
   "source": [
    "Based on the results, above, we can replicate Figure 4.2 on page 131 of the reference book [An Introduction to Statistical Learning-with Applications in R](https://web.stanford.edu/~hastie/ISLRv2_website.pdf))."
   ]
  },
  {
   "cell_type": "code",
   "execution_count": 8,
   "metadata": {
    "scrolled": false
   },
   "outputs": [
    {
     "data": {
      "image/png": "[encoded data removed]",
      "text/plain": [
       "<Figure size 432x288 with 1 Axes>"
      ]
     },
     "metadata": {
      "needs_background": "light"
     },
     "output_type": "display_data"
    }
   ],
   "source": [
    "plt.hlines(1, xmin=0, xmax=2700, linestyle='--')        # False-level horizontal line\n",
    "plt.hlines(0, xmin=0, xmax=2700, linestyle='--')        # True-level horizontal line\n",
    "plt.scatter(x, y, marker='|', c='orange', alpha=0.5)    # Scatter points of sample data\n",
    "plt.plot(x_pred, y_proba[:, 1],                         # x and y data of the regression curve\n",
    "         linewidth=2, alpha=0.5, color='b')\n",
    "plt.plot(x_pred, y_pred, \n",
    "         linewidth=3, color='r')\n",
    "\n",
    "plt.xlabel('balance ($)', fontsize=14)\n",
    "plt.ylabel('defualt_Yes', fontsize=14)\n",
    "plt.show()"
   ]
  },
  {
   "cell_type": "markdown",
   "metadata": {},
   "source": [
    "### Cross-validation for assessing model performance <a id=\"subsection3.2\"></a>\n",
    "\n",
    "Following the examples we discussed in the previous lecture, we could use the `cross_val_score()` function to conduct cross-validation for the classification model. In the default setting, the `cross_val_score()` function uses the overall prediction accuracy on the test set as the score of each fold, and you may use other scoring metrics, provided [here](https://scikit-learn.org/stable/modules/model_evaluation.html#scoring-parameter). "
   ]
  },
  {
   "cell_type": "code",
   "execution_count": 14,
   "metadata": {},
   "outputs": [
    {
     "data": {
      "text/plain": [
       "array([0.9708, 0.9728, 0.972 , 0.974 ])"
      ]
     },
     "execution_count": 14,
     "metadata": {},
     "output_type": "execute_result"
    }
   ],
   "source": [
    "x = credit_num[['balance']]\n",
    "y = credit_num['default_Yes']\n",
    "\n",
    "regr = LogisticRegression() \n",
    "cross_val_score(regr, x, y, cv=4)"
   ]
  },
  {
   "cell_type": "markdown",
   "metadata": {},
   "source": [
    "It seems that the logistic regression model produces very accurate predictions, as the accuracy for each fold is higher than $95\\%$. Notice that our dataset is highly imbalanced in the sense that nearly $97\\%$ of observations are 'not default', and only about $3%$ are 'default', so even if we constantly predict 'not default', we would have a roughly $97\\%$ accuracy."
   ]
  },
  {
   "cell_type": "code",
   "execution_count": 15,
   "metadata": {},
   "outputs": [
    {
     "data": {
      "text/plain": [
       "0    0.9667\n",
       "1    0.0333\n",
       "Name: default_Yes, dtype: float64"
      ]
     },
     "execution_count": 15,
     "metadata": {},
     "output_type": "execute_result"
    }
   ],
   "source": [
    "y.value_counts(normalize=True)"
   ]
  },
  {
   "cell_type": "markdown",
   "metadata": {},
   "source": [
    "Compared with the overall accuracy, a much better way to evaluate the performance of a classification model is to look at the **confusion matrix**, which shows the prediction accuracy of each class. The confusion matrix is based on the comparison between the true values of the qualitative dependent variable `y` and its predicted values. "
   ]
  },
  {
   "cell_type": "code",
   "execution_count": 16,
   "metadata": {
    "scrolled": false
   },
   "outputs": [
    {
     "data": {
      "text/plain": [
       "array([[0.99565532, 0.00434468],\n",
       "       [0.7027027 , 0.2972973 ]])"
      ]
     },
     "execution_count": 16,
     "metadata": {},
     "output_type": "execute_result"
    }
   ],
   "source": [
    "y_pred = cross_val_predict(regr, x, y, cv=4)                \n",
    "confusion = confusion_matrix(y, y_pred, normalize='true')\n",
    "confusion"
   ]
  },
  {
   "cell_type": "code",
   "execution_count": 17,
   "metadata": {},
   "outputs": [
    {
     "data": {
      "text/html": [
       "<div>\n",
       "<style scoped>\n",
       "    .dataframe tbody tr th:only-of-type {\n",
       "        vertical-align: middle;\n",
       "    }\n",
       "\n",
       "    .dataframe tbody tr th {\n",
       "        vertical-align: top;\n",
       "    }\n",
       "\n",
       "    .dataframe thead th {\n",
       "        text-align: right;\n",
       "    }\n",
       "</style>\n",
       "<table border=\"1\" class=\"dataframe\">\n",
       "  <thead>\n",
       "    <tr style=\"text-align: right;\">\n",
       "      <th></th>\n",
       "      <th>Predicted not default</th>\n",
       "      <th>Predicted default</th>\n",
       "    </tr>\n",
       "  </thead>\n",
       "  <tbody>\n",
       "    <tr>\n",
       "      <th>True not default</th>\n",
       "      <td>0.995655</td>\n",
       "      <td>0.004345</td>\n",
       "    </tr>\n",
       "    <tr>\n",
       "      <th>True default</th>\n",
       "      <td>0.702703</td>\n",
       "      <td>0.297297</td>\n",
       "    </tr>\n",
       "  </tbody>\n",
       "</table>\n",
       "</div>"
      ],
      "text/plain": [
       "                  Predicted not default  Predicted default\n",
       "True not default               0.995655           0.004345\n",
       "True default                   0.702703           0.297297"
      ]
     },
     "execution_count": 17,
     "metadata": {},
     "output_type": "execute_result"
    }
   ],
   "source": [
    "pd.DataFrame(confusion, \n",
    "             index=['True not default', 'True default'], \n",
    "             columns=['Predicted not default', 'Predicted default'])"
   ]
  },
  {
   "cell_type": "markdown",
   "metadata": {},
   "source": [
    "It can be seen that we have a very high level of accuracy for predicting \"not default\" cases, while for \"default\" cases, there is a $70\\%$ chance of predicting the \"default\" cases as \"not default\". The results suggest that it may not be a good idea to take the threshold value to be 0.5, as the great majority of the observations are 'not default' cases. We will try to adjust the threshold value for determining the predicted class and see if the prediction accuracy for the 'default' case can be improved. \n",
    "\n",
    "Notice that different threshold values lead to different trade-offs between lower false positive rates and higher true positive rates. The following code cell retrieves the predicted probabilities for the 'not default' and 'default' cases."
   ]
  },
  {
   "cell_type": "code",
   "execution_count": 18,
   "metadata": {
    "scrolled": true
   },
   "outputs": [
    {
     "data": {
      "text/plain": [
       "array([[9.98645434e-01, 1.35456646e-03],\n",
       "       [9.97824410e-01, 2.17558988e-03],\n",
       "       [9.91337533e-01, 8.66246725e-03],\n",
       "       ...,\n",
       "       [9.97656620e-01, 2.34337970e-03],\n",
       "       [8.81030900e-01, 1.18969100e-01],\n",
       "       [9.99936376e-01, 6.36236742e-05]])"
      ]
     },
     "execution_count": 18,
     "metadata": {},
     "output_type": "execute_result"
    }
   ],
   "source": [
    "y_proba = cross_val_predict(regr, x, y, cv=4, method='predict_proba')\n",
    "y_proba"
   ]
  },
  {
   "cell_type": "code",
   "execution_count": 19,
   "metadata": {},
   "outputs": [
    {
     "data": {
      "text/plain": [
       "array([1., 1., 1., ..., 1., 1., 1.])"
      ]
     },
     "execution_count": 19,
     "metadata": {},
     "output_type": "execute_result"
    }
   ],
   "source": [
    "y_proba.sum(axis=1)"
   ]
  },
  {
   "cell_type": "markdown",
   "metadata": {},
   "source": [
    "The probabilities of the 'default' cases, as the second column of the array `y_proba`, is used to visualize the trade-off between the false positive rates and the false negative rates (The diagram is similar to Figure 4.7 in the reference book). "
   ]
  },
  {
   "cell_type": "code",
   "execution_count": 20,
   "metadata": {
    "scrolled": true
   },
   "outputs": [
    {
     "data": {
      "image/png": "[encoded data removed]",
      "text/plain": [
       "<Figure size 432x288 with 1 Axes>"
      ]
     },
     "metadata": {
      "needs_background": "light"
     },
     "output_type": "display_data"
    }
   ],
   "source": [
    "fpr, tpr, thrds = roc_curve(y, y_proba[:, 1])   # False/True possitive rates, and thresholds\n",
    "\n",
    "plt.plot(thrds, fpr, \n",
    "         c='b', linewidth=2, \n",
    "         label='False positive rate')           # Plot the curve for false postive rate\n",
    "plt.plot(thrds, 1-tpr,  \n",
    "         c='r', linewidth=2, \n",
    "         label='False negative rate')           # Plot the curve for flase negative rate\n",
    "plt.legend(fontsize=14, \n",
    "           loc='upper left')\n",
    "plt.xlabel('Threshould value', fontsize=14)\n",
    "plt.ylabel('Error rates', fontsize=14)\n",
    "plt.xlim([-0.05, 1])\n",
    "plt.show()"
   ]
  },
  {
   "cell_type": "markdown",
   "metadata": {},
   "source": [
    "In the code segment above, the false/true positive rates and their corresponding threshold values are directly calculated by the function `roc_curve` imported from the `sklearn.metrics` package. Such a trade-off curve can also be visualized by the so called **ROC curve** (similar to Figure 4.8 in the reference book), or **receiver operating characteristics curve**, as a phrase coming from communication theory. "
   ]
  },
  {
   "cell_type": "code",
   "execution_count": 21,
   "metadata": {},
   "outputs": [
    {
     "data": {
      "image/png": "[encoded data removed]",
      "text/plain": [
       "<Figure size 324x324 with 1 Axes>"
      ]
     },
     "metadata": {
      "needs_background": "light"
     },
     "output_type": "display_data"
    }
   ],
   "source": [
    "fpr, tpr, thrds = roc_curve(y, y_proba[:, 1])               # False/True possitive rates, and thresholds\n",
    "\n",
    "plt.figure(figsize=(4.5, 4.5))\n",
    "plt.fill_between(fpr, y1=0, y2=tpr, \n",
    "                 color='orange', alpha=0.3, label='AUC')    # Plot AUC\n",
    "plt.plot(fpr, tpr, \n",
    "         c='b', linewidth=2, label='ROC')                   # Plot ROC\n",
    "plt.plot([0, 1], [0, 1], \n",
    "         c='r', linewidth=2, alpha=0.5, linestyle='--')\n",
    "plt.legend(fontsize=14, bbox_to_anchor=(1.01, 1.04))\n",
    "plt.xlabel('False positive rate', fontsize=14)\n",
    "plt.ylabel('True positive rate', fontsize=14)\n",
    "plt.axis('equal')\n",
    "plt.show()"
   ]
  },
  {
   "cell_type": "markdown",
   "metadata": {},
   "source": [
    "The **area under the (ROC) curve** is referred to as the AUC value, which indicates the overall performance of a model under all threshold values. The AUC value can be obtained by the function <code>auc()</code>, also imported from the <code>sklearn.metrics</code> package."
   ]
  },
  {
   "cell_type": "code",
   "execution_count": 22,
   "metadata": {},
   "outputs": [
    {
     "data": {
      "text/plain": [
       "0.9478905822135366"
      ]
     },
     "execution_count": 22,
     "metadata": {},
     "output_type": "execute_result"
    }
   ],
   "source": [
    "auc(fpr, tpr)"
   ]
  },
  {
   "cell_type": "markdown",
   "metadata": {},
   "source": [
    "The \"best\" threshold value for a classifier is usually determined in a case-by-case manner. One method is find the threshold value that maximizes the [Youden's J statistic](https://en.wikipedia.org/wiki/Youden%27s_J_statistic)"
   ]
  },
  {
   "cell_type": "code",
   "execution_count": 23,
   "metadata": {
    "scrolled": false
   },
   "outputs": [
    {
     "data": {
      "text/plain": [
       "0.03163468572645418"
      ]
     },
     "execution_count": 23,
     "metadata": {},
     "output_type": "execute_result"
    }
   ],
   "source": [
    "j_values = tpr - fpr                    # Youden's J statistic\n",
    "thrd_best = thrds[np.argmax(j_values)]  # Best threshold from J statistic\n",
    "thrd_best"
   ]
  },
  {
   "cell_type": "markdown",
   "metadata": {},
   "source": [
    "The confusion matrix for the new threshold value is given below. It can be seen that the prediction accuracy for the \"default\" cases is improved to nearly $90\\%$, while the prediction accuracy for the \"not default\" cases drops to around $86\\%$."
   ]
  },
  {
   "cell_type": "code",
   "execution_count": 19,
   "metadata": {
    "scrolled": false
   },
   "outputs": [
    {
     "data": {
      "text/html": [
       "<div>\n",
       "<style scoped>\n",
       "    .dataframe tbody tr th:only-of-type {\n",
       "        vertical-align: middle;\n",
       "    }\n",
       "\n",
       "    .dataframe tbody tr th {\n",
       "        vertical-align: top;\n",
       "    }\n",
       "\n",
       "    .dataframe thead th {\n",
       "        text-align: right;\n",
       "    }\n",
       "</style>\n",
       "<table border=\"1\" class=\"dataframe\">\n",
       "  <thead>\n",
       "    <tr style=\"text-align: right;\">\n",
       "      <th></th>\n",
       "      <th>Predicted not default</th>\n",
       "      <th>Predicted default</th>\n",
       "    </tr>\n",
       "  </thead>\n",
       "  <tbody>\n",
       "    <tr>\n",
       "      <th>True not default</th>\n",
       "      <td>0.859005</td>\n",
       "      <td>0.140995</td>\n",
       "    </tr>\n",
       "    <tr>\n",
       "      <th>True default</th>\n",
       "      <td>0.102102</td>\n",
       "      <td>0.897898</td>\n",
       "    </tr>\n",
       "  </tbody>\n",
       "</table>\n",
       "</div>"
      ],
      "text/plain": [
       "                  Predicted not default  Predicted default\n",
       "True not default               0.859005           0.140995\n",
       "True default                   0.102102           0.897898"
      ]
     },
     "execution_count": 19,
     "metadata": {},
     "output_type": "execute_result"
    }
   ],
   "source": [
    "y_pred = (y_proba[:, 1] > thrd_best).astype(int)\n",
    "confusion = confusion_matrix(y, y_pred, normalize='true')\n",
    "pd.DataFrame(confusion, \n",
    "             index=['True not default', 'True default'], \n",
    "             columns=['Predicted not default', 'Predicted default'])"
   ]
  },
  {
   "cell_type": "markdown",
   "metadata": {},
   "source": [
    "In this section, only one predictor variable $x_{\\text{balance}}$ is considered so that the model is simple enough to illustrate the basic concepts of logistic regression. In real applications, this approach and software tools can be easily extended to cases with multiple predictor variables.\n",
    "\n",
    "Here, we also create a simulated dataset with different patterns such that\n",
    "- There are two independent variables, $x_1$ and $x_2$;\n",
    "- The response variable $y$ may belong to one of two classes;\n",
    "- For both classes, 30 observations are randomly generated.\n",
    "\n",
    "You may use the [Programming for Business Analytics](https://share.streamlit.io/xiongpengnus/learn_dao/main/web.py) website to explore how the logistic regression model can be used to fit the simulated datasets. The graph below shows an example of fitting well separated data using logistic regression.\n",
    "\n",
    "<img src=\"https://github.com/XiongPengNUS/dao_resources/blob/main/logreg_sep.png?raw=true\" width=500>\n",
    "\n",
    "Logistic regression models are typically used for the forecast of qualitative variables with two categories, though they have the potential to predict values with more than two classes. A few models that are more popular for multiple-class classifications are introduced in the next a few sections."
   ]
  },
  {
   "cell_type": "markdown",
   "metadata": {},
   "source": [
    " "
   ]
  },
  {
   "cell_type": "markdown",
   "metadata": {},
   "source": [
    "## Linear discriminant analysis <a id=\"section4\"></a>\n",
    "\n",
    "In this section, we will introduce a new method called linear discriminant analysis (LDA). It might outperform the logistic regression classifier under the following circumstances:\n",
    "> - *When the classes are well-separated, the parameter estimates for the logistic regression model are surprisingly unstable. Linear discriminant analysis does not suffer from this problem.*\n",
    "> - *If n is small and the distribution of the predictors X is approximately normal in each of the classes, the linear discriminant model is again more stable than the logistic regression model.*\n",
    "> - *As mentioned in Section 4.3.5, linear discriminant analysis is popular\n",
    "when we have more than two response classes.* - [An Introduction to Statistical Learning-with Applications in R](https://faculty.marshall.usc.edu/gareth-james/ISL/ISLR%20Seventh%20Printing.pdf))\n",
    "\n",
    "Suppose that $\\pmb{x}=(x_1, x_2, ..., x_p)$ is the vector of $p$ independent variables, and $y$ is the categorical response with $K$ classes. Let $f_K(\\pmb{x})$ denote the density function of $x$ for an observation that comes from the $k$th class, then according to Bayes' Theorem we have\n",
    "\n",
    "$$\n",
    "p_k(\\pmb{x}) = \\frac{\\pi_kf_k(\\pmb{x})}{\\sum_{l=1}^K\\pi_l f_l(\\pmb{x})},\n",
    "$$\n",
    "\n",
    "where $p_k(\\pmb{x}) = \\mathbb{P}(y=k|\\pmb{x})$ denotes the *posterior* probability that an observation $\\pmb{x}$ belongs to the $k$th class, and $\\pi_k$ is the probability of response observations that belong to the $k$th class. Apparently, the response variable $y$ is predicted to be the $k$th class if $p_k(\\pmb{x})$ is the largest among posterior probabilities of all $K$ classes. \n",
    "\n",
    "Estimating the density function $f_k(\\pmb{x})$ is challenging, unless we assume some simple forms for the function, such as for the $k$th class, $\\pmb{x}$ follows a multivariate Gaussian distribution $N(\\pmb{\\mu}_k, \\pmb{\\Sigma})$, $f_k(\\pmb{x})$ can be hence written as\n",
    "\n",
    "$$\n",
    "f_k(\\pmb{x}) = \\frac{1}{(2\\pi)^{p/2}|\\pmb{\\Sigma}|^{1/2}}\\exp\\left(-\\frac{1}{2}(\\pmb{x}-\\pmb{\\mu}_k)^{\\top}\\pmb{\\Sigma}^{-1}(\\pmb{x}-\\pmb{\\mu}_k)\\right),\n",
    "$$\n",
    "\n",
    "where $\\pmb{\\mu}_k$ is the vector of mean values of $\\pmb{x}$ belonging to the $k$th class, and $\\pmb{\\Sigma}$ is the covariance matrix of $\\pmb{x}$ shared by all classes. \n",
    "\n",
    "By taking logarithm of the estimates of $\\pi_kf_k(\\pmb{x})$, it is easy to see that an observation $\\pmb{x}$ belongs to the $k$th class if the following linear expression (thus the name **linear discriminant**)\n",
    "\n",
    "$$\n",
    "\\delta_k(\\pmb{x}) = \\pmb{x}^{\\top}\\pmb{\\Sigma}^{-1}\\pmb{\\mu}_k - \\frac{1}{2}\\pmb{\\mu}_k^{\\top}{\\Sigma}^{-1}\\pmb{\\mu}_k + \\log\\left(\\pi_k\\right)\n",
    "$$\n",
    "\n",
    "is the largest. The linear function $\\delta(\\pmb{x})$ can be then used on a sample dataset by plugging estimates $\\hat{\\pi}_k$, $\\hat{\\pmb{\\mu}}_k$ and $\\hat{\\pmb{\\Sigma}}$ for parameters $\\pi_k$, $\\pmb{\\mu}_k$, and $\\pmb{\\Sigma}$, respectively.\n",
    "\n",
    "\n",
    "We could use the [Programming for Business Analytics](https://share.streamlit.io/xiongpengnus/learn_dao/main/web.py) website again to explore how the LDA is used to predict the class of the response variable $y$. The graph below shows an example of fitting well separated two classes using LDA.\n",
    "\n",
    "<img src=\"https://github.com/XiongPengNUS/dao_resources/blob/main/lda_pdf_sep.png?raw=true\" width=500>\n",
    "\n",
    "Note that in this example, the number of observations for each class is the same, so $\\hat{\\pi}_1=\\hat{\\pi}_2$ and it implies that the predicted classes are solely determined by the estimated density function $\\hat{f}_k(\\pmb{x})$ (shown by the dash lines). That is why the two classes are separated by a straight line where $\\hat{f}_1(\\pmb{x})=\\hat{f}_2(\\pmb{x})$. In cases that the sample size of each class is unequal, or $\\hat{\\pi}_1\\not=\\hat{\\pi}_2$, we can prove that the discriminant function is still a straight line but is shifted by a distance determined by the ratio of $\\hat{\\pi}_1/\\hat{\\pi}_2$.\n",
    "\n",
    "When different classes cannot be well separated by a linear discriminant function, the performance may not be as good as the well separated cases, as shown by the following examples.\n",
    "\n",
    "<img src=\"https://github.com/XiongPengNUS/dao_resources/blob/main/lda_pdf_nonsep.png?raw=true\">"
   ]
  },
  {
   "cell_type": "markdown",
   "metadata": {},
   "source": [
    " "
   ]
  },
  {
   "cell_type": "markdown",
   "metadata": {},
   "source": [
    "## Quadratic discriminant analysis <a id=\"section5\"></a>\n",
    "\n",
    "Recalling that in deriving the LDA method, a key assumption is that for the $k$ the class, variables $\\pmb{x}$ follows a Gaussian distribution $N(\\pmb{\\mu}_k, \\pmb{\\Sigma})$. This is a rather strong assumption, especially considering that the covariance matrix $\\pmb{\\Sigma}$ is the same for all classes. An alternative method is to assume that each class of observations has a unique covariance matrix $\\pmb{\\Sigma}_k$, then the model determines the predicted class $k$ if the expression\n",
    "\n",
    "$$\n",
    "\\delta_k(\\pmb{x}) = -\\frac{1}{2}\\pmb{x}^{\\top}\\pmb{\\Sigma}_k^{-1}\\pmb{x} + \\pmb{\\mu}_k^{\\top}\\pmb{\\Sigma}_k^{-1}\\pmb{x} - \\frac{1}{2}\\pmb{\\mu}_k^{\\top}\\pmb{\\Sigma}^{-1}\\pmb{\\mu}_k -\\frac{1}{2}\\log\\left(|\\pmb{\\Sigma}_k|\\right) + \\log\\left(\\pi_k\\right)\n",
    "$$\n",
    "\n",
    "is the largest. Notice that the function $\\delta_k(\\pmb{x})$ is a quadratic function of $\\pmb{x}$, so this method is called **quadratic discriminant analysis (QDA)**. \n",
    "\n",
    "Here, we could use the [Programming for Business Analytics](https://share.streamlit.io/xiongpengnus/learn_dao/main/web.py) website to study the intuition of the QDA method. We are particularly interested in the performance of QDA when it is applied to not well separated classes, and it is shown by the following figures, QDA outperforms LDA in predicting the response $y$.\n",
    "\n",
    "<img src=\"https://github.com/XiongPengNUS/dao_resources/blob/main/qda_pdf_nonsep.png?raw=true\">\n",
    "\n",
    "<div class=\"alert alert-block alert-success\">\n",
    "<b>Example 2:</b>  \n",
    "    Consider the dataset \"iris.csv\" for classifying iris species based on their features such as sepal length, sepal width, petal length and petal width. Please use LDA and QDA methods to predict the iris species.\n",
    "</div>\n",
    "\n",
    "<img src=\"https://miro.medium.com/max/1000/1*Hh53mOF4Xy4eORjLilKOwA.png\" width=500>"
   ]
  },
  {
   "cell_type": "code",
   "execution_count": 20,
   "metadata": {
    "scrolled": true
   },
   "outputs": [
    {
     "data": {
      "text/html": [
       "<div>\n",
       "<style scoped>\n",
       "    .dataframe tbody tr th:only-of-type {\n",
       "        vertical-align: middle;\n",
       "    }\n",
       "\n",
       "    .dataframe tbody tr th {\n",
       "        vertical-align: top;\n",
       "    }\n",
       "\n",
       "    .dataframe thead th {\n",
       "        text-align: right;\n",
       "    }\n",
       "</style>\n",
       "<table border=\"1\" class=\"dataframe\">\n",
       "  <thead>\n",
       "    <tr style=\"text-align: right;\">\n",
       "      <th></th>\n",
       "      <th>SepalLengthCm</th>\n",
       "      <th>SepalWidthCm</th>\n",
       "      <th>PetalLengthCm</th>\n",
       "      <th>PetalWidthCm</th>\n",
       "      <th>Species</th>\n",
       "    </tr>\n",
       "  </thead>\n",
       "  <tbody>\n",
       "    <tr>\n",
       "      <th>0</th>\n",
       "      <td>5.1</td>\n",
       "      <td>3.5</td>\n",
       "      <td>1.4</td>\n",
       "      <td>0.2</td>\n",
       "      <td>Iris-setosa</td>\n",
       "    </tr>\n",
       "    <tr>\n",
       "      <th>1</th>\n",
       "      <td>4.9</td>\n",
       "      <td>3.0</td>\n",
       "      <td>1.4</td>\n",
       "      <td>0.2</td>\n",
       "      <td>Iris-setosa</td>\n",
       "    </tr>\n",
       "    <tr>\n",
       "      <th>2</th>\n",
       "      <td>4.7</td>\n",
       "      <td>3.2</td>\n",
       "      <td>1.3</td>\n",
       "      <td>0.2</td>\n",
       "      <td>Iris-setosa</td>\n",
       "    </tr>\n",
       "    <tr>\n",
       "      <th>...</th>\n",
       "      <td>...</td>\n",
       "      <td>...</td>\n",
       "      <td>...</td>\n",
       "      <td>...</td>\n",
       "      <td>...</td>\n",
       "    </tr>\n",
       "    <tr>\n",
       "      <th>147</th>\n",
       "      <td>6.5</td>\n",
       "      <td>3.0</td>\n",
       "      <td>5.2</td>\n",
       "      <td>2.0</td>\n",
       "      <td>Iris-virginica</td>\n",
       "    </tr>\n",
       "    <tr>\n",
       "      <th>148</th>\n",
       "      <td>6.2</td>\n",
       "      <td>3.4</td>\n",
       "      <td>5.4</td>\n",
       "      <td>2.3</td>\n",
       "      <td>Iris-virginica</td>\n",
       "    </tr>\n",
       "    <tr>\n",
       "      <th>149</th>\n",
       "      <td>5.9</td>\n",
       "      <td>3.0</td>\n",
       "      <td>5.1</td>\n",
       "      <td>1.8</td>\n",
       "      <td>Iris-virginica</td>\n",
       "    </tr>\n",
       "  </tbody>\n",
       "</table>\n",
       "<p>150 rows × 5 columns</p>\n",
       "</div>"
      ],
      "text/plain": [
       "     SepalLengthCm  SepalWidthCm  PetalLengthCm  PetalWidthCm         Species\n",
       "0              5.1           3.5            1.4           0.2     Iris-setosa\n",
       "1              4.9           3.0            1.4           0.2     Iris-setosa\n",
       "2              4.7           3.2            1.3           0.2     Iris-setosa\n",
       "..             ...           ...            ...           ...             ...\n",
       "147            6.5           3.0            5.2           2.0  Iris-virginica\n",
       "148            6.2           3.4            5.4           2.3  Iris-virginica\n",
       "149            5.9           3.0            5.1           1.8  Iris-virginica\n",
       "\n",
       "[150 rows x 5 columns]"
      ]
     },
     "execution_count": 20,
     "metadata": {},
     "output_type": "execute_result"
    }
   ],
   "source": [
    "iris = pd.read_csv('iris.csv')\n",
    "iris"
   ]
  },
  {
   "cell_type": "markdown",
   "metadata": {},
   "source": [
    "The LDA and QDA models can be conveniently implemented by the `LinearDiscriminantAnalysis()` and `QuadraticDiscriminantAnalysis()` functions, imported from the `sklearn.discriminant_analysis` package."
   ]
  },
  {
   "cell_type": "code",
   "execution_count": 21,
   "metadata": {
    "scrolled": true
   },
   "outputs": [
    {
     "data": {
      "text/plain": [
       "array([1.        , 1.        , 1.        , 0.93333333])"
      ]
     },
     "execution_count": 21,
     "metadata": {},
     "output_type": "execute_result"
    }
   ],
   "source": [
    "lda = LinearDiscriminantAnalysis()\n",
    "x = iris.drop(columns='Species')\n",
    "y = iris['Species']\n",
    "\n",
    "cv = ShuffleSplit(n_splits=4)  \n",
    "cross_val_score(lda, x, y, cv=cv)"
   ]
  },
  {
   "cell_type": "code",
   "execution_count": 22,
   "metadata": {
    "scrolled": false
   },
   "outputs": [
    {
     "data": {
      "text/plain": [
       "array([1.        , 0.93333333, 1.        , 1.        ])"
      ]
     },
     "execution_count": 22,
     "metadata": {},
     "output_type": "execute_result"
    }
   ],
   "source": [
    "qda = QuadraticDiscriminantAnalysis()\n",
    "x = iris.drop(columns='Species')\n",
    "y = iris['Species']\n",
    "\n",
    "cv = ShuffleSplit(n_splits=4)\n",
    "cross_val_score(qda, x, y, cv=cv)"
   ]
  },
  {
   "cell_type": "markdown",
   "metadata": {},
   "source": [
    "It can be seen that LDA/QDA models perform extremely well in the iris classification problem, because these iris species can be easily separated by linear boundaries."
   ]
  },
  {
   "cell_type": "code",
   "execution_count": 25,
   "metadata": {
    "scrolled": true
   },
   "outputs": [
    {
     "data": {
      "image/png": "[encoded data removed]",
      "text/plain": [
       "<Figure size 432x288 with 1 Axes>"
      ]
     },
     "metadata": {
      "needs_background": "light"
     },
     "output_type": "display_data"
    }
   ],
   "source": [
    "xlabel = 'SepalWidthCm'\n",
    "ylabel = 'PetalLengthCm'\n",
    "\n",
    "for species in iris['Species'].unique():\n",
    "    subset = iris.loc[iris['Species'] == species]\n",
    "    plt.scatter(subset[xlabel], subset[ylabel], alpha=0.5, label=species)\n",
    "\n",
    "plt.legend(fontsize=12)\n",
    "plt.xlabel(xlabel, fontsize=14)\n",
    "plt.ylabel(ylabel, fontsize=14)\n",
    "plt.show()"
   ]
  },
  {
   "cell_type": "markdown",
   "metadata": {},
   "source": [
    " "
   ]
  },
  {
   "cell_type": "markdown",
   "metadata": {},
   "source": [
    "## Support vector machines <a id=\"section6\"></a>\n",
    "\n",
    "### Maximal margin classifier for well separated classes <a id=\"subsection6.1\"></a>\n",
    "\n",
    "Our discussion on support vector machines starts from a simple case such that:\n",
    "1. There are $p$ independent variables, denoted by $\\pmb{x}=(x_1, x_2, x_3, ..., x_p)$;\n",
    "2. The response variable $y$ belongs to one of two classes, labeled by -1 and 1.\n",
    "3. The dataset can be well separated by a **hyperplane**, expressed as $\\beta_0 + \\beta_1x_1 + \\beta_2x_2 + ... + \\beta_px_p = 0$.\n",
    "\n",
    "The figure below shows a $p=2$ dimensional example of well separated sample data. \n",
    "\n",
    "<img src=\"https://github.com/XiongPengNUS/dao_resources/blob/main/data_sep.png?raw=true\" width=360>\n",
    "\n",
    "Our goal is to identify parameters of the hyperplane such that \n",
    "\n",
    "$$\n",
    "\\begin{cases}\n",
    "\\beta_0 + \\beta_1x_1 + \\beta_2x_2 + ... + \\beta_px_p < 0, \\text{ if }y=-1 \\\\\n",
    "\\beta_0 + \\beta_1x_1 + \\beta_2x_2 + ... + \\beta_px_p > 0, \\text{ if }y=1,\n",
    "\\end{cases}\n",
    "$$\n",
    "\n",
    "Apparently, there exits an infinite number of possible hyperplanes that satisfy the condition above, if two classes can be well separated. We therefore seek the hyperplane that maximizes the *margin* (indicated by the dash lines in the figure below) between two classes.\n",
    "\n",
    "<img src=\"https://github.com/XiongPengNUS/dao_resources/blob/main/maximal_margin_classifier.png?raw=true\" width=500>\n",
    "\n",
    "Such a predictive method is referred to as the **maximal margin classifier**, and parameters of the resultant hyperplane can be identified by solving the convex optimization problem \n",
    "\n",
    "$$\n",
    "\\begin{align}\n",
    "\\min ~&\\|\\pmb{\\beta}\\|^2 &&\\\\\n",
    "\\text{s.t.}~&y_i (\\beta_0 + \\beta_1x_{i1} + \\beta_2x_{i2} + ...+\\beta_px_{ip}) \\geq 1 && i=1, 2, ..., n\n",
    "\\end{align}\n",
    "$$\n",
    "\n",
    "where the vector $\\pmb{\\beta}=(\\beta_1, \\beta_2, ..., \\beta_p)$ and $n$ is the number of observations of the training dataset. Note that the notation $\\|\\cdot\\|$ expresses the Euclidean norm, so the objective function is $\\|\\pmb{\\beta}\\|=\\sqrt{\\beta_1^2+\\beta_2^2+...+\\beta_p^2}$.\n",
    "\n",
    "The convex optimization formulation above suggests that parameters of the hyperplane are solely determined by observations $\\pmb{x}_i$ such that the constraints $y_i (\\beta_0 + \\beta_1x_{i1} + \\beta_2x_{i2} + ...+\\beta_px_{ip}) \\geq 1$ are **active** (both sides of the constraints are equal). Such observations are referred to as **support vectors**, as highlighted by circles in the figure above. This observation implies that the maximal margin classifier are only affected by a number of support vectors that are close to the margin separating different classes. Other observations have no influence on the classifier.  \n",
    "\n",
    "You may also notice that the convex optimization problem could be **infeasible**, meaning that no parameters $\\beta_0$ and $\\pmb{\\beta}$ can satisfy all constraints. It happens when classes of data are not well separated, as the following cases.\n",
    "\n",
    "<img src=\"https://github.com/XiongPengNUS/dao_resources/blob/main/data_nonsep.png?raw=true\" width=850>\n",
    "\n",
    "In the next subsection, we will discuss how to address such cases.\n",
    "\n",
    "### Support vector classifier <a id=\"subsection6.2\"></a>\n",
    "\n",
    "Now we consider a modified method that allow constraints to be violated (meaning that some data points are located on the wrong side of the margin), and such violations are penalized by a regularization parameter $C$. Let $\\xi_i$ denote the violation of the $i$th constraint, then the modified optimization problem can be written as\n",
    "\n",
    "$$\n",
    "\\begin{align}\n",
    "\\min~&\\frac{1}{2}\\|\\pmb{\\beta}\\|^2 + C\\sum\\limits_{i=1}^n\\xi_i \\\\\n",
    "\\text{s.t.}~&y_i (\\beta_0 + \\beta_1x_{i1} + \\beta_2x_{i2} + ...+\\beta_px_{ip}) \\geq 1 - \\xi_i,~\\xi_i \\geq 0.\n",
    "\\end{align}\n",
    "$$\n",
    "\n",
    "The following graphs show the results of applying this method to not well separated classes. \n",
    "\n",
    "<img src=\"https://github.com/XiongPengNUS/dao_resources/blob/main/svc_linear_overlap.png?raw=true\">\n",
    "\n",
    "### Support vector machine classifier <a id=\"subsection6.3\"></a>\n",
    "\n",
    "Given $(y_i, \\pmb{x}_i)$ as a record of sample data, the separating hyperplane of the support vector classifier model can be written as\n",
    "\n",
    "$$\n",
    "\\beta_0 + \\sum\\limits_{i=1}^n\\alpha_iy_i\\pmb{x}_i^{\\top}\\pmb{x} = 0\n",
    "$$\n",
    "\n",
    "where $\\pmb{\\alpha}=(\\alpha_1, \\alpha_2, ..., \\alpha_n)$ is a vector of solution to the dual problem of the convex optimization formulation for the support vector classifier. Here, the inner product of $\\pmb{x}_i$ and $\\pmb{x}$ is defined to be a **kernel**, written as $K(\\pmb{x}_i, \\pmb{x})=\\pmb{x}_i^{\\top}\\pmb{x}$, and in some textbooks, it is also written as $K(\\pmb{x}_i, \\pmb{x})=\\langle\\pmb{x}_i, \\pmb{x}\\rangle$. The kernel function in this case is a linear function of $\\pmb{x}$, so it is called a **linear kernel**. \n",
    "\n",
    "Similar to regression models, besides considering the predictor variable $\\pmb{x}$, features of $\\pmb{x}$ can also be introduced to increase the flexibility of the model. Let $\\pmb{h}(\\pmb{x})$ denote the feature space of the predictor variables $\\pmb{x}$, the kernel function is then $K(\\pmb{x}_i, \\pmb{x})=\\pmb{h}(\\pmb{x}_i)^{\\top}\\pmb{h}(\\pmb{x})$.\n",
    "\n",
    "> *What is the advantage of using a kernel rather than simply enlarging the feature space using functions of the original features, as in (9.16)? One advantage is computational, and it amounts to the fact that using kernels,\n",
    "one need only compute $K(\\pmb{x}_i, \\pmb{x}_{i'})$ for all $\\begin{pmatrix}n\\\\2\\end{pmatrix}$ distinct pairs $i$, $i'$. This can be done without explicitly working in the enlarged feature space. This is important because in many applications of SVMs, the enlarged feature space is so large that computations are intractable. For some kernels, such as the radial kernel (9.24), the feature space is implicit and infinite-dimensional, so we could never do the computations there anyway!* - [An Introduction to Statistical Learning-with Applications in R](https://web.stanford.edu/~hastie/ISLRv2_website.pdf)\n",
    "\n",
    "Commonly used kernel functions are\n",
    "- Polynomial kernel: $K(\\pmb{x}_i, \\pmb{x})=\\left(\\pmb{x}_i^{\\top}\\pmb{x}+r\\right)^d$. \n",
    "    - The degree $d$ of the polynomial kernel is specified by the keyword argument `degree`.\n",
    "    - The constant coefficient $r$ in the expression is specified by the keyword argument `coef0`. Please note that in textbooks like [An Introduction to Statistical Learning-with Applications in R](https://web.stanford.edu/~hastie/ISLRv2_website.pdf), $r$ is fixed to be 1, but the `sklearn` package allows users to adjust this coefficient. \n",
    "- Radial basis function kernel: $K(\\pmb{x}_i, \\pmb{x})=\\exp\\left(-\\gamma\\|\\pmb{x}_i - \\pmb{x}\\|^2\\right)$\n",
    "    - The non-negative parameter $\\gamma$ is specified by the keyword argument `gamma`.\n",
    "- Sigmoid (neural network) kernel: $K(\\pmb{x}_i, \\pmb{x})=\\tanh\\left(\\gamma\\pmb{x}_i^{\\top}\\pmb{x}+r\\right)$\n",
    "    - The constant coefficient $r$ in the expression is specified by the keyword argument `coef0`. \n",
    "    - The parameter $\\gamma$ is specified by the keyword argument `gamma`.\n",
    "\n",
    "The **support vector machine (SVM)** is an extension of the support vector classifier that results from enlarging the feature space using kernels. The SVM is very flexible in producing nonlinear separating boundaries for datasets that are non-separable by hyperplanes. You may use the [Programming for Business Analytics](https://share.streamlit.io/xiongpengnus/learn_dao/main/web.py) website to test SVMs with other types of kernels and parameters.\n",
    "\n",
    "### SVMs with more than two classes\n",
    "\n",
    "#### One-versus-one classification\n",
    "\n",
    "Suppose there are $K$ classes for the response variable $y$, the **one-versus-one** or **all-pair** approach constructs $\\begin{pmatrix}K\\\\2\\end{pmatrix}$ SVMs and each SVM is used for the prediction between a pair of classes. The final classification is performed by assigning the test observation to the class to which it was most frequently assigned in these $\\begin{pmatrix}K\\\\2\\end{pmatrix}$ pairwise classifications.\n",
    "\n",
    "#### One-versus-all classification\n",
    "This method fits $K$ SVMs, and each time the prediction decision is made between one of the $K$ classes (coded as 1) and the remaining $K$ classes (code as -1). The final decision of an observation $\\pmb{x}$ is class $k$ if the separating function $f_k(\\pmb{x})$ of the $k$th SVM is the largest.\n",
    "\n",
    "<div class=\"alert alert-block alert-success\">\n",
    "<b>Example 3:</b>  \n",
    "    Consider the dataset \"iris.csv\" for classifying iris species based on their features such as sepal length, sepal width, petal length and petal width. Use SVM models to predict the iris species. You may try different types of kernels for the SVM model.\n",
    "</div>\n",
    "\n",
    "The following model applies the RBF kernel with the default parameters."
   ]
  },
  {
   "cell_type": "code",
   "execution_count": 26,
   "metadata": {
    "scrolled": true
   },
   "outputs": [
    {
     "data": {
      "text/plain": [
       "array([1., 1., 1., 1.])"
      ]
     },
     "execution_count": 26,
     "metadata": {},
     "output_type": "execute_result"
    }
   ],
   "source": [
    "svm = SVC(C=10, kernel='rbf')\n",
    "x = iris.drop(columns='Species')\n",
    "y = iris['Species']\n",
    "\n",
    "cv = ShuffleSplit(n_splits=4)\n",
    "cross_val_score(svm, x, y, cv=cv)"
   ]
  },
  {
   "cell_type": "markdown",
   "metadata": {},
   "source": [
    "The default setting of `SVC` models uses the one-versus-all criterion (`decision_function_shape='ovr'`) to determine the predicted class. You could also try the one-versus-one criterion as the code segment below."
   ]
  },
  {
   "cell_type": "code",
   "execution_count": 27,
   "metadata": {
    "scrolled": false
   },
   "outputs": [
    {
     "data": {
      "text/plain": [
       "array([0.93333333, 0.93333333, 1.        , 1.        ])"
      ]
     },
     "execution_count": 27,
     "metadata": {},
     "output_type": "execute_result"
    }
   ],
   "source": [
    "svm = SVC(C=10, kernel='rbf', decision_function_shape='ovo')\n",
    "x = iris.drop(columns='Species')\n",
    "y = iris['Species']\n",
    "\n",
    "cv = ShuffleSplit(n_splits=4)\n",
    "cross_val_score(svm, x, y, cv=cv)"
   ]
  },
  {
   "cell_type": "markdown",
   "metadata": {},
   "source": [
    " "
   ]
  },
  {
   "cell_type": "markdown",
   "metadata": {},
   "source": [
    "### $K$-nearest neighbor classification <a id=\"section7\"></a>\n",
    "\n",
    "Given a positive integer $K$ and a test observation $\\pmb{x}$, the **$K$-nearest neighbor (KNN)** classifier first identifies the $K$ points in the training data that are closest to $\\pmb{x}$. It then predict the class using majority vote among the $K$ neighbors. Unlike all aforementioned approaches, the KNN classifier is a **non-parametric** method, which does not explicitly assume a parametric form for $f(\\pmb{x})$. \n",
    "\n",
    "<div class=\"alert alert-block alert-success\">\n",
    "<b>Example 4:</b>  \n",
    "    Consider the dataset \"iris.csv\" for classifying iris species based on their features such as sepal length, sepal width, petal length and petal width. Use the KNN model (with different values of $K$) to predict the iris species.\n",
    "</div>"
   ]
  },
  {
   "cell_type": "code",
   "execution_count": 28,
   "metadata": {},
   "outputs": [
    {
     "data": {
      "text/plain": [
       "array([1.        , 0.93333333, 1.        , 1.        ])"
      ]
     },
     "execution_count": 28,
     "metadata": {},
     "output_type": "execute_result"
    }
   ],
   "source": [
    "steps = [\n",
    "    ('scaler', MinMaxScaler()),                             # Step 1: Normalized scaler\n",
    "    ('knn', KNeighborsClassifier(n_neighbors=5))            # Step 2: KNN\n",
    "]                        \n",
    "pipe = Pipeline(steps) \n",
    "\n",
    "x = iris.drop(columns='Species')\n",
    "y = iris['Species']\n",
    "\n",
    "cv = ShuffleSplit(n_splits=4)\n",
    "cross_val_score(pipe, x, y, cv=cv)"
   ]
  },
  {
   "cell_type": "markdown",
   "metadata": {},
   "source": [
    " "
   ]
  },
  {
   "cell_type": "markdown",
   "metadata": {},
   "source": [
    "## Case studies <a id=\"section8\"></a>\n",
    "\n",
    "### Case study 1: Bank marketing <a id=\"subsection8.1\"></a>\n",
    "\n",
    "Please use the information provided in the dataset \"bank.csv\" to predict if the customer is likely to subscribed a term deposit (variable `subscribed`). Interpretation of each column of the dataset is given below.\n",
    "\n",
    "- `age`: age of the customer.\n",
    "- `job`: job of the customer.\n",
    "- `marital`: marital status of the customer.\n",
    "- `education`: education background of the customer.\n",
    "- `default`: does the customer have credit in default.\n",
    "- `balance`: balance of the customer's account.\n",
    "- `housing`: does the customer have housing loan.\n",
    "- `loan`: does the customer have any personal loan.\n",
    "- `contact`: contact communication type of the customer.\n",
    "- `campaign`: number of contacts with the customer performed during this campaign.\n",
    "- `pdays`: number of days that passed by after the customer was last contacted from a previous campaign. (999 means that the customer was not previous contacted)\n",
    "- `previous`: number of contacts performed before this campaign and for this customer.\n",
    "- `poutcome`: outcome of the previous marketing campaign.\n",
    "-  `subscribed`: has the customer subscribed a term deposit. This is considered the response of the predictive model."
   ]
  },
  {
   "cell_type": "code",
   "execution_count": 3,
   "metadata": {
    "scrolled": true
   },
   "outputs": [
    {
     "data": {
      "text/html": [
       "<div>\n",
       "<style scoped>\n",
       "    .dataframe tbody tr th:only-of-type {\n",
       "        vertical-align: middle;\n",
       "    }\n",
       "\n",
       "    .dataframe tbody tr th {\n",
       "        vertical-align: top;\n",
       "    }\n",
       "\n",
       "    .dataframe thead th {\n",
       "        text-align: right;\n",
       "    }\n",
       "</style>\n",
       "<table border=\"1\" class=\"dataframe\">\n",
       "  <thead>\n",
       "    <tr style=\"text-align: right;\">\n",
       "      <th></th>\n",
       "      <th>age</th>\n",
       "      <th>job</th>\n",
       "      <th>marital</th>\n",
       "      <th>education</th>\n",
       "      <th>default</th>\n",
       "      <th>...</th>\n",
       "      <th>campaign</th>\n",
       "      <th>pdays</th>\n",
       "      <th>previous</th>\n",
       "      <th>poutcome</th>\n",
       "      <th>subscribed</th>\n",
       "    </tr>\n",
       "  </thead>\n",
       "  <tbody>\n",
       "    <tr>\n",
       "      <th>0</th>\n",
       "      <td>30</td>\n",
       "      <td>unemployed</td>\n",
       "      <td>married</td>\n",
       "      <td>primary</td>\n",
       "      <td>no</td>\n",
       "      <td>...</td>\n",
       "      <td>1</td>\n",
       "      <td>900</td>\n",
       "      <td>0</td>\n",
       "      <td>unknown</td>\n",
       "      <td>no</td>\n",
       "    </tr>\n",
       "    <tr>\n",
       "      <th>1</th>\n",
       "      <td>33</td>\n",
       "      <td>services</td>\n",
       "      <td>married</td>\n",
       "      <td>secondary</td>\n",
       "      <td>no</td>\n",
       "      <td>...</td>\n",
       "      <td>1</td>\n",
       "      <td>339</td>\n",
       "      <td>4</td>\n",
       "      <td>failure</td>\n",
       "      <td>no</td>\n",
       "    </tr>\n",
       "    <tr>\n",
       "      <th>2</th>\n",
       "      <td>35</td>\n",
       "      <td>management</td>\n",
       "      <td>single</td>\n",
       "      <td>tertiary</td>\n",
       "      <td>no</td>\n",
       "      <td>...</td>\n",
       "      <td>1</td>\n",
       "      <td>330</td>\n",
       "      <td>1</td>\n",
       "      <td>failure</td>\n",
       "      <td>no</td>\n",
       "    </tr>\n",
       "    <tr>\n",
       "      <th>...</th>\n",
       "      <td>...</td>\n",
       "      <td>...</td>\n",
       "      <td>...</td>\n",
       "      <td>...</td>\n",
       "      <td>...</td>\n",
       "      <td>...</td>\n",
       "      <td>...</td>\n",
       "      <td>...</td>\n",
       "      <td>...</td>\n",
       "      <td>...</td>\n",
       "      <td>...</td>\n",
       "    </tr>\n",
       "    <tr>\n",
       "      <th>4518</th>\n",
       "      <td>57</td>\n",
       "      <td>technician</td>\n",
       "      <td>married</td>\n",
       "      <td>secondary</td>\n",
       "      <td>no</td>\n",
       "      <td>...</td>\n",
       "      <td>11</td>\n",
       "      <td>900</td>\n",
       "      <td>0</td>\n",
       "      <td>unknown</td>\n",
       "      <td>no</td>\n",
       "    </tr>\n",
       "    <tr>\n",
       "      <th>4519</th>\n",
       "      <td>28</td>\n",
       "      <td>blue-collar</td>\n",
       "      <td>married</td>\n",
       "      <td>secondary</td>\n",
       "      <td>no</td>\n",
       "      <td>...</td>\n",
       "      <td>4</td>\n",
       "      <td>211</td>\n",
       "      <td>3</td>\n",
       "      <td>other</td>\n",
       "      <td>no</td>\n",
       "    </tr>\n",
       "    <tr>\n",
       "      <th>4520</th>\n",
       "      <td>44</td>\n",
       "      <td>entrepreneur</td>\n",
       "      <td>single</td>\n",
       "      <td>tertiary</td>\n",
       "      <td>no</td>\n",
       "      <td>...</td>\n",
       "      <td>2</td>\n",
       "      <td>249</td>\n",
       "      <td>7</td>\n",
       "      <td>other</td>\n",
       "      <td>no</td>\n",
       "    </tr>\n",
       "  </tbody>\n",
       "</table>\n",
       "<p>4521 rows × 14 columns</p>\n",
       "</div>"
      ],
      "text/plain": [
       "      age           job  marital  education default  ...  campaign pdays  \\\n",
       "0      30    unemployed  married    primary      no  ...         1   900   \n",
       "1      33      services  married  secondary      no  ...         1   339   \n",
       "2      35    management   single   tertiary      no  ...         1   330   \n",
       "...   ...           ...      ...        ...     ...  ...       ...   ...   \n",
       "4518   57    technician  married  secondary      no  ...        11   900   \n",
       "4519   28   blue-collar  married  secondary      no  ...         4   211   \n",
       "4520   44  entrepreneur   single   tertiary      no  ...         2   249   \n",
       "\n",
       "     previous poutcome  subscribed  \n",
       "0           0  unknown          no  \n",
       "1           4  failure          no  \n",
       "2           1  failure          no  \n",
       "...       ...      ...         ...  \n",
       "4518        0  unknown          no  \n",
       "4519        3    other          no  \n",
       "4520        7    other          no  \n",
       "\n",
       "[4521 rows x 14 columns]"
      ]
     },
     "execution_count": 3,
     "metadata": {},
     "output_type": "execute_result"
    }
   ],
   "source": [
    "bank = pd.read_csv('bank.csv')\n",
    "bank"
   ]
  },
  {
   "cell_type": "code",
   "execution_count": 5,
   "metadata": {},
   "outputs": [
    {
     "name": "stderr",
     "output_type": "stream",
     "text": [
      "/opt/anaconda3/lib/python3.8/site-packages/sklearn/model_selection/_validation.py:548: FitFailedWarning: Estimator fit failed. The score on this train-test partition for these parameters will be set to nan. Details: \n",
      "Traceback (most recent call last):\n",
      "  File \"/opt/anaconda3/lib/python3.8/site-packages/sklearn/model_selection/_validation.py\", line 531, in _fit_and_score\n",
      "    estimator.fit(X_train, y_train, **fit_params)\n",
      "  File \"/opt/anaconda3/lib/python3.8/site-packages/sklearn/pipeline.py\", line 330, in fit\n",
      "    Xt = self._fit(X, y, **fit_params_steps)\n",
      "  File \"/opt/anaconda3/lib/python3.8/site-packages/sklearn/pipeline.py\", line 292, in _fit\n",
      "    X, fitted_transformer = fit_transform_one_cached(\n",
      "  File \"/opt/anaconda3/lib/python3.8/site-packages/joblib/memory.py\", line 352, in __call__\n",
      "    return self.func(*args, **kwargs)\n",
      "  File \"/opt/anaconda3/lib/python3.8/site-packages/sklearn/pipeline.py\", line 740, in _fit_transform_one\n",
      "    res = transformer.fit_transform(X, y, **fit_params)\n",
      "  File \"/opt/anaconda3/lib/python3.8/site-packages/sklearn/base.py\", line 693, in fit_transform\n",
      "    return self.fit(X, y, **fit_params).transform(X)\n",
      "  File \"/opt/anaconda3/lib/python3.8/site-packages/sklearn/preprocessing/_data.py\", line 336, in fit\n",
      "    return self.partial_fit(X, y)\n",
      "  File \"/opt/anaconda3/lib/python3.8/site-packages/sklearn/preprocessing/_data.py\", line 369, in partial_fit\n",
      "    X = self._validate_data(X, reset=first_pass,\n",
      "  File \"/opt/anaconda3/lib/python3.8/site-packages/sklearn/base.py\", line 420, in _validate_data\n",
      "    X = check_array(X, **check_params)\n",
      "  File \"/opt/anaconda3/lib/python3.8/site-packages/sklearn/utils/validation.py\", line 72, in inner_f\n",
      "    return f(**kwargs)\n",
      "  File \"/opt/anaconda3/lib/python3.8/site-packages/sklearn/utils/validation.py\", line 598, in check_array\n",
      "    array = np.asarray(array, order=order, dtype=dtype)\n",
      "  File \"/opt/anaconda3/lib/python3.8/site-packages/numpy/core/_asarray.py\", line 83, in asarray\n",
      "    return array(a, dtype, copy=False, order=order)\n",
      "  File \"/opt/anaconda3/lib/python3.8/site-packages/pandas/core/generic.py\", line 1781, in __array__\n",
      "    return np.asarray(self._values, dtype=dtype)\n",
      "  File \"/opt/anaconda3/lib/python3.8/site-packages/numpy/core/_asarray.py\", line 83, in asarray\n",
      "    return array(a, dtype, copy=False, order=order)\n",
      "ValueError: could not convert string to float: 'admin.'\n",
      "\n",
      "  warnings.warn(\"Estimator fit failed. The score on this train-test\"\n",
      "/opt/anaconda3/lib/python3.8/site-packages/sklearn/model_selection/_validation.py:548: FitFailedWarning: Estimator fit failed. The score on this train-test partition for these parameters will be set to nan. Details: \n",
      "Traceback (most recent call last):\n",
      "  File \"/opt/anaconda3/lib/python3.8/site-packages/sklearn/model_selection/_validation.py\", line 531, in _fit_and_score\n",
      "    estimator.fit(X_train, y_train, **fit_params)\n",
      "  File \"/opt/anaconda3/lib/python3.8/site-packages/sklearn/pipeline.py\", line 330, in fit\n",
      "    Xt = self._fit(X, y, **fit_params_steps)\n",
      "  File \"/opt/anaconda3/lib/python3.8/site-packages/sklearn/pipeline.py\", line 292, in _fit\n",
      "    X, fitted_transformer = fit_transform_one_cached(\n",
      "  File \"/opt/anaconda3/lib/python3.8/site-packages/joblib/memory.py\", line 352, in __call__\n",
      "    return self.func(*args, **kwargs)\n",
      "  File \"/opt/anaconda3/lib/python3.8/site-packages/sklearn/pipeline.py\", line 740, in _fit_transform_one\n",
      "    res = transformer.fit_transform(X, y, **fit_params)\n",
      "  File \"/opt/anaconda3/lib/python3.8/site-packages/sklearn/base.py\", line 693, in fit_transform\n",
      "    return self.fit(X, y, **fit_params).transform(X)\n",
      "  File \"/opt/anaconda3/lib/python3.8/site-packages/sklearn/preprocessing/_data.py\", line 336, in fit\n",
      "    return self.partial_fit(X, y)\n",
      "  File \"/opt/anaconda3/lib/python3.8/site-packages/sklearn/preprocessing/_data.py\", line 369, in partial_fit\n",
      "    X = self._validate_data(X, reset=first_pass,\n",
      "  File \"/opt/anaconda3/lib/python3.8/site-packages/sklearn/base.py\", line 420, in _validate_data\n",
      "    X = check_array(X, **check_params)\n",
      "  File \"/opt/anaconda3/lib/python3.8/site-packages/sklearn/utils/validation.py\", line 72, in inner_f\n",
      "    return f(**kwargs)\n",
      "  File \"/opt/anaconda3/lib/python3.8/site-packages/sklearn/utils/validation.py\", line 598, in check_array\n",
      "    array = np.asarray(array, order=order, dtype=dtype)\n",
      "  File \"/opt/anaconda3/lib/python3.8/site-packages/numpy/core/_asarray.py\", line 83, in asarray\n",
      "    return array(a, dtype, copy=False, order=order)\n",
      "  File \"/opt/anaconda3/lib/python3.8/site-packages/pandas/core/generic.py\", line 1781, in __array__\n",
      "    return np.asarray(self._values, dtype=dtype)\n",
      "  File \"/opt/anaconda3/lib/python3.8/site-packages/numpy/core/_asarray.py\", line 83, in asarray\n",
      "    return array(a, dtype, copy=False, order=order)\n",
      "ValueError: could not convert string to float: 'blue-collar'\n",
      "\n",
      "  warnings.warn(\"Estimator fit failed. The score on this train-test\"\n",
      "/opt/anaconda3/lib/python3.8/site-packages/sklearn/model_selection/_validation.py:548: FitFailedWarning: Estimator fit failed. The score on this train-test partition for these parameters will be set to nan. Details: \n",
      "Traceback (most recent call last):\n",
      "  File \"/opt/anaconda3/lib/python3.8/site-packages/sklearn/model_selection/_validation.py\", line 531, in _fit_and_score\n",
      "    estimator.fit(X_train, y_train, **fit_params)\n",
      "  File \"/opt/anaconda3/lib/python3.8/site-packages/sklearn/pipeline.py\", line 330, in fit\n",
      "    Xt = self._fit(X, y, **fit_params_steps)\n",
      "  File \"/opt/anaconda3/lib/python3.8/site-packages/sklearn/pipeline.py\", line 292, in _fit\n",
      "    X, fitted_transformer = fit_transform_one_cached(\n",
      "  File \"/opt/anaconda3/lib/python3.8/site-packages/joblib/memory.py\", line 352, in __call__\n",
      "    return self.func(*args, **kwargs)\n",
      "  File \"/opt/anaconda3/lib/python3.8/site-packages/sklearn/pipeline.py\", line 740, in _fit_transform_one\n",
      "    res = transformer.fit_transform(X, y, **fit_params)\n",
      "  File \"/opt/anaconda3/lib/python3.8/site-packages/sklearn/base.py\", line 693, in fit_transform\n",
      "    return self.fit(X, y, **fit_params).transform(X)\n",
      "  File \"/opt/anaconda3/lib/python3.8/site-packages/sklearn/preprocessing/_data.py\", line 336, in fit\n",
      "    return self.partial_fit(X, y)\n",
      "  File \"/opt/anaconda3/lib/python3.8/site-packages/sklearn/preprocessing/_data.py\", line 369, in partial_fit\n",
      "    X = self._validate_data(X, reset=first_pass,\n",
      "  File \"/opt/anaconda3/lib/python3.8/site-packages/sklearn/base.py\", line 420, in _validate_data\n",
      "    X = check_array(X, **check_params)\n",
      "  File \"/opt/anaconda3/lib/python3.8/site-packages/sklearn/utils/validation.py\", line 72, in inner_f\n",
      "    return f(**kwargs)\n",
      "  File \"/opt/anaconda3/lib/python3.8/site-packages/sklearn/utils/validation.py\", line 598, in check_array\n",
      "    array = np.asarray(array, order=order, dtype=dtype)\n",
      "  File \"/opt/anaconda3/lib/python3.8/site-packages/numpy/core/_asarray.py\", line 83, in asarray\n",
      "    return array(a, dtype, copy=False, order=order)\n",
      "  File \"/opt/anaconda3/lib/python3.8/site-packages/pandas/core/generic.py\", line 1781, in __array__\n",
      "    return np.asarray(self._values, dtype=dtype)\n",
      "  File \"/opt/anaconda3/lib/python3.8/site-packages/numpy/core/_asarray.py\", line 83, in asarray\n",
      "    return array(a, dtype, copy=False, order=order)\n",
      "ValueError: could not convert string to float: 'blue-collar'\n",
      "\n",
      "  warnings.warn(\"Estimator fit failed. The score on this train-test\"\n",
      "/opt/anaconda3/lib/python3.8/site-packages/sklearn/model_selection/_validation.py:548: FitFailedWarning: Estimator fit failed. The score on this train-test partition for these parameters will be set to nan. Details: \n",
      "Traceback (most recent call last):\n",
      "  File \"/opt/anaconda3/lib/python3.8/site-packages/sklearn/model_selection/_validation.py\", line 531, in _fit_and_score\n",
      "    estimator.fit(X_train, y_train, **fit_params)\n",
      "  File \"/opt/anaconda3/lib/python3.8/site-packages/sklearn/pipeline.py\", line 330, in fit\n",
      "    Xt = self._fit(X, y, **fit_params_steps)\n",
      "  File \"/opt/anaconda3/lib/python3.8/site-packages/sklearn/pipeline.py\", line 292, in _fit\n",
      "    X, fitted_transformer = fit_transform_one_cached(\n",
      "  File \"/opt/anaconda3/lib/python3.8/site-packages/joblib/memory.py\", line 352, in __call__\n",
      "    return self.func(*args, **kwargs)\n",
      "  File \"/opt/anaconda3/lib/python3.8/site-packages/sklearn/pipeline.py\", line 740, in _fit_transform_one\n",
      "    res = transformer.fit_transform(X, y, **fit_params)\n",
      "  File \"/opt/anaconda3/lib/python3.8/site-packages/sklearn/base.py\", line 693, in fit_transform\n",
      "    return self.fit(X, y, **fit_params).transform(X)\n",
      "  File \"/opt/anaconda3/lib/python3.8/site-packages/sklearn/preprocessing/_data.py\", line 336, in fit\n",
      "    return self.partial_fit(X, y)\n",
      "  File \"/opt/anaconda3/lib/python3.8/site-packages/sklearn/preprocessing/_data.py\", line 369, in partial_fit\n",
      "    X = self._validate_data(X, reset=first_pass,\n",
      "  File \"/opt/anaconda3/lib/python3.8/site-packages/sklearn/base.py\", line 420, in _validate_data\n",
      "    X = check_array(X, **check_params)\n",
      "  File \"/opt/anaconda3/lib/python3.8/site-packages/sklearn/utils/validation.py\", line 72, in inner_f\n",
      "    return f(**kwargs)\n",
      "  File \"/opt/anaconda3/lib/python3.8/site-packages/sklearn/utils/validation.py\", line 598, in check_array\n",
      "    array = np.asarray(array, order=order, dtype=dtype)\n",
      "  File \"/opt/anaconda3/lib/python3.8/site-packages/numpy/core/_asarray.py\", line 83, in asarray\n",
      "    return array(a, dtype, copy=False, order=order)\n",
      "  File \"/opt/anaconda3/lib/python3.8/site-packages/pandas/core/generic.py\", line 1781, in __array__\n",
      "    return np.asarray(self._values, dtype=dtype)\n",
      "  File \"/opt/anaconda3/lib/python3.8/site-packages/numpy/core/_asarray.py\", line 83, in asarray\n",
      "    return array(a, dtype, copy=False, order=order)\n",
      "ValueError: could not convert string to float: 'retired'\n",
      "\n",
      "  warnings.warn(\"Estimator fit failed. The score on this train-test\"\n"
     ]
    },
    {
     "data": {
      "text/plain": [
       "array([nan, nan, nan, nan])"
      ]
     },
     "execution_count": 5,
     "metadata": {},
     "output_type": "execute_result"
    }
   ],
   "source": [
    "steps = [\n",
    "    ('scaler', MinMaxScaler()),                             # Step 1: Normalized scaler\n",
    "    ('knn', KNeighborsClassifier(n_neighbors=5))            # Step 2: KNN\n",
    "]                        \n",
    "pipe = Pipeline(steps) \n",
    "\n",
    "x = bank.drop(columns='subscribed')\n",
    "y = bank['subscribed']\n",
    "\n",
    "cv = ShuffleSplit(n_splits=4)\n",
    "cross_val_score(pipe, x, y, cv=cv)"
   ]
  },
  {
   "cell_type": "code",
   "execution_count": null,
   "metadata": {},
   "outputs": [],
   "source": []
  },
  {
   "cell_type": "code",
   "execution_count": null,
   "metadata": {},
   "outputs": [],
   "source": []
  }
 ],
 "metadata": {
  "kernelspec": {
   "display_name": "Python 3",
   "language": "python",
   "name": "python3"
  },
  "language_info": {
   "codemirror_mode": {
    "name": "ipython",
    "version": 3
   },
   "file_extension": ".py",
   "mimetype": "text/x-python",
   "name": "python",
   "nbconvert_exporter": "python",
   "pygments_lexer": "ipython3",
   "version": "3.8.5"
  }
 },
 "nbformat": 4,
 "nbformat_minor": 2
}
