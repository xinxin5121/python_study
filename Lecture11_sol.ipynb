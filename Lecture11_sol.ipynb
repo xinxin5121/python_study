{
 "cells": [
  {
   "cell_type": "markdown",
   "metadata": {},
   "source": [
    "# Lecture 11: Basics of Prescriptive Analytics\n",
    "\n",
    "## Contents\n",
    "- [Imports](#section1)\n",
    "- [Introduction to linear optimization](#section2)\n",
    "    - [Terminology and notations](#subsection2.1)\n",
    "    - [Beyond linear](#subsection2.2)\n",
    "    - [RSOME for Linear programming](#subsection2.3)\n",
    "- [Decision-making under uncertainty](#section3)\n",
    "- [Case study](#section4)"
   ]
  },
  {
   "cell_type": "markdown",
   "metadata": {},
   "source": [
    " "
   ]
  },
  {
   "cell_type": "markdown",
   "metadata": {},
   "source": [
    "## Imports <a id=\"section1\"></a>\n",
    "\n",
    "In this lecture, we will introduce two external packages:\n",
    "- RSOME (Robust Stochastic Optimization Made Easy). You may find more details from the official website [here](https://xiongpengnus.github.io/rsome/) or the [GitHub Repository](https://github.com/XiongPengNUS/rsome) \n",
    "\n",
    "- OR-Tools: an open-source optimization solver developed by Google. You may find more details form [here](https://developers.google.com/optimization)"
   ]
  },
  {
   "cell_type": "code",
   "execution_count": 1,
   "metadata": {},
   "outputs": [
    {
     "name": "stdout",
     "output_type": "stream",
     "text": [
      "Collecting rsome\n",
      "  Using cached https://files.pythonhosted.org/packages/9c/7f/71c528368229f34aa6618e3eb17a015f77b02034e89fe6625a0e05beadd1/rsome-0.1.5-py3-none-any.whl\n",
      "Installing collected packages: rsome\n",
      "Successfully installed rsome-0.1.5\n",
      "Requirement already satisfied: ortools in /Users/pengxiong/opt/anaconda3/lib/python3.7/site-packages (8.1.8487)\n",
      "Requirement already satisfied: protobuf>=3.14.0 in /Users/pengxiong/opt/anaconda3/lib/python3.7/site-packages (from ortools) (3.15.0)\n",
      "Requirement already satisfied: absl-py>=0.11 in /Users/pengxiong/opt/anaconda3/lib/python3.7/site-packages (from ortools) (0.11.0)\n",
      "Requirement already satisfied: six>=1.9 in /Users/pengxiong/opt/anaconda3/lib/python3.7/site-packages (from protobuf>=3.14.0->ortools) (1.12.0)\n"
     ]
    }
   ],
   "source": [
    "!pip install rsome\n",
    "!pip install ortools"
   ]
  },
  {
   "cell_type": "code",
   "execution_count": 4,
   "metadata": {},
   "outputs": [],
   "source": [
    "import numpy as np\n",
    "import numpy.random as rd\n",
    "import pandas as pd\n",
    "import matplotlib.pyplot as plt\n",
    "\n",
    "from rsome import ro\n",
    "from rsome import ort_solver as ort"
   ]
  },
  {
   "cell_type": "markdown",
   "metadata": {},
   "source": [
    " "
   ]
  },
  {
   "cell_type": "markdown",
   "metadata": {},
   "source": [
    "## Introduction to linear optimization <a id=\"section2\"></a>\n",
    "\n",
    "### Terminology and notations <a id=\"subsection2.1\"></a>\n",
    "\n",
    "<div class=\"alert alert-block alert-success\">\n",
    "<b>Example 1:</b>  \n",
    "    Consider the following linear programming problem:\n",
    "\\begin{align}\n",
    "\\text{minimize}~&2x_1 - x_2 + 4x_3   \\\\\n",
    "\\text{subject to}~& x_1 + x_2 + x_4 \\leq 2 \\\\\n",
    "& 3x_2 - x_3 = 5 \\\\\n",
    "& x_3 + x_4 \\geq 3 \\\\\n",
    "& x_1 \\geq 0 \\\\\n",
    "& x_3 \\leq 0.\n",
    "\\end{align}\n",
    "</div>\n",
    "\n",
    "In this example:\n",
    "- Variables $x_1$, $x_2$, $x_3$, and $x_4$ are **decision variables** whose values are to be chosen to minimize the linear cost function $2x_1 - x_2 + 4x_3$, while a number of linear equalities and inequalities are satisfied. \n",
    "- The cost function $2x_1 - x_2 + 4x_3$ is called an **objective function**. The notation 'minimize'(or 'maximize') is sometimes replaced by 'min' (or 'max'). \n",
    "- The equalities and inequalities are called the **constraints** of the linear programming model. The notation 'subject to' is sometimes replaced by 's.t.'. \n",
    "- A set of decision variable values that satisfy all of the constraints is called a **feasible solution**. \n",
    "- The set of all feasible solutions is called the **feasible set** or **feasible region**. \n",
    "- A feasible solution that minimizes (or maximizes) the objective function is called an **optimal feasible solution**, or simply an **optimal solution**. \n",
    "- If no feasible solution can be found, then the problem is called **infeasible**. \n",
    "- For a minimization (or maximization) problem, if the objective function can be arbitrarily small (or arbitrarily large), then we call it **unbounded**. \n",
    "\n",
    "It is easy to show that the following objective functions or constraints are equivalent:\n",
    "\n",
    "- $\\max~\\sum_{i=1}^nc_ix_i \\Longleftrightarrow \\min -\\sum_{i=1}^nc_ix_i$\n",
    "- $\\min~\\sum_{i=1}^nc_ix_i \\Longleftrightarrow \\begin{cases}\\min~z \\\\ z\\geq \\sum_{i=1}^nc_ix_i\\end{cases}$\n",
    "- $\\sum_{i=1}^na_ix_i \\geq b \\Longleftrightarrow - \\sum_{i=1}^na_ix_i \\leq -b$\n",
    "- $\\sum_{i=1}^na_ix_i = b \\Longleftrightarrow \\begin{cases}\\sum_{i=1}^na_ix_i \\leq b \\\\ \\sum_{i=1}^na_ix_i \\geq b\\end{cases} \\Longleftrightarrow \\begin{cases}\\sum_{i=1}^na_ix_i \\leq b \\\\ -\\sum_{i=1}^na_ix_i \\leq -b.\\end{cases}$\n",
    "\n",
    "\n",
    "Based on the equivalent expressions above, any linear programming problems may be written as the general formula below\n",
    "\n",
    "\\begin{align}\n",
    "\\min ~& \\sum\\limits_{i=1}^n c_i x_i \\\\\n",
    "\\text{s.t.}~& \\sum\\limits_{i=1}^n a_{1i}x_i \\leq b_1 \\\\\n",
    "& \\vdots \\\\\n",
    "&\\sum\\limits_{i=1}^n a_{mi}x_i \\leq b_m,\n",
    "\\end{align}\n",
    "or equivalently, a compact matrix form\n",
    "\\begin{align}\n",
    "\\min ~&\\pmb{c}^T\\pmb{x} \\\\\n",
    "\\text{s.t.}~ &\\pmb{Ax} \\leq \\pmb{b}\n",
    "\\end{align}\n",
    "\n",
    "Some solvers only solve problems in the general form (or something similar), so some transformations may be required if the problem does not follow the general form. \n",
    "\n",
    "Can you write the linear programming problem in **Example 1** as the general form?\n",
    "\n",
    "\\begin{align}\n",
    "\\text{min}~&2x_1 - x_2 + 4x_3   \\\\\n",
    "\\text{s.t.}~& x_1 + x_2 + x_4 \\leq 2 \\\\\n",
    "& 3x_2 - x_3 \\leq 5 \\\\\n",
    "& -3x_2 + x_3 \\leq -5 \\\\\n",
    "& -x_3 - x_4 \\leq -3 \\\\\n",
    "& -x_1 \\leq 0 \\\\\n",
    "& x_3 \\leq 0.\n",
    "\\end{align}\n",
    "\n",
    "### Beyond linear <a id=\"subsection2.2\"></a>\n",
    "\n",
    "The linear programming model is in fact much more versatile than its name suggests. Some nonlinear functions can be well approximated and addressed in linear programming problems.  \n",
    "\n",
    "<div class=\"alert alert-block alert-danger\">\n",
    "<b>Notes:</b> \n",
    "    <li> A function $g$ is called <b>convex</b> if for every $\\pmb{x}$, $\\pmb{y}$ and every $0 \\leq \\lambda \\leq 1$, we have $g(\\lambda\\pmb{x} + (1-\\lambda)\\pmb{x}) \\leq \\lambda g(\\pmb{x}) + (1-\\lambda)g(\\pmb{y})$.\n",
    "    <li> A function $g$ is called <b>concave</b> if for every $\\pmb{x}$, $\\pmb{y}$ and every $0 \\leq \\lambda \\leq 1$, we have $g(\\lambda\\pmb{x} + (1-\\lambda)\\pmb{x}) \\geq \\lambda g(\\pmb{x}) + (1-\\lambda)g(\\pmb{y})$.\n",
    "</div>\n",
    "\n",
    "<img src=\"https://i.stack.imgur.com/GNBZ4.png\" width=450>\n",
    "\n",
    "\n",
    "The graph above also tells us that if the function $g(\\pmb{x})$ is convex (or concave), then $-g(\\pmb{x})$ is concave (or convex). \n",
    "\n",
    "If a function $g$ is convex, then the following objective functions and constraints can be approximated and incorporated into a linear programming problem:\n",
    "- $\\min~g(x)$ \n",
    "- $\\max -g(x)$\n",
    "- $g(x) \\leq b$\n",
    "- $-g(x) \\geq b$.\n",
    "\n",
    "and if the function $g$ is concave, then we could address the following objective functions and constraints:\n",
    "- $\\min-g(x)$ \n",
    "- $\\max g(x)$\n",
    "- $g(x) \\geq b$\n",
    "- $-g(x) \\leq b$.\n",
    "\n",
    "The convex (or concave) function $g$ can be approximated by a **piecewise linear function**, so that constraints involving $g$ can be written as a number of linear constraints, as shown by the following graph."
   ]
  },
  {
   "cell_type": "code",
   "execution_count": 5,
   "metadata": {},
   "outputs": [],
   "source": [
    "def visual_pw(func, x_min, x_max, num_pieces=3):\n",
    "\n",
    "    step = 0.01\n",
    "    x = np.arange(x_min, x_max+step, step)\n",
    "    y = func(x)\n",
    "    plt.plot(x, y, color='b', linewidth=2, linestyle='--', label='Convex function')\n",
    "\n",
    "    step = (x_max - x_min)/num_pieces\n",
    "    x = np.arange(x_min, x_max+step, step)\n",
    "    y = func(x)\n",
    "    plt.plot(x, y, color='r', linewidth=2, label='Piecewise linear approximation')\n",
    "\n",
    "    plt.legend(fontsize=14)\n",
    "    plt.xlabel('x', fontsize=14)\n",
    "    plt.ylabel('g(x)', fontsize=14)\n",
    "    \n",
    "def func(x):\n",
    "    \"\"\"\n",
    "    This is a convex function. You are encouraged to specify\n",
    "    the function expression by yourself\n",
    "    \"\"\"\n",
    "    \n",
    "    return 3*x**2 + x + 2"
   ]
  },
  {
   "cell_type": "code",
   "execution_count": 8,
   "metadata": {
    "scrolled": true
   },
   "outputs": [
    {
     "data": {
      "image/png": "[encoded data removed]",
      "text/plain": [
       "<Figure size 432x288 with 1 Axes>"
      ]
     },
     "metadata": {
      "needs_background": "light"
     },
     "output_type": "display_data"
    }
   ],
   "source": [
    "num_pieces = 15\n",
    "x_min = -2\n",
    "x_max = 2\n",
    "\n",
    "visual_pw(func, x_min, x_max, num_pieces)"
   ]
  },
  {
   "cell_type": "markdown",
   "metadata": {},
   "source": [
    "As a result, the nonlinear constraint $g(x) \\leq b$ can be written as \n",
    "\\begin{align}\n",
    "&a_1x + d_1\\leq b \\\\\n",
    "&a_2x + d_2\\leq b \\\\\n",
    "&\\vdots \\\\\n",
    "&a_kx + d_k \\leq b\n",
    "\\end{align}\n",
    "where $k$ is the number of pieces used in approximating the convex function $g(x)$. \n",
    "\n",
    "### RSOME for Linear programming <a id=\"subsection2.3\">\n",
    "\n",
    "<div class=\"alert alert-block alert-success\">\n",
    "<b>Example 2:</b>  \n",
    "    Solve the linear programming problem:\n",
    "\\begin{align}\n",
    "\\text{max}~&3x_1 + 4x_2   \\\\\n",
    "\\text{s.t.}~& 2.5x_1 +x_2 \\leq 20 \\\\\n",
    "& 5x_1 + 3x_2 \\leq 30 \\\\\n",
    "& x_1 + 2x_2 \\leq 16. \\\\\n",
    "\\end{align}\n",
    "</div>\n",
    "\n",
    "Among many packages capable of solving linear programming problems, RSOME might be the most convenient one because it is compatible with NumPy N-dimensional arrays. "
   ]
  },
  {
   "cell_type": "code",
   "execution_count": 9,
   "metadata": {
    "scrolled": true
   },
   "outputs": [
    {
     "name": "stdout",
     "output_type": "stream",
     "text": [
      "Being solved by OR-Tools...\n",
      "Solution status: 0\n",
      "Running time: 0.0055s\n"
     ]
    }
   ],
   "source": [
    "model = ro.Model()\n",
    "\n",
    "x1 = model.dvar()                   # Define a decision variable x1\n",
    "x2 = model.dvar()                   # Define a decision variable x2\n",
    "\n",
    "model.max(3*x1 + 4*x2)              # Maximize the objective function\n",
    "model.st(2.5*x1 + x2 <= 20)         # Specify the 1st constraints\n",
    "model.st(5*x1 + 3*x2 <= 30)         # Specify the 2nd constraints\n",
    "model.st(x1 + 2*x2 <= 16)           # Specify the 3rd constraints\n",
    "\n",
    "model.solve(ort)                    # Solve the model by OR-Tools"
   ]
  },
  {
   "cell_type": "markdown",
   "metadata": {},
   "source": [
    "The optimal solution can be retrieved by the `get()` method of decision variables."
   ]
  },
  {
   "cell_type": "code",
   "execution_count": 6,
   "metadata": {
    "scrolled": true
   },
   "outputs": [
    {
     "name": "stdout",
     "output_type": "stream",
     "text": [
      "[1.71428571]\n",
      "[7.14285714]\n"
     ]
    }
   ],
   "source": [
    "print(x1.get())\n",
    "print(x2.get())"
   ]
  },
  {
   "cell_type": "markdown",
   "metadata": {},
   "source": [
    "The corresponding objective value is given by the `get()` method of the model object."
   ]
  },
  {
   "cell_type": "code",
   "execution_count": 7,
   "metadata": {},
   "outputs": [
    {
     "data": {
      "text/plain": [
       "33.71428571428572"
      ]
     },
     "execution_count": 7,
     "metadata": {},
     "output_type": "execute_result"
    }
   ],
   "source": [
    "model.get()"
   ]
  },
  {
   "cell_type": "markdown",
   "metadata": {},
   "source": [
    "An alternative method is to define $x1$ and $x2$ as an array of decision variables."
   ]
  },
  {
   "cell_type": "code",
   "execution_count": 8,
   "metadata": {
    "scrolled": true
   },
   "outputs": [
    {
     "name": "stdout",
     "output_type": "stream",
     "text": [
      "Being solved by OR-Tools...\n",
      "Solution status: 0\n",
      "Running time: 0.0005s\n"
     ]
    }
   ],
   "source": [
    "model = ro.Model()\n",
    "\n",
    "x = model.dvar(2)                   # Define x1 and x2 as an array\n",
    "\n",
    "model.max(3*x[0] + 4*x[1])          # Maximize the objective function\n",
    "model.st(2.5*x[0] + x[1] <= 20)     # Specify the 1st constraints\n",
    "model.st(5*x[0] + 3*x[1] <= 30)     # Specify the 2nd constraints\n",
    "model.st(x[0] + 2*x[1] <= 16)       # Specify the 3rd constraints\n",
    "\n",
    "model.solve(ort)"
   ]
  },
  {
   "cell_type": "code",
   "execution_count": 9,
   "metadata": {},
   "outputs": [
    {
     "data": {
      "text/plain": [
       "array([1.71428571, 7.14285714])"
      ]
     },
     "execution_count": 9,
     "metadata": {},
     "output_type": "execute_result"
    }
   ],
   "source": [
    "x.get()"
   ]
  },
  {
   "cell_type": "markdown",
   "metadata": {},
   "source": [
    "A third method is to define model parameters as arrays, and the linear programming problem is specified by NumPy-style array operations. "
   ]
  },
  {
   "cell_type": "code",
   "execution_count": 10,
   "metadata": {
    "scrolled": false
   },
   "outputs": [
    {
     "name": "stdout",
     "output_type": "stream",
     "text": [
      "Being solved by OR-Tools...\n",
      "Solution status: 0\n",
      "Running time: 0.0005s\n"
     ]
    }
   ],
   "source": [
    "c = np.array([3, 4])                # Coefficient of the objective function\n",
    "b = np.array([20, 30, 16])          # Right-hand-side coefficients of constraints\n",
    "A = np.array([[2.5, 1],\n",
    "              [5, 3],\n",
    "              [1, 2]])              # Left-hand-side coefficients of constraints\n",
    "\n",
    "model = ro.Model()\n",
    "\n",
    "x = model.dvar(2)\n",
    "\n",
    "model.max((c*x).sum())\n",
    "model.st((A*x).sum(axis=1) <= b)\n",
    "\n",
    "model.solve(ort)"
   ]
  },
  {
   "cell_type": "code",
   "execution_count": 11,
   "metadata": {},
   "outputs": [
    {
     "data": {
      "text/plain": [
       "array([1.71428571, 7.14285714])"
      ]
     },
     "execution_count": 11,
     "metadata": {},
     "output_type": "execute_result"
    }
   ],
   "source": [
    "x.get()"
   ]
  },
  {
   "cell_type": "markdown",
   "metadata": {},
   "source": [
    "The third method would be preferred if model parameters are provided in data frames or NumPy arrays. \n",
    "\n",
    "<div class=\"alert alert-block alert-success\">\n",
    "<b>Example 3:</b>  \n",
    "The following table provides the cost and nutrition values of four different types of food. Find a minimum-cost diet that contains at least 1) 500 calories; 2) 6 grams of chocolate; 3) 10 grams of sugar; and 4) 8 grams of fat. \n",
    "</div>"
   ]
  },
  {
   "cell_type": "code",
   "execution_count": 10,
   "metadata": {
    "scrolled": true
   },
   "outputs": [
    {
     "data": {
      "text/html": [
       "<div>\n",
       "<style scoped>\n",
       "    .dataframe tbody tr th:only-of-type {\n",
       "        vertical-align: middle;\n",
       "    }\n",
       "\n",
       "    .dataframe tbody tr th {\n",
       "        vertical-align: top;\n",
       "    }\n",
       "\n",
       "    .dataframe thead th {\n",
       "        text-align: right;\n",
       "    }\n",
       "</style>\n",
       "<table border=\"1\" class=\"dataframe\">\n",
       "  <thead>\n",
       "    <tr style=\"text-align: right;\">\n",
       "      <th></th>\n",
       "      <th>Brownies</th>\n",
       "      <th>Ice Cream</th>\n",
       "      <th>Cola</th>\n",
       "      <th>Cheese Cake</th>\n",
       "    </tr>\n",
       "  </thead>\n",
       "  <tbody>\n",
       "    <tr>\n",
       "      <th>Calories</th>\n",
       "      <td>400.0</td>\n",
       "      <td>200.0</td>\n",
       "      <td>150.0</td>\n",
       "      <td>500.0</td>\n",
       "    </tr>\n",
       "    <tr>\n",
       "      <th>Chocolate</th>\n",
       "      <td>3.0</td>\n",
       "      <td>2.0</td>\n",
       "      <td>0.0</td>\n",
       "      <td>0.0</td>\n",
       "    </tr>\n",
       "    <tr>\n",
       "      <th>Sugar</th>\n",
       "      <td>2.0</td>\n",
       "      <td>2.0</td>\n",
       "      <td>4.0</td>\n",
       "      <td>4.0</td>\n",
       "    </tr>\n",
       "    <tr>\n",
       "      <th>Fat</th>\n",
       "      <td>2.0</td>\n",
       "      <td>4.0</td>\n",
       "      <td>1.0</td>\n",
       "      <td>5.0</td>\n",
       "    </tr>\n",
       "    <tr>\n",
       "      <th>Cost</th>\n",
       "      <td>0.5</td>\n",
       "      <td>0.2</td>\n",
       "      <td>0.3</td>\n",
       "      <td>0.8</td>\n",
       "    </tr>\n",
       "  </tbody>\n",
       "</table>\n",
       "</div>"
      ],
      "text/plain": [
       "           Brownies  Ice Cream   Cola  Cheese Cake\n",
       "Calories      400.0      200.0  150.0        500.0\n",
       "Chocolate       3.0        2.0    0.0          0.0\n",
       "Sugar           2.0        2.0    4.0          4.0\n",
       "Fat             2.0        4.0    1.0          5.0\n",
       "Cost            0.5        0.2    0.3          0.8"
      ]
     },
     "execution_count": 10,
     "metadata": {},
     "output_type": "execute_result"
    }
   ],
   "source": [
    "diet_dict = {'Brownies': [400, 3, 2, 2, 0.5],\n",
    "             'Ice Cream': [200, 2, 2, 4, 0.2], \n",
    "             'Cola': [150, 0, 4, 1, 0.3],\n",
    "             'Cheese Cake': [500, 0, 4, 5, 0.8]}\n",
    "diet = pd.DataFrame(diet_dict, \n",
    "                    index=['Calories', 'Chocolate', 'Sugar', 'Fat', 'Cost'])\n",
    "diet"
   ]
  },
  {
   "cell_type": "code",
   "execution_count": 11,
   "metadata": {
    "scrolled": true
   },
   "outputs": [
    {
     "data": {
      "text/plain": [
       "array([[4.0e+02, 2.0e+02, 1.5e+02, 5.0e+02],\n",
       "       [3.0e+00, 2.0e+00, 0.0e+00, 0.0e+00],\n",
       "       [2.0e+00, 2.0e+00, 4.0e+00, 4.0e+00],\n",
       "       [2.0e+00, 4.0e+00, 1.0e+00, 5.0e+00],\n",
       "       [5.0e-01, 2.0e-01, 3.0e-01, 8.0e-01]])"
      ]
     },
     "execution_count": 11,
     "metadata": {},
     "output_type": "execute_result"
    }
   ],
   "source": [
    "diet_array = diet.values\n",
    "diet_array"
   ]
  },
  {
   "cell_type": "code",
   "execution_count": 14,
   "metadata": {
    "scrolled": true
   },
   "outputs": [
    {
     "data": {
      "text/plain": [
       "array([500,   6,  10,   8])"
      ]
     },
     "execution_count": 14,
     "metadata": {},
     "output_type": "execute_result"
    }
   ],
   "source": [
    "nutrition = np.array([500, 6, 10, 8])\n",
    "nutrition"
   ]
  },
  {
   "cell_type": "markdown",
   "metadata": {},
   "source": [
    "Let $\\pmb{A}$ be the two-dimensional array given by the table `diet_array`, $\\pmb{b}$ be the one-dimensional array `nutrition`, then diet problem can be formulated as\n",
    "\\begin{align}\n",
    "\\min~&A_{41}x_1 + A_{42}x_2 + A_{43}x_3 + A_{44}x_4 \\\\\n",
    "\\text{s.t.}~&A_{01}x_1 + A_{02}x_2 + A_{03}x_3 + A_{04}x_4 \\geq b_0 \\\\\n",
    "&A_{11}x_1 + A_{12}x_2 + A_{13}x_3 + A_{14}x_4 \\geq b_1 \\\\\n",
    "&A_{21}x_1 + A_{22}x_2 + A_{23}x_3 + A_{24}x_4 \\geq b_2 \\\\\n",
    "&A_{31}x_1 + A_{32}x_2 + A_{33}x_3 + A_{34}x_4 \\geq b_3 \\\\\n",
    "&x_1, x_2, x_3, x_4 \\geq 0.\n",
    "\\end{align}\n",
    "where $x_i$ is the quantity of the $i$th food. Such a linear programming problem can be solved by the following code. "
   ]
  },
  {
   "cell_type": "code",
   "execution_count": 15,
   "metadata": {
    "scrolled": true
   },
   "outputs": [
    {
     "data": {
      "text/plain": [
       "array([[400., 200., 150., 500.],\n",
       "       [  3.,   2.,   0.,   0.],\n",
       "       [  2.,   2.,   4.,   4.],\n",
       "       [  2.,   4.,   1.,   5.]])"
      ]
     },
     "execution_count": 15,
     "metadata": {},
     "output_type": "execute_result"
    }
   ],
   "source": [
    "diet_array[:-1, :]"
   ]
  },
  {
   "cell_type": "code",
   "execution_count": 16,
   "metadata": {
    "scrolled": false
   },
   "outputs": [
    {
     "name": "stdout",
     "output_type": "stream",
     "text": [
      "Being solved by OR-Tools...\n",
      "Solution status: 0\n",
      "Running time: 0.0007s\n"
     ]
    },
    {
     "data": {
      "text/plain": [
       "Brownies       0.0\n",
       "Ice Cream      3.0\n",
       "Cola           1.0\n",
       "Cheese Cake    0.0\n",
       "dtype: float64"
      ]
     },
     "execution_count": 16,
     "metadata": {},
     "output_type": "execute_result"
    }
   ],
   "source": [
    "model = ro.Model()\n",
    "\n",
    "x = model.dvar(4)                   # Define decision variables\n",
    "\n",
    "model.min((diet_array[-1, :]*x).sum())\n",
    "model.st((diet_array[:-1, :]*x).sum(axis=1) >= nutrition)\n",
    "model.st(x >= 0)\n",
    "model.solve(ort)\n",
    "\n",
    "pd.Series(x.get(), \n",
    "          index=['Brownies', 'Ice Cream', 'Cola', 'Cheese Cake'])"
   ]
  },
  {
   "cell_type": "markdown",
   "metadata": {},
   "source": [
    "If you are familiar with linear algebra, the model can be coded in a more concise way. "
   ]
  },
  {
   "cell_type": "code",
   "execution_count": 17,
   "metadata": {
    "scrolled": true
   },
   "outputs": [
    {
     "name": "stdout",
     "output_type": "stream",
     "text": [
      "Being solved by OR-Tools...\n",
      "Solution status: 0\n",
      "Running time: 0.0004s\n"
     ]
    },
    {
     "data": {
      "text/plain": [
       "Brownies       0.0\n",
       "Ice Cream      3.0\n",
       "Cola           1.0\n",
       "Cheese Cake    0.0\n",
       "dtype: float64"
      ]
     },
     "execution_count": 17,
     "metadata": {},
     "output_type": "execute_result"
    }
   ],
   "source": [
    "model = ro.Model()\n",
    "\n",
    "x = model.dvar(4)                   # Define decision variables\n",
    "\n",
    "model.min(diet_array[-1, :] @ x)\n",
    "model.st(diet_array[:-1, :] @ x >= nutrition)\n",
    "model.st(x >= 0)\n",
    "model.solve(ort)\n",
    "\n",
    "pd.Series(x.get(), \n",
    "          index=['Brownies', 'Ice Cream', 'Cola', 'Cheese Cake'])"
   ]
  },
  {
   "cell_type": "markdown",
   "metadata": {},
   "source": [
    "<div class=\"alert alert-block alert-success\">\n",
    "<b>Example 4:</b>  \n",
    "A company has three PC assembly plants at locations a, b, and c, with monthly production capacity of 1700 units, 2000 units, and 1700 units, respectively. Their PC's are sold through four retail outlets in locations A, B, C, and D, with monthly orders of 1700 units, 1000 units, 1500 units, and 1200 units respectively. The shipping costs from each plant to each outlet are presented in the following table. Use a linear programming model to find out the optimal shipping decision.  \n",
    "</div>"
   ]
  },
  {
   "cell_type": "code",
   "execution_count": 15,
   "metadata": {
    "scrolled": true
   },
   "outputs": [
    {
     "data": {
      "text/html": [
       "<div>\n",
       "<style scoped>\n",
       "    .dataframe tbody tr th:only-of-type {\n",
       "        vertical-align: middle;\n",
       "    }\n",
       "\n",
       "    .dataframe tbody tr th {\n",
       "        vertical-align: top;\n",
       "    }\n",
       "\n",
       "    .dataframe thead th {\n",
       "        text-align: right;\n",
       "    }\n",
       "</style>\n",
       "<table border=\"1\" class=\"dataframe\">\n",
       "  <thead>\n",
       "    <tr style=\"text-align: right;\">\n",
       "      <th></th>\n",
       "      <th>A</th>\n",
       "      <th>B</th>\n",
       "      <th>C</th>\n",
       "      <th>D</th>\n",
       "    </tr>\n",
       "  </thead>\n",
       "  <tbody>\n",
       "    <tr>\n",
       "      <th>a</th>\n",
       "      <td>5</td>\n",
       "      <td>4</td>\n",
       "      <td>2</td>\n",
       "      <td>6</td>\n",
       "    </tr>\n",
       "    <tr>\n",
       "      <th>b</th>\n",
       "      <td>7</td>\n",
       "      <td>7</td>\n",
       "      <td>8</td>\n",
       "      <td>10</td>\n",
       "    </tr>\n",
       "    <tr>\n",
       "      <th>c</th>\n",
       "      <td>6</td>\n",
       "      <td>5</td>\n",
       "      <td>3</td>\n",
       "      <td>8</td>\n",
       "    </tr>\n",
       "  </tbody>\n",
       "</table>\n",
       "</div>"
      ],
      "text/plain": [
       "   A  B  C   D\n",
       "a  5  4  2   6\n",
       "b  7  7  8  10\n",
       "c  6  5  3   8"
      ]
     },
     "execution_count": 15,
     "metadata": {},
     "output_type": "execute_result"
    }
   ],
   "source": [
    "ship_cost = pd.DataFrame([[5, 4, 2, 6],\n",
    "                          [7, 7, 8, 10], \n",
    "                          [6, 5, 3, 8]], \n",
    "                         index=['a', 'b', 'c'], \n",
    "                         columns=['A', 'B', 'C', 'D'])\n",
    "ship_cost"
   ]
  },
  {
   "cell_type": "markdown",
   "metadata": {},
   "source": [
    "The linear programming problem can be written as\n",
    "\n",
    "\\begin{align}\n",
    "\\min~&\\sum\\limits_{i=0}^2\\sum\\limits_{j=0}^3A_{ij}x_{ij}&& \\\\\n",
    "\\text{s.t.}~&x_{i0} + x_{i1} + x_{i2} +x_{i3}\\leq c_i &&i=0, 1, 2 \\\\\n",
    "&x_{0j} + x_{1j} + x_{2j} \\geq d_j && j=0, 1, 2, 3 \\\\\n",
    "&x_{ij} \\geq 0 && i=0, 1, 2 \\text{ and } j=0, 1, 2, 3\n",
    "\\end{align}\n",
    "\n",
    "where $\\pmb{c}=\\{1700, 2000, 1700\\}$ is the array of production capacities, and $\\pmb{d}=\\{1700, 1000, 1500, 1200\\}$ is the array of orders at different locations. The decision variable $x_{ij}$ is amount of products transported from location $i$ to location $j$. The model can be thus built as below."
   ]
  },
  {
   "cell_type": "code",
   "execution_count": 16,
   "metadata": {
    "scrolled": true
   },
   "outputs": [
    {
     "name": "stdout",
     "output_type": "stream",
     "text": [
      "Being solved by OR-Tools...\n",
      "Solution status: 0\n",
      "Running time: 0.0024s\n"
     ]
    },
    {
     "data": {
      "text/html": [
       "<div>\n",
       "<style scoped>\n",
       "    .dataframe tbody tr th:only-of-type {\n",
       "        vertical-align: middle;\n",
       "    }\n",
       "\n",
       "    .dataframe tbody tr th {\n",
       "        vertical-align: top;\n",
       "    }\n",
       "\n",
       "    .dataframe thead th {\n",
       "        text-align: right;\n",
       "    }\n",
       "</style>\n",
       "<table border=\"1\" class=\"dataframe\">\n",
       "  <thead>\n",
       "    <tr style=\"text-align: right;\">\n",
       "      <th></th>\n",
       "      <th>A</th>\n",
       "      <th>B</th>\n",
       "      <th>C</th>\n",
       "      <th>D</th>\n",
       "    </tr>\n",
       "  </thead>\n",
       "  <tbody>\n",
       "    <tr>\n",
       "      <th>a</th>\n",
       "      <td>0.0</td>\n",
       "      <td>0.0</td>\n",
       "      <td>500.0</td>\n",
       "      <td>1200.0</td>\n",
       "    </tr>\n",
       "    <tr>\n",
       "      <th>b</th>\n",
       "      <td>1700.0</td>\n",
       "      <td>300.0</td>\n",
       "      <td>0.0</td>\n",
       "      <td>0.0</td>\n",
       "    </tr>\n",
       "    <tr>\n",
       "      <th>c</th>\n",
       "      <td>0.0</td>\n",
       "      <td>700.0</td>\n",
       "      <td>1000.0</td>\n",
       "      <td>0.0</td>\n",
       "    </tr>\n",
       "  </tbody>\n",
       "</table>\n",
       "</div>"
      ],
      "text/plain": [
       "        A      B       C       D\n",
       "a     0.0    0.0   500.0  1200.0\n",
       "b  1700.0  300.0     0.0     0.0\n",
       "c     0.0  700.0  1000.0     0.0"
      ]
     },
     "execution_count": 16,
     "metadata": {},
     "output_type": "execute_result"
    }
   ],
   "source": [
    "A = ship_cost.values\n",
    "c = np.array([1700, 2000, 1700])\n",
    "d = np.array([1700, 1000, 1500, 1200])\n",
    "\n",
    "model = ro.Model()\n",
    "\n",
    "x = model.dvar((3, 4))      \n",
    "\n",
    "model.min((A * x).sum())\n",
    "model.st(x.sum(axis=1) <= c)\n",
    "model.st(x.sum(axis=0) >= d)\n",
    "model.st(x >= 0)\n",
    "model.solve(ort)\n",
    "\n",
    "pd.DataFrame(x.get(), \n",
    "             index=['a', 'b', 'c'], \n",
    "             columns=['A', 'B', 'C', 'D'])"
   ]
  },
  {
   "cell_type": "markdown",
   "metadata": {},
   "source": [
    " "
   ]
  },
  {
   "cell_type": "markdown",
   "metadata": {},
   "source": [
    "## Decision-making under uncertainty <a id=\"section3\"></a>\n",
    "\n",
    "In all previous examples, it is assumed that all model parameters are certain, or deterministic. Apparently, such an assumption does not hold in many applications. For example, when deciding the order quantity of a product, the demand is usually unknown, and a deterministic model many lead to sub-optimal solutions. \n",
    "\n",
    "<div class=\"alert alert-block alert-success\">\n",
    "<b>Example 5:</b>  \n",
    "This example considers a multi-item newsvendor problem. The historical data of five product items are provided in the file 'newspaper_demand.csv'. The order cost for these products are all $\\$1$, and the selling prices are $\\$1.2$, $\\$1.25$, $\\$1.5$, $\\$1.7$, and $\\$1.85$, respectively. If the budget of ordering these products is $\\$425$, what are the optimal order quantities that maximize the profit?\n",
    "</div>"
   ]
  },
  {
   "cell_type": "code",
   "execution_count": 23,
   "metadata": {},
   "outputs": [
    {
     "data": {
      "text/html": [
       "<div>\n",
       "<style scoped>\n",
       "    .dataframe tbody tr th:only-of-type {\n",
       "        vertical-align: middle;\n",
       "    }\n",
       "\n",
       "    .dataframe tbody tr th {\n",
       "        vertical-align: top;\n",
       "    }\n",
       "\n",
       "    .dataframe thead th {\n",
       "        text-align: right;\n",
       "    }\n",
       "</style>\n",
       "<table border=\"1\" class=\"dataframe\">\n",
       "  <thead>\n",
       "    <tr style=\"text-align: right;\">\n",
       "      <th></th>\n",
       "      <th>Item 1</th>\n",
       "      <th>Item 2</th>\n",
       "      <th>Item 3</th>\n",
       "      <th>Item 4</th>\n",
       "      <th>Item 5</th>\n",
       "    </tr>\n",
       "  </thead>\n",
       "  <tbody>\n",
       "    <tr>\n",
       "      <th>0</th>\n",
       "      <td>269.323584</td>\n",
       "      <td>220.415121</td>\n",
       "      <td>293.304252</td>\n",
       "      <td>244.224456</td>\n",
       "      <td>189.486576</td>\n",
       "    </tr>\n",
       "    <tr>\n",
       "      <th>1</th>\n",
       "      <td>269.380246</td>\n",
       "      <td>251.620978</td>\n",
       "      <td>199.156070</td>\n",
       "      <td>193.071955</td>\n",
       "      <td>247.120274</td>\n",
       "    </tr>\n",
       "    <tr>\n",
       "      <th>2</th>\n",
       "      <td>252.820126</td>\n",
       "      <td>209.256886</td>\n",
       "      <td>234.173245</td>\n",
       "      <td>252.964251</td>\n",
       "      <td>143.988357</td>\n",
       "    </tr>\n",
       "    <tr>\n",
       "      <th>3</th>\n",
       "      <td>296.700322</td>\n",
       "      <td>277.800148</td>\n",
       "      <td>247.238449</td>\n",
       "      <td>202.779095</td>\n",
       "      <td>282.857073</td>\n",
       "    </tr>\n",
       "    <tr>\n",
       "      <th>4</th>\n",
       "      <td>229.330348</td>\n",
       "      <td>282.132690</td>\n",
       "      <td>254.490050</td>\n",
       "      <td>240.405708</td>\n",
       "      <td>146.547521</td>\n",
       "    </tr>\n",
       "    <tr>\n",
       "      <th>...</th>\n",
       "      <td>...</td>\n",
       "      <td>...</td>\n",
       "      <td>...</td>\n",
       "      <td>...</td>\n",
       "      <td>...</td>\n",
       "    </tr>\n",
       "    <tr>\n",
       "      <th>495</th>\n",
       "      <td>249.297996</td>\n",
       "      <td>122.211862</td>\n",
       "      <td>237.859906</td>\n",
       "      <td>203.635937</td>\n",
       "      <td>245.134135</td>\n",
       "    </tr>\n",
       "    <tr>\n",
       "      <th>496</th>\n",
       "      <td>311.710657</td>\n",
       "      <td>205.867389</td>\n",
       "      <td>225.807955</td>\n",
       "      <td>156.821242</td>\n",
       "      <td>168.385928</td>\n",
       "    </tr>\n",
       "    <tr>\n",
       "      <th>497</th>\n",
       "      <td>216.286850</td>\n",
       "      <td>240.101741</td>\n",
       "      <td>241.939460</td>\n",
       "      <td>249.046962</td>\n",
       "      <td>272.675370</td>\n",
       "    </tr>\n",
       "    <tr>\n",
       "      <th>498</th>\n",
       "      <td>264.283833</td>\n",
       "      <td>173.247978</td>\n",
       "      <td>156.602299</td>\n",
       "      <td>177.087376</td>\n",
       "      <td>150.251672</td>\n",
       "    </tr>\n",
       "    <tr>\n",
       "      <th>499</th>\n",
       "      <td>284.559428</td>\n",
       "      <td>136.045486</td>\n",
       "      <td>179.034730</td>\n",
       "      <td>241.815372</td>\n",
       "      <td>213.978251</td>\n",
       "    </tr>\n",
       "  </tbody>\n",
       "</table>\n",
       "<p>500 rows × 5 columns</p>\n",
       "</div>"
      ],
      "text/plain": [
       "         Item 1      Item 2      Item 3      Item 4      Item 5\n",
       "0    269.323584  220.415121  293.304252  244.224456  189.486576\n",
       "1    269.380246  251.620978  199.156070  193.071955  247.120274\n",
       "2    252.820126  209.256886  234.173245  252.964251  143.988357\n",
       "3    296.700322  277.800148  247.238449  202.779095  282.857073\n",
       "4    229.330348  282.132690  254.490050  240.405708  146.547521\n",
       "..          ...         ...         ...         ...         ...\n",
       "495  249.297996  122.211862  237.859906  203.635937  245.134135\n",
       "496  311.710657  205.867389  225.807955  156.821242  168.385928\n",
       "497  216.286850  240.101741  241.939460  249.046962  272.675370\n",
       "498  264.283833  173.247978  156.602299  177.087376  150.251672\n",
       "499  284.559428  136.045486  179.034730  241.815372  213.978251\n",
       "\n",
       "[500 rows x 5 columns]"
      ]
     },
     "execution_count": 23,
     "metadata": {},
     "output_type": "execute_result"
    }
   ],
   "source": [
    "demand = pd.read_csv('newspaper_demand.csv')\n",
    "demand"
   ]
  },
  {
   "cell_type": "code",
   "execution_count": 24,
   "metadata": {},
   "outputs": [],
   "source": [
    "cost = np.ones(5)\n",
    "price = np.array([1.2, 1.25, 1.5, 1.7, 1.85])\n",
    "budget = 425"
   ]
  },
  {
   "cell_type": "markdown",
   "metadata": {},
   "source": [
    "A simple and straightforward method to deal with the uncertain demand in the optimization model is to consider the average of the demand in constraints, so the newsvendor problem can be easily formulated as a deterministic model:\n",
    "\n",
    "\\begin{align}\n",
    "\\max~&\\sum\\limits_{i=0}^4(p_iy_i - c_ix_i) &&\\\\\n",
    "\\text{s.t.}~ &x_i \\geq 0 &&i = 0, 1, 2, 3, 4 \\\\\n",
    "&\\sum\\limits_{i=0}^4c_ix_i \\leq b && \\\\\n",
    "& y_i \\leq x_i && i = 0, 1, 2, 3, 4 \\\\\n",
    "& y_i \\leq \\bar{d}_i && i = 0, 1, 2, 3, 4, \n",
    "\\end{align}\n",
    "where the parameters:\n",
    "- $p_i$: the price of product item $i$;\n",
    "- $c_i$: the cost of product item $i$;\n",
    "- $b$: the budget of ordering products;\n",
    "- $\\bar{d}_i$: the average demand of product item $i$,\n",
    "\n",
    "and the decision variables:\n",
    "- $x_i$: the order quantity of product item $i$;\n",
    "- $y_i$: the sold quantity of product item $i$.\n",
    "\n",
    "The model can be thus written as the function `det_mdoel` which returns the optimal order quantities."
   ]
  },
  {
   "cell_type": "code",
   "execution_count": 25,
   "metadata": {
    "scrolled": false
   },
   "outputs": [],
   "source": [
    "def det_model(cost, price, demand, budget):\n",
    "    '''\n",
    "    The function det_model solves the optimal order quantities by applying the \n",
    "    average demand in the constriants.\n",
    "    '''\n",
    "    model = ro.Model()\n",
    "\n",
    "    n = len(price)\n",
    "    x = model.dvar(n, vtype='I')\n",
    "    y = model.dvar(n, vtype='I')\n",
    "\n",
    "    model.max((price*y - cost*x).sum())\n",
    "    model.st(x >= 0)\n",
    "    model.st((cost*x).sum() <= budget)\n",
    "    model.st(y <= x)\n",
    "    model.st(y <= demand.mean().values)\n",
    "    \n",
    "    model.solve(ort, display=False)\n",
    "\n",
    "    return pd.Series(x.get(), index=demand.columns)"
   ]
  },
  {
   "cell_type": "markdown",
   "metadata": {},
   "source": [
    "In the function above, the keyword argument `vtype='I'` is used to indicate that the decision variable `x` and `y` are integers. The optimal order quantity solved by the deterministic model is given below."
   ]
  },
  {
   "cell_type": "code",
   "execution_count": 26,
   "metadata": {
    "scrolled": false
   },
   "outputs": [
    {
     "data": {
      "text/plain": [
       "Item 1      0.0\n",
       "Item 2      0.0\n",
       "Item 3      9.0\n",
       "Item 4    213.0\n",
       "Item 5    203.0\n",
       "dtype: float64"
      ]
     },
     "execution_count": 26,
     "metadata": {},
     "output_type": "execute_result"
    }
   ],
   "source": [
    "order = det_model(cost, price, demand, budget)\n",
    "order"
   ]
  },
  {
   "cell_type": "markdown",
   "metadata": {},
   "source": [
    "The function `mc_sim()` is used to calculate the total profits for each demand record for a given order decision."
   ]
  },
  {
   "cell_type": "code",
   "execution_count": 27,
   "metadata": {},
   "outputs": [],
   "source": [
    "def mc_sim(cost, price, order, demand):\n",
    "    \n",
    "    demand_val = demand.values\n",
    "    sold = np.minimum(order, demand_val)\n",
    "    profits = (sold * price - order*cost).sum(axis=1)\n",
    "    \n",
    "    return profits"
   ]
  },
  {
   "cell_type": "code",
   "execution_count": 30,
   "metadata": {
    "scrolled": true
   },
   "outputs": [
    {
     "data": {
      "text/plain": [
       "(500,)"
      ]
     },
     "execution_count": 30,
     "metadata": {},
     "output_type": "execute_result"
    }
   ],
   "source": [
    "profits.shape"
   ]
  },
  {
   "cell_type": "code",
   "execution_count": 28,
   "metadata": {
    "scrolled": true
   },
   "outputs": [
    {
     "data": {
      "text/plain": [
       "265.16505886843385"
      ]
     },
     "execution_count": 28,
     "metadata": {},
     "output_type": "execute_result"
    }
   ],
   "source": [
    "profits = mc_sim(cost, price, order.values, demand)\n",
    "profits.mean()          # Average profit"
   ]
  },
  {
   "cell_type": "markdown",
   "metadata": {},
   "source": [
    "A more advanced method is the stochastic programming, which calculates the profit for each demand realization, and uses the average profit as the objective function. The formula is written as:\n",
    "\n",
    "\\begin{align}\n",
    "\\max~&\\frac{1}{s}\\sum\\limits_{j=0}^{s-1}\\sum\\limits_{i=0}^4p_iy_{ji} - \\sum\\limits_{i=0}^4 c_ix_i && &&\\\\\n",
    "\\text{s.t.}~ &x_i \\geq 0 &&i = 0, 1, 2, 3, 4 &&\\\\\n",
    "&\\sum\\limits_{i=0}^4c_ix_i \\leq b && &&\\\\\n",
    "& y_{ji} \\leq x_i && i = 0, 1, 2, 3, 4 && j = 0, 1, ..., s-1\\\\\n",
    "& y_{ji} \\leq d_{ji} && i = 0, 1, 2, 3, 4, && j = 0, 1, ..., s-1 \n",
    "\\end{align}\n",
    "\n",
    "where $s$ is size of the demand dataset, and the parameters:\n",
    "- $p_i$: the price of product item $i$;\n",
    "- $c_i$: the cost of product item $i$;\n",
    "- $b$: the budget of ordering products;\n",
    "- $d_{ji}$: the demand of product item $i$, as the $j$th record,\n",
    "\n",
    "and the decision variables:\n",
    "- $x_i$: the order quantity of product item $i$;\n",
    "- $y_{ji}$: the sold quantity of product item $i$, under the $j$th record of the demand.\n",
    "\n",
    "The model is coded as the function `sto_model()`."
   ]
  },
  {
   "cell_type": "code",
   "execution_count": 26,
   "metadata": {
    "scrolled": true
   },
   "outputs": [],
   "source": [
    "def sto_model(cost, price, demand, budget):\n",
    "    '''\n",
    "    The function sto_model solves the optimal order quantities by a stochastic model\n",
    "    '''\n",
    "    \n",
    "    model = ro.Model()\n",
    "\n",
    "    n = 5\n",
    "    s = demand.shape[0]\n",
    "    x = model.dvar(n, vtype='I')\n",
    "    y = model.dvar((s, n), vtype='I')\n",
    "\n",
    "    model.max((1/s) * (price*y - cost*x).sum())\n",
    "    model.st(x >= 0)\n",
    "    model.st(y <= x)\n",
    "    model.st(y <= demand.values)\n",
    "    model.st((cost*x).sum() <= budget)\n",
    "\n",
    "    model.solve(ort, display=False)\n",
    "\n",
    "    return pd.Series(x.get(), index=demand.columns)"
   ]
  },
  {
   "cell_type": "markdown",
   "metadata": {},
   "source": [
    "Please note that we are specifying the keyword argument `vtype='I'` so that decision variable `x` and `y` are integers. "
   ]
  },
  {
   "cell_type": "code",
   "execution_count": 27,
   "metadata": {
    "scrolled": true
   },
   "outputs": [
    {
     "data": {
      "text/plain": [
       "Item 1      0.0\n",
       "Item 2      0.0\n",
       "Item 3    103.0\n",
       "Item 4    160.0\n",
       "Item 5    162.0\n",
       "dtype: float64"
      ]
     },
     "execution_count": 27,
     "metadata": {},
     "output_type": "execute_result"
    }
   ],
   "source": [
    "order = sto_model(cost, price, demand, budget)\n",
    "order"
   ]
  },
  {
   "cell_type": "markdown",
   "metadata": {},
   "source": [
    "It can be seen that the decision for the stochastic model is different from the deterministic one, and we have the average profit to be improved, as shown below."
   ]
  },
  {
   "cell_type": "code",
   "execution_count": 28,
   "metadata": {
    "scrolled": true
   },
   "outputs": [
    {
     "data": {
      "text/plain": [
       "290.08737645057107"
      ]
     },
     "execution_count": 28,
     "metadata": {},
     "output_type": "execute_result"
    }
   ],
   "source": [
    "profits = mc_sim(cost, price, order.values, demand)\n",
    "profits.mean()"
   ]
  },
  {
   "cell_type": "markdown",
   "metadata": {},
   "source": [
    "In fact, we can vary the budget value, and assess the performance in terms of the average profits for both models, and the results are shown below. "
   ]
  },
  {
   "cell_type": "code",
   "execution_count": 29,
   "metadata": {
    "scrolled": false
   },
   "outputs": [],
   "source": [
    "step = 50\n",
    "budgets = np.arange(200, 1500+step, step)\n",
    "\n",
    "profits_det = []\n",
    "profits_sto = []\n",
    "for budget in budgets: \n",
    "    order_det = det_model(cost, price, demand, budget)\n",
    "    order_val = order_det.values\n",
    "    profits_det.append(mc_sim(cost, price, order_val, demand).mean())\n",
    "    \n",
    "    order_sto = sto_model(cost, price, demand, budget)\n",
    "    order_val = order_sto.values\n",
    "    profits_sto.append(mc_sim(cost, price, order_val, demand).mean())\n",
    "    "
   ]
  },
  {
   "cell_type": "code",
   "execution_count": 30,
   "metadata": {},
   "outputs": [
    {
     "data": {
      "image/png": "[encoded data removed]",
      "text/plain": [
       "<Figure size 432x288 with 1 Axes>"
      ]
     },
     "metadata": {
      "needs_background": "light"
     },
     "output_type": "display_data"
    }
   ],
   "source": [
    "plt.plot(budgets, profits_det, color='b', label='Deterministic model')\n",
    "plt.plot(budgets, profits_sto, color='r', label='Stochstic model')\n",
    "\n",
    "plt.legend(fontsize=12)\n",
    "plt.xlabel('Budgets ($)', fontsize=14)\n",
    "plt.ylabel('Profits ($)', fontsize=14)\n",
    "plt.show()"
   ]
  },
  {
   "cell_type": "markdown",
   "metadata": {},
   "source": [
    "This example shows that the stochastic model would outperform the deterministic model."
   ]
  },
  {
   "cell_type": "markdown",
   "metadata": {},
   "source": [
    " "
   ]
  },
  {
   "cell_type": "markdown",
   "metadata": {},
   "source": [
    "## Case study <a id=\"section4\"></a>\n",
    "\n",
    "### Task 1\n",
    "\n",
    "A furniture company is producing four types furniture: chairs, tables, stools, and shelves. All furniture products involves three operations: plaining, assembling, and painting. The profits of each type of furniture, and the required working minutes for each operation is presented in the table `furniture`. "
   ]
  },
  {
   "cell_type": "code",
   "execution_count": 32,
   "metadata": {
    "scrolled": true
   },
   "outputs": [
    {
     "data": {
      "text/html": [
       "<div>\n",
       "<style scoped>\n",
       "    .dataframe tbody tr th:only-of-type {\n",
       "        vertical-align: middle;\n",
       "    }\n",
       "\n",
       "    .dataframe tbody tr th {\n",
       "        vertical-align: top;\n",
       "    }\n",
       "\n",
       "    .dataframe thead th {\n",
       "        text-align: right;\n",
       "    }\n",
       "</style>\n",
       "<table border=\"1\" class=\"dataframe\">\n",
       "  <thead>\n",
       "    <tr style=\"text-align: right;\">\n",
       "      <th></th>\n",
       "      <th>Chair</th>\n",
       "      <th>Table</th>\n",
       "      <th>Stool</th>\n",
       "      <th>Shelf</th>\n",
       "    </tr>\n",
       "  </thead>\n",
       "  <tbody>\n",
       "    <tr>\n",
       "      <th>Profit</th>\n",
       "      <td>12.0</td>\n",
       "      <td>18.00</td>\n",
       "      <td>16.0</td>\n",
       "      <td>30.0</td>\n",
       "    </tr>\n",
       "    <tr>\n",
       "      <th>Plaining</th>\n",
       "      <td>5.0</td>\n",
       "      <td>10.00</td>\n",
       "      <td>12.0</td>\n",
       "      <td>12.0</td>\n",
       "    </tr>\n",
       "    <tr>\n",
       "      <th>Assembling</th>\n",
       "      <td>6.0</td>\n",
       "      <td>3.00</td>\n",
       "      <td>4.0</td>\n",
       "      <td>5.0</td>\n",
       "    </tr>\n",
       "    <tr>\n",
       "      <th>Painting</th>\n",
       "      <td>5.0</td>\n",
       "      <td>6.25</td>\n",
       "      <td>5.0</td>\n",
       "      <td>12.5</td>\n",
       "    </tr>\n",
       "  </tbody>\n",
       "</table>\n",
       "</div>"
      ],
      "text/plain": [
       "            Chair  Table  Stool  Shelf\n",
       "Profit       12.0  18.00   16.0   30.0\n",
       "Plaining      5.0  10.00   12.0   12.0\n",
       "Assembling    6.0   3.00    4.0    5.0\n",
       "Painting      5.0   6.25    5.0   12.5"
      ]
     },
     "execution_count": 32,
     "metadata": {},
     "output_type": "execute_result"
    }
   ],
   "source": [
    "furniture = pd.DataFrame([[12.0, 18.0, 16.0, 30.0],\n",
    "                          [5, 10, 12, 12],\n",
    "                          [6, 3, 4, 5],\n",
    "                          [5, 6.25, 5, 12.5]], \n",
    "                         index=['Profit', 'Plaining', 'Assembling', 'Painting'], \n",
    "                         columns=['Chair', 'Table', 'Stool', 'Shelf'])\n",
    "furniture"
   ]
  },
  {
   "cell_type": "markdown",
   "metadata": {},
   "source": [
    "It is assumed that the due to a license issue, this company can at most produce 1200 shelf per month, and the maximum working minutes for each operation is given in the series `cap`. "
   ]
  },
  {
   "cell_type": "code",
   "execution_count": 33,
   "metadata": {
    "scrolled": true
   },
   "outputs": [
    {
     "data": {
      "text/plain": [
       "Plaining      27000.0\n",
       "Assembling    18000.0\n",
       "Painting      25000.0\n",
       "dtype: float64"
      ]
     },
     "execution_count": 33,
     "metadata": {},
     "output_type": "execute_result"
    }
   ],
   "source": [
    "cap = pd.Series([27000.0, 18000.0, 25000.0], \n",
    "                index=['Plaining', 'Assembling', 'Painting'])\n",
    "cap"
   ]
  },
  {
   "cell_type": "markdown",
   "metadata": {},
   "source": [
    "Write the formula of the linear programming model which maximizes the total profit. Use RSOME to implement the model.\n",
    "\n",
    "$$\n",
    "\\begin{align}\n",
    "\\max ~ &\\sum\\limits_{i=1}^3A_{0i}x_i \\\\\n",
    "\\text{s.t.}~&\\sum\\limits_{i=1}^3A_{(j+1)i}x_i \\leq c_j, &&j=0, 1, 2 \\\\\n",
    "&x_3 \\leq 1200 \\\\\n",
    "&x_i \\geq 0, &&i=0, 1, 2, 3\n",
    "\\end{align}\n",
    "$$"
   ]
  },
  {
   "cell_type": "code",
   "execution_count": 36,
   "metadata": {
    "scrolled": true
   },
   "outputs": [
    {
     "name": "stdout",
     "output_type": "stream",
     "text": [
      "Being solved by OR-Tools...\n",
      "Solution status: 0\n",
      "Running time: 0.0071s\n"
     ]
    }
   ],
   "source": [
    "A = furniture.values\n",
    "c = cap.values\n",
    "\n",
    "model = ro.Model()\n",
    "\n",
    "x = model.dvar(4, vtype='I')\n",
    "\n",
    "model.max((A[0]*x).sum())\n",
    "model.st((A[1:]*x).sum(axis=1) <= c)\n",
    "model.st(x[-1] <= 1200)\n",
    "model.st(x >= 0)\n",
    "\n",
    "model.solve(ort)"
   ]
  },
  {
   "cell_type": "code",
   "execution_count": 38,
   "metadata": {
    "scrolled": true
   },
   "outputs": [
    {
     "data": {
      "text/plain": [
       "Chair    1132.0\n",
       "Table     694.0\n",
       "Stool       0.0\n",
       "Shelf    1200.0\n",
       "dtype: float64"
      ]
     },
     "execution_count": 38,
     "metadata": {},
     "output_type": "execute_result"
    }
   ],
   "source": [
    "pd.Series(x.get(), index=furniture.columns)"
   ]
  },
  {
   "cell_type": "code",
   "execution_count": 47,
   "metadata": {
    "scrolled": true
   },
   "outputs": [
    {
     "name": "stdout",
     "output_type": "stream",
     "text": [
      "Being solved by OR-Tools...\n",
      "Solution status: 0\n",
      "Running time: 0.0010s\n"
     ]
    }
   ],
   "source": [
    "A = furniture.values\n",
    "c = cap.values\n",
    "\n",
    "model = ro.Model()\n",
    "\n",
    "x = model.dvar(4, vtype='I')\n",
    "\n",
    "model.max(A[0] @ x)\n",
    "model.st(A[1:] @ x <= c)\n",
    "model.st(x[-1] <= 1200)\n",
    "model.st(x >= 0)\n",
    "\n",
    "model.solve(ort)"
   ]
  },
  {
   "cell_type": "code",
   "execution_count": 48,
   "metadata": {
    "scrolled": true
   },
   "outputs": [
    {
     "data": {
      "text/plain": [
       "Chair    1132.0\n",
       "Table     694.0\n",
       "Stool       0.0\n",
       "Shelf    1200.0\n",
       "dtype: float64"
      ]
     },
     "execution_count": 48,
     "metadata": {},
     "output_type": "execute_result"
    }
   ],
   "source": [
    "pd.Series(x.get(), index=furniture.columns)"
   ]
  },
  {
   "cell_type": "code",
   "execution_count": 49,
   "metadata": {},
   "outputs": [
    {
     "data": {
      "text/plain": [
       "62075.999999999985"
      ]
     },
     "execution_count": 49,
     "metadata": {},
     "output_type": "execute_result"
    }
   ],
   "source": [
    "model.get()"
   ]
  },
  {
   "cell_type": "markdown",
   "metadata": {},
   "source": [
    "### Task 2\n",
    "\n",
    "If the furniture company is paying extra for overtime, and the per minute rates are given in the series `overtime`."
   ]
  },
  {
   "cell_type": "code",
   "execution_count": 42,
   "metadata": {
    "scrolled": true
   },
   "outputs": [
    {
     "data": {
      "text/plain": [
       "Plaining      2.0\n",
       "Assembling    1.8\n",
       "Painting      1.5\n",
       "dtype: float64"
      ]
     },
     "execution_count": 42,
     "metadata": {},
     "output_type": "execute_result"
    }
   ],
   "source": [
    "overtime = pd.Series([2.0, 1.8, 1.5], \n",
    "                     index=['Plaining', 'Assembling', 'Painting'])\n",
    "overtime"
   ]
  },
  {
   "cell_type": "markdown",
   "metadata": {},
   "source": [
    "Write the updated linear programming model, and solve it using RSOME.\n",
    "\n",
    "$$\n",
    "\\begin{align}\n",
    "\\max ~ &\\sum\\limits_{i=1}^3A_{0i}x_i - \\sum\\limits_{j=0}^2t_jy_j\\\\\n",
    "\\text{s.t.}~&\\sum\\limits_{i=1}^3A_{(j+1)i}x_i \\leq c_j + y_j, &&j=0, 1, 2 \\\\\n",
    "&x_3 \\leq 1200 \\\\\n",
    "&x_i \\geq 0, &&i=0, 1, 2, 3 \\\\\n",
    "&y_j \\geq 0, &&j=0, 1, 2\n",
    "\\end{align}\n",
    "$$"
   ]
  },
  {
   "cell_type": "code",
   "execution_count": 50,
   "metadata": {
    "scrolled": true
   },
   "outputs": [
    {
     "name": "stdout",
     "output_type": "stream",
     "text": [
      "Being solved by OR-Tools...\n",
      "Solution status: 0\n",
      "Running time: 0.0104s\n"
     ]
    }
   ],
   "source": [
    "A = furniture.values\n",
    "c = cap.values\n",
    "t = overtime.values\n",
    "\n",
    "model = ro.Model()\n",
    "\n",
    "x = model.dvar(4, vtype='I')\n",
    "y = model.dvar(3)\n",
    "\n",
    "model.max((A[0]*x).sum() -  (t*y).sum())\n",
    "model.st((A[1:]*x).sum(axis=1) <= c + y)\n",
    "model.st(x[-1] <= 1200)\n",
    "model.st(x >= 0)\n",
    "model.st(y >= 0)\n",
    "\n",
    "model.solve(ort)"
   ]
  },
  {
   "cell_type": "code",
   "execution_count": 51,
   "metadata": {
    "scrolled": true
   },
   "outputs": [
    {
     "data": {
      "text/plain": [
       "Chair    1826.0\n",
       "Table     347.0\n",
       "Stool       0.0\n",
       "Shelf    1200.0\n",
       "dtype: float64"
      ]
     },
     "execution_count": 51,
     "metadata": {},
     "output_type": "execute_result"
    }
   ],
   "source": [
    "pd.Series(x.get(), index=furniture.columns)"
   ]
  },
  {
   "cell_type": "code",
   "execution_count": 52,
   "metadata": {
    "scrolled": true
   },
   "outputs": [
    {
     "data": {
      "text/plain": [
       "Plaining         0.00\n",
       "Assembling       0.00\n",
       "Painting      1298.75\n",
       "dtype: float64"
      ]
     },
     "execution_count": 52,
     "metadata": {},
     "output_type": "execute_result"
    }
   ],
   "source": [
    "pd.Series(y.get(), index=overtime.index)"
   ]
  },
  {
   "cell_type": "code",
   "execution_count": 53,
   "metadata": {},
   "outputs": [
    {
     "data": {
      "text/plain": [
       "62209.8749999997"
      ]
     },
     "execution_count": 53,
     "metadata": {},
     "output_type": "execute_result"
    }
   ],
   "source": [
    "model.get()"
   ]
  },
  {
   "cell_type": "markdown",
   "metadata": {},
   "source": [
    "### Task 3\n",
    "\n",
    "Due to some unforeseen factors, the maximum working time for each month is uncertain and the historical data are presented in the data frame `cap`. "
   ]
  },
  {
   "cell_type": "code",
   "execution_count": 55,
   "metadata": {
    "scrolled": false
   },
   "outputs": [
    {
     "data": {
      "text/html": [
       "<div>\n",
       "<style scoped>\n",
       "    .dataframe tbody tr th:only-of-type {\n",
       "        vertical-align: middle;\n",
       "    }\n",
       "\n",
       "    .dataframe tbody tr th {\n",
       "        vertical-align: top;\n",
       "    }\n",
       "\n",
       "    .dataframe thead th {\n",
       "        text-align: right;\n",
       "    }\n",
       "</style>\n",
       "<table border=\"1\" class=\"dataframe\">\n",
       "  <thead>\n",
       "    <tr style=\"text-align: right;\">\n",
       "      <th></th>\n",
       "      <th>Plaining</th>\n",
       "      <th>Assembling</th>\n",
       "      <th>Paining</th>\n",
       "    </tr>\n",
       "  </thead>\n",
       "  <tbody>\n",
       "    <tr>\n",
       "      <th>0</th>\n",
       "      <td>23078.182528</td>\n",
       "      <td>14128.396244</td>\n",
       "      <td>29818.852271</td>\n",
       "    </tr>\n",
       "    <tr>\n",
       "      <th>1</th>\n",
       "      <td>26541.189239</td>\n",
       "      <td>7446.920996</td>\n",
       "      <td>43694.765465</td>\n",
       "    </tr>\n",
       "    <tr>\n",
       "      <th>2</th>\n",
       "      <td>25707.678316</td>\n",
       "      <td>17408.030565</td>\n",
       "      <td>38891.735372</td>\n",
       "    </tr>\n",
       "    <tr>\n",
       "      <th>3</th>\n",
       "      <td>21774.574498</td>\n",
       "      <td>23972.720907</td>\n",
       "      <td>21662.409943</td>\n",
       "    </tr>\n",
       "    <tr>\n",
       "      <th>4</th>\n",
       "      <td>18800.966040</td>\n",
       "      <td>14012.742371</td>\n",
       "      <td>30131.300844</td>\n",
       "    </tr>\n",
       "    <tr>\n",
       "      <th>...</th>\n",
       "      <td>...</td>\n",
       "      <td>...</td>\n",
       "      <td>...</td>\n",
       "    </tr>\n",
       "    <tr>\n",
       "      <th>195</th>\n",
       "      <td>28747.982083</td>\n",
       "      <td>23356.672678</td>\n",
       "      <td>32427.158764</td>\n",
       "    </tr>\n",
       "    <tr>\n",
       "      <th>196</th>\n",
       "      <td>28175.854232</td>\n",
       "      <td>22991.877715</td>\n",
       "      <td>29829.221058</td>\n",
       "    </tr>\n",
       "    <tr>\n",
       "      <th>197</th>\n",
       "      <td>22520.741432</td>\n",
       "      <td>18346.180014</td>\n",
       "      <td>49647.777228</td>\n",
       "    </tr>\n",
       "    <tr>\n",
       "      <th>198</th>\n",
       "      <td>35066.113241</td>\n",
       "      <td>18012.241629</td>\n",
       "      <td>18513.166593</td>\n",
       "    </tr>\n",
       "    <tr>\n",
       "      <th>199</th>\n",
       "      <td>26221.538961</td>\n",
       "      <td>17125.870051</td>\n",
       "      <td>34924.585435</td>\n",
       "    </tr>\n",
       "  </tbody>\n",
       "</table>\n",
       "<p>200 rows × 3 columns</p>\n",
       "</div>"
      ],
      "text/plain": [
       "         Plaining    Assembling       Paining\n",
       "0    23078.182528  14128.396244  29818.852271\n",
       "1    26541.189239   7446.920996  43694.765465\n",
       "2    25707.678316  17408.030565  38891.735372\n",
       "3    21774.574498  23972.720907  21662.409943\n",
       "4    18800.966040  14012.742371  30131.300844\n",
       "..            ...           ...           ...\n",
       "195  28747.982083  23356.672678  32427.158764\n",
       "196  28175.854232  22991.877715  29829.221058\n",
       "197  22520.741432  18346.180014  49647.777228\n",
       "198  35066.113241  18012.241629  18513.166593\n",
       "199  26221.538961  17125.870051  34924.585435\n",
       "\n",
       "[200 rows x 3 columns]"
      ]
     },
     "execution_count": 55,
     "metadata": {},
     "output_type": "execute_result"
    }
   ],
   "source": [
    "cap = pd.read_csv('capacity.csv')\n",
    "cap"
   ]
  },
  {
   "cell_type": "markdown",
   "metadata": {},
   "source": [
    "Considering the overtime cost, develop a stochastic model for the furniture company to maximize the profit.\n",
    "\n",
    "$$\n",
    "\\begin{align}\n",
    "\\max ~ &\\sum\\limits_{i=1}^3A_{0i}x_i - \\frac{1}{s}\\sum\\limits_{k=0}^{s-1}\\sum\\limits_{j=0}^2t_jy_{kj}\\\\\n",
    "\\text{s.t.}~&\\sum\\limits_{i=1}^3A_{(j+1)i}x_i \\leq c_{kj} + y_{kj}, &&j=0, 1, 2 & k = 0, 1, ..., s-1\\\\\n",
    "&x_3 \\leq 1200 \\\\\n",
    "&x_i \\geq 0, &&i=0, 1, 2, 3 \\\\\n",
    "&y_{kj} \\geq 0, &&j=0, 1, 2 & k = 0, 1, ..., s-1\n",
    "\\end{align}\n",
    "$$"
   ]
  },
  {
   "cell_type": "code",
   "execution_count": 59,
   "metadata": {
    "scrolled": true
   },
   "outputs": [
    {
     "name": "stdout",
     "output_type": "stream",
     "text": [
      "Being solved by OR-Tools...\n",
      "Solution status: 0\n",
      "Running time: 0.1363s\n"
     ]
    }
   ],
   "source": [
    "A = furniture.values\n",
    "c = cap.values\n",
    "t = overtime.values\n",
    "s = c.shape[0]\n",
    "\n",
    "model = ro.Model()\n",
    "\n",
    "x = model.dvar(4, vtype='I')\n",
    "y = model.dvar((s, 3))\n",
    "\n",
    "model.max((A[0]*x).sum() -  (1/s)*(t*y).sum())\n",
    "model.st((A[1:]*x).sum(axis=1) <= c + y)\n",
    "model.st(x[-1] <= 1200)\n",
    "model.st(x >= 0)\n",
    "model.st(y >= 0)\n",
    "\n",
    "model.solve(ort)"
   ]
  },
  {
   "cell_type": "code",
   "execution_count": 60,
   "metadata": {},
   "outputs": [
    {
     "data": {
      "text/plain": [
       "50366.73128388292"
      ]
     },
     "execution_count": 60,
     "metadata": {},
     "output_type": "execute_result"
    }
   ],
   "source": [
    "model.get()"
   ]
  },
  {
   "cell_type": "code",
   "execution_count": 61,
   "metadata": {},
   "outputs": [
    {
     "data": {
      "text/plain": [
       "Chair     723.0\n",
       "Table    1049.0\n",
       "Stool       0.0\n",
       "Shelf    1200.0\n",
       "dtype: float64"
      ]
     },
     "execution_count": 61,
     "metadata": {},
     "output_type": "execute_result"
    }
   ],
   "source": [
    "pd.Series(x.get(), index=furniture.columns)"
   ]
  },
  {
   "cell_type": "code",
   "execution_count": 63,
   "metadata": {},
   "outputs": [
    {
     "data": {
      "text/html": [
       "<div>\n",
       "<style scoped>\n",
       "    .dataframe tbody tr th:only-of-type {\n",
       "        vertical-align: middle;\n",
       "    }\n",
       "\n",
       "    .dataframe tbody tr th {\n",
       "        vertical-align: top;\n",
       "    }\n",
       "\n",
       "    .dataframe thead th {\n",
       "        text-align: right;\n",
       "    }\n",
       "</style>\n",
       "<table border=\"1\" class=\"dataframe\">\n",
       "  <thead>\n",
       "    <tr style=\"text-align: right;\">\n",
       "      <th></th>\n",
       "      <th>Plaining</th>\n",
       "      <th>Assembling</th>\n",
       "      <th>Paining</th>\n",
       "    </tr>\n",
       "  </thead>\n",
       "  <tbody>\n",
       "    <tr>\n",
       "      <th>0</th>\n",
       "      <td>5426.817472</td>\n",
       "      <td>0.000000</td>\n",
       "      <td>0.000000</td>\n",
       "    </tr>\n",
       "    <tr>\n",
       "      <th>1</th>\n",
       "      <td>1963.810761</td>\n",
       "      <td>6038.079004</td>\n",
       "      <td>0.000000</td>\n",
       "    </tr>\n",
       "    <tr>\n",
       "      <th>2</th>\n",
       "      <td>2797.321684</td>\n",
       "      <td>0.000000</td>\n",
       "      <td>0.000000</td>\n",
       "    </tr>\n",
       "    <tr>\n",
       "      <th>3</th>\n",
       "      <td>6730.425502</td>\n",
       "      <td>0.000000</td>\n",
       "      <td>3508.840057</td>\n",
       "    </tr>\n",
       "    <tr>\n",
       "      <th>4</th>\n",
       "      <td>9704.033960</td>\n",
       "      <td>0.000000</td>\n",
       "      <td>0.000000</td>\n",
       "    </tr>\n",
       "    <tr>\n",
       "      <th>...</th>\n",
       "      <td>...</td>\n",
       "      <td>...</td>\n",
       "      <td>...</td>\n",
       "    </tr>\n",
       "    <tr>\n",
       "      <th>195</th>\n",
       "      <td>0.000000</td>\n",
       "      <td>0.000000</td>\n",
       "      <td>0.000000</td>\n",
       "    </tr>\n",
       "    <tr>\n",
       "      <th>196</th>\n",
       "      <td>329.145768</td>\n",
       "      <td>0.000000</td>\n",
       "      <td>0.000000</td>\n",
       "    </tr>\n",
       "    <tr>\n",
       "      <th>197</th>\n",
       "      <td>5984.258568</td>\n",
       "      <td>0.000000</td>\n",
       "      <td>0.000000</td>\n",
       "    </tr>\n",
       "    <tr>\n",
       "      <th>198</th>\n",
       "      <td>0.000000</td>\n",
       "      <td>0.000000</td>\n",
       "      <td>6658.083407</td>\n",
       "    </tr>\n",
       "    <tr>\n",
       "      <th>199</th>\n",
       "      <td>2283.461039</td>\n",
       "      <td>0.000000</td>\n",
       "      <td>0.000000</td>\n",
       "    </tr>\n",
       "  </tbody>\n",
       "</table>\n",
       "<p>200 rows × 3 columns</p>\n",
       "</div>"
      ],
      "text/plain": [
       "        Plaining   Assembling      Paining\n",
       "0    5426.817472     0.000000     0.000000\n",
       "1    1963.810761  6038.079004     0.000000\n",
       "2    2797.321684     0.000000     0.000000\n",
       "3    6730.425502     0.000000  3508.840057\n",
       "4    9704.033960     0.000000     0.000000\n",
       "..           ...          ...          ...\n",
       "195     0.000000     0.000000     0.000000\n",
       "196   329.145768     0.000000     0.000000\n",
       "197  5984.258568     0.000000     0.000000\n",
       "198     0.000000     0.000000  6658.083407\n",
       "199  2283.461039     0.000000     0.000000\n",
       "\n",
       "[200 rows x 3 columns]"
      ]
     },
     "execution_count": 63,
     "metadata": {},
     "output_type": "execute_result"
    }
   ],
   "source": [
    "pd.DataFrame(y.get(), columns=cap.columns)"
   ]
  },
  {
   "cell_type": "code",
   "execution_count": null,
   "metadata": {},
   "outputs": [],
   "source": []
  }
 ],
 "metadata": {
  "kernelspec": {
   "display_name": "Python 3",
   "language": "python",
   "name": "python3"
  },
  "language_info": {
   "codemirror_mode": {
    "name": "ipython",
    "version": 3
   },
   "file_extension": ".py",
   "mimetype": "text/x-python",
   "name": "python",
   "nbconvert_exporter": "python",
   "pygments_lexer": "ipython3",
   "version": "3.7.4"
  }
 },
 "nbformat": 4,
 "nbformat_minor": 2
}
