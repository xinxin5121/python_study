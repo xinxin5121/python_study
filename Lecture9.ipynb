{
 "cells": [
  {
   "cell_type": "markdown",
   "metadata": {},
   "source": [
    "# Lecture 9: Predictive Modeling: Regression\n",
    "\n",
    "## Contents\n",
    "\n",
    "- [Imports](#section1)\n",
    "- [Introduction to statistical learning](#section2)\n",
    "    - [Supervised and unsupervised learning](#subsection2.1)\n",
    "    - [Regression versus classification](#subsection2.2)\n",
    "- [Regression for predictive modeling](#section3)\n",
    "    - [Generic expression](#subsection3.1)\n",
    "    - [Bias-variance trade-off](#subsection3.2)\n",
    "    - [Model selection](#subsection3.3)\n",
    "    - [Implementation via <code>scikit-learn</code>](#subsection3.4)\n",
    "- [Regularized linear models](#section4)\n",
    "- [Dimension reduction](#section5)\n",
    "    - [Motivation: curse of dimensionality](#subsection5.1)\n",
    "    - [Principal component analysis](#subsection5.2)\n",
    "- [Case studies](#section6)\n",
    "    - [Case study 1: Baseball players' data](#subsection6.1)"
   ]
  },
  {
   "cell_type": "markdown",
   "metadata": {},
   "source": [
    " "
   ]
  },
  {
   "cell_type": "markdown",
   "metadata": {},
   "source": [
    "## Imports <a id=\"section1\"></a>"
   ]
  },
  {
   "cell_type": "code",
   "execution_count": 1,
   "metadata": {},
   "outputs": [],
   "source": [
    "import os\n",
    "os.chdir('/Users/Xinwei/Desktop/BMK5202 Py for BA/Dataset')"
   ]
  },
  {
   "cell_type": "code",
   "execution_count": 2,
   "metadata": {},
   "outputs": [],
   "source": [
    "import pandas as pd\n",
    "import numpy as np\n",
    "import numpy.random as rd\n",
    "import matplotlib.pyplot as plt\n",
    "import seaborn as sns\n",
    "\n",
    "pd.set_option(\"display.max_columns\", 10, \n",
    "              \"display.max_rows\", 7)                    # Diaply configuration of Pandas data frame\n",
    "\n",
    "from sklearn.linear_model import LinearRegression       # Import the linear regression model\n",
    "from sklearn.linear_model import Ridge                  # Import the ridge regression model\n",
    "from sklearn.linear_model import Lasso                  # Import the LASSO model\n",
    "from sklearn.model_selection import train_test_split    # Import the train/test splitting tool\n",
    "from sklearn.model_selection import cross_val_score     # Import the cross-valication tool\n",
    "from sklearn.model_selection import GridSearchCV        # Import the grid search tool\n",
    "from sklearn.preprocessing import PolynomialFeatures    # Import the tool for polynomial features\n",
    "from sklearn.preprocessing import StandardScaler        # Import standardization tool\n",
    "from sklearn.pipeline import Pipeline                   # Import the pipeline\n",
    "from sklearn.decomposition import PCA                   # Import the PCA tool"
   ]
  },
  {
   "cell_type": "markdown",
   "metadata": {},
   "source": [
    " "
   ]
  },
  {
   "cell_type": "markdown",
   "metadata": {},
   "source": [
    "## Introduction to statistical learning <a id=\"section2\"></a>\n",
    "In this lecture, we will use the book [An Introduction to Statistical Learning-with Applications in R](https://faculty.marshall.usc.edu/gareth-james/ISL/ISLR%20Seventh%20Printing.pdf) as the reference book. Although all examples in this book are written in R language, you are encouraged to replicate all cases with Python code. \n",
    "\n",
    "### Supervised and unsupervised learning <a id=\"subsection2.1\"></a>\n",
    "Most statistical learning problems fall into one of two categories: **supervised** or **unsupervised**. In some cases, we wish to fit a model that relates the response to the predictors, with the aim of accurately predicting the response for future observations (prediction) or better understanding the relationship between the response and the predictors (inference). Many classical statistical learning methods such as linear regression and logistic regression, as logistic well as more modern approaches such as generalized additive model (GAM), boosting, and support vector machines (SVM), operate in the supervised learning domain. We will only focus on the supervised learning in this course.\n",
    "\n",
    "In cases that we lack a response variable supervising our analysis, the analysis is conducted in a unsupervised manner. An example of unsupervised learning is the *cluster analysis*, where the observations are divided into relatively distinct groups. \n",
    "\n",
    "### Regression versus classification <a id=\"subsection2.2\"></a>\n",
    "Problems with a quantitative response are often referred to as **regression** problems, while those involving a qualitative response are often referred to as **classification** problems. In this course, we will focus on the regression models at first, and the classification models are introduced in the next lecture. "
   ]
  },
  {
   "cell_type": "markdown",
   "metadata": {},
   "source": [
    " "
   ]
  },
  {
   "cell_type": "markdown",
   "metadata": {},
   "source": [
    "## Regression for predictive modeling <a id=\"section3\"></a>\n",
    "\n",
    "### Generic expressions <a id=\"subsection3.1\"></a>\n",
    "Similar to the explanatory model discussed in the previous lecture, the relation between a quantitative predicted variable $y$ and $p$ predictor variables, denoted by $\\pmb{x}=\\left(x_1, x_2, ..., x_p\\right)$, can be generalized as\n",
    "\n",
    "$$\n",
    "y = f(\\pmb{x}) + u,\n",
    "$$\n",
    "\n",
    "where $f$ is some fixed but unknown function of predictors $\\pmb{x}$ and $u$ is a random error term that is independent of $\\pmb{x}$ and has mean zero. In the context of predictive modeling, we are interested in predicting $\\hat{y}$ using\n",
    "\n",
    "$$\n",
    "\\hat{y} = \\hat{f}(\\pmb{x}),\n",
    "$$\n",
    "\n",
    "where $\\hat{f}$ represents our estimate for the unknown function $f$, which is typically obtained using a training dataset $\\left\\{(\\pmb{x}_1, y_1), (\\pmb{x}_2, y_2), ..., (\\pmb{x}_p, y_p)\\right\\}$. In the regression setting, a commonly-used approach for identifying $\\hat{f}$ is to minimize the **mean squared error (MSE)**, given by\n",
    "\n",
    "$$\n",
    "\\text{MSE} = \\frac{1}{n}\\sum\\limits_{i=1}^n\\left(y_i - \\hat{f}(\\pmb{x})\\right)^2.\n",
    "$$\n",
    "\n",
    "### Bias-variance trade-off <a id=\"subsection3.2\"></a>\n",
    "\n",
    "The MSE term computed above using the training dataset is refer to as the **training MSE**. In assessing the performance of the model, we are more interested in the prediction accuracy as $\\hat{f}$ is applied to previously unseen test observations rather than the training dataset, so models with the lowest **test MSE** is preferred. Let $\\left(\\pmb{x}_0, y_0\\right)$ be a test observation, the expected squared error term can be written as\n",
    "\n",
    "$$\n",
    "\\mathbb{E}\\left(y_0 - \\hat{f}(\\pmb{x}_0)\\right)^2 = \\mathbb{E}\\left(f(\\pmb{x}_0)+u - \\hat{f}(\\pmb{x}_0)\\right)^2 = \\mathbb{E}\\left(f(\\pmb{x}_0) - \\hat{f}(\\pmb{x}_0)\\right)^2 + \\text{Var}(u). \n",
    "$$\n",
    "\n",
    "Note that in the second term of the expression above, the error term $u$ is independent from the model, so no matter how well we specify the model, its variance cannot be reduced, thus $\\text{Var}(u)$ is called the **irreducible error**. The other term $\\mathbb{E}\\left(f(\\pmb{x}_0) - \\hat{f}(\\pmb{x}_0)\\right)^2$ represents the derivation of the prediction $\\hat{f}(\\pmb{x}_0)$ from the true value of $f(\\pmb{x}_0)$ . This error term can be reduced as the accuracy of the predictive model improves, so it is call the **reducible error**.\n",
    "\n",
    "The reducible error term $\\mathbb{E}\\left(f(\\pmb{x}_0) - \\hat{f}(\\pmb{x}_0)\\right)^2$ can be further rewritten as \n",
    "\n",
    "$$\n",
    "\\begin{align}\n",
    "\\mathbb{E}\\left(f(\\pmb{x}_0) - \\hat{f}(\\pmb{x}_0)\\right)^2 &= \\mathbb{E}\\left(f(\\pmb{x}_0) - \\mathbb{E}\\left(\\hat{f}(\\pmb{x}_0)\\right) + \\mathbb{E}\\left(\\hat{f}(\\pmb{x}_0)\\right) - \\hat{f}(\\pmb{x}_0) \\right)^2 \\\\\n",
    "&=\\left(f(\\pmb{x}_0) - \\mathbb{E}\\left(\\hat{f}(\\pmb{x}_0)\\right)\\right)^2 + \\text{Var}\\left(\\hat{f}(\\pmb{x}_0)\\right).\n",
    "\\end{align}\n",
    "$$\n",
    "\n",
    "The overall squared error is thus\n",
    "\n",
    "$$\n",
    "\\mathbb{E}\\left(y_0 - \\hat{f}(\\pmb{x}_0)\\right)^2 = \\left(f(\\pmb{x}_0) - \\mathbb{E}\\left(\\hat{f}(\\pmb{x}_0)\\right)\\right)^2 + \\text{Var}\\left(\\hat{f}(\\pmb{x}_0)\\right) + \\text{Var}(u),\n",
    "$$\n",
    "\n",
    "where\n",
    "- The first term represents the expected squared **bias** of $\\hat{f}(\\pmb{x}_0)$.\n",
    "- The second term measures the **variance** of $\\hat{f}(\\pmb{x}_0)$.\n",
    "- The last term is the **irreducible error** $\\text{Var}(u)$.\n",
    "\n",
    "The equation above suggests that desired prediction performance may be achieved with proper trade-off between the bias and the variance of $\\hat{f}(\\pmb{x}_0)$ such that the total **reducible error** is minimized. That is why in the previous lecture, we mentioned:\n",
    "\n",
    "> *...predictive modeling seeks to minimize the combination of bias and estimation variance, occasionally sacrificing theoretical accuracy for improved empirical precision* - [To Explain or to Predict](https://www.stat.berkeley.edu/~aldous/157/Papers/shmueli.pdf)\n",
    "\n",
    "<div class=\"alert alert-block alert-success\">\n",
    "<b>Example 1:</b>  \n",
    "Use a training set with 30 observations generated from a mysterious function to train a polynomial regression model with <b>k</b> polynomial terms. The polynomial regression model is then used to give predictions for a test set. Explore the influence of the parameter <b>k</b> on the performance of the polynomial regression model.\n",
    "</div>\n",
    "\n",
    "You may visit the website [Programming for Business Analytics](https://share.streamlit.io/xiongpengnus/learn_dao/main/web.py) to observe the influence of different $k$ values on the model performance. We first look at two extreme cases where $k=1$ and $k=25$. The following figure shows how the polynomial function $\\hat{f}$ fits the training and test data.\n",
    "\n",
    "<img src=\"https://github.com/XiongPengNUS/dao_resources/blob/main/under_over_fitting.png?raw=true\" width=700>\n",
    "\n",
    "\n",
    "Our observations of the two polynomial regression models are summarized in the table below.\n",
    "\n",
    "| | Polynomial degree $k=1$ | Polynomial degree $k=25$ |\n",
    "|:-----|:---------|:------------|\n",
    "|**Flexibility of function $\\hat{f}$** | Low | High |\n",
    "|**Training MSE** | High | Low |\n",
    "|**Test MSE** | High | High |\n",
    "|**Bias/variance** | High bias but low variance | Low bias but high variance |\n",
    "\n",
    "For models with small values of $k$, the polynomial function $\\hat{f}$ is relatively inflexible and may be unable to capture the nonlinear trend of both the training and test data, leading to high training and test MSEs. Such cases are referred to as **under-fitting**. As the $k$ value increase, the training MSE decreases monotonically, and for very large $k$ values, the training MSE drops to nearly zero as the fitted response pass almost all train data points. However, the test MSE may drastically increase as the fitted curve shows wide oscillations. Such cases are referred to as **over-fitting**. \n",
    "\n",
    "Another interpretation of under-fitting and over-fitting is the trade-off between bias and variance. You may notice that the under-fitting models have larger biases but smaller variances, while the over-fitting models have smaller biases but larger variances.\n",
    "\n",
    "As shown by the following figure, the lowest test MSE (as our foremost concern) is achieved as a proper value of $k$ is selected.\n",
    "\n",
    "<img src=\"https://github.com/XiongPengNUS/dao_resources/blob/main/k_mse.png?raw=true\" width=350>\n",
    "\n",
    "Take $k=5$ for example, it can be seen that this polynomial function has an appropriate level of flexibility such that it is able to follow the trend of the training/test data without having huge oscillations. It is also capable of keeping both the bias and variance of the estimates low at the same time. \n",
    "\n",
    "<img src=\"https://github.com/XiongPengNUS/dao_resources/blob/main/fit_k_5.png?raw=true\" width=350>\n",
    "\n",
    "Additional observations of the experiments above:\n",
    "- In over-fitting cases, the magnitudes of model coefficients are extremely large.\n",
    "- Models commonly do not perform well as the test data approach the borders.\n",
    "\n",
    "### Model selection <a id=\"subsection3.3\"></a>\n",
    "\n",
    "Our observations above show that it is essential to determine the proper level of flexibility complexity of the model, so that we could avoid under-fitting or over-fitting.\n",
    "\n",
    "> *If data is plentiful, then one approach is simply to use some of the available data to train a range of models, or a given model with a range of values for its complexity parameters, and then to compare them on\n",
    "independent data, sometimes called a validation set, and select the one having the best predictive performance. If the model design is iterated many times using a limited size data set, then some over-fitting to the validation data can occur and so it may be necessary to keep aside a third test set on which the performance of the selected model is finally evaluated.* \n",
    "\n",
    "> *In many applications, however, the supply of data for training and testing will be limited, and in order to build good models, we wish to use as much of the available data as possible for training. However, if the validation set is small, it will give a relatively noisy estimate of predictive performance. One solution to this dilemma is to use **cross-validation**, which is illustrated in the following figure. This allows a proportion\n",
    "$(S −1)/S$ of the available data to be used for training while making use of all of the data to assess performance. When data is particularly scarce, it may be appropriate to consider the case S = N, where N is the total number of data points, which gives the **leave-one-out technique**.* - [Pattern Recognition and Machine Learning](http://users.isr.ist.utl.pt/~wurmd/Livros/school/Bishop%20-%20Pattern%20Recognition%20And%20Machine%20Learning%20-%20Springer%20%202006.pdf)\n",
    "\n",
    "<img src=\"https://github.com/XiongPengNUS/dao_resources/blob/main/cross_validation.png?raw=true\" width=600>\n",
    "\n",
    "### Implementation via <code>scikit-learn</code> <a id=\"subsection3.4\"></a>\n",
    "\n",
    "<code>scikit-learn</code> is an open source package, it is constantly being developed and improved, and it\n",
    "has a very active user community. It contains a number of state-of-the-art machine learning algorithms, as well as comprehensive [documentation](https://scikit-learn.org/stable/index.html) about each algorithm. <code>scikit-learn</code> is a very popular tool, and the most prominent Python library for machine learning. It is widely used in industry and academia, and a wealth of tutorials and code snippets are available online. \n",
    "\n",
    "<div class=\"alert alert-block alert-success\">\n",
    "<b>Example 2:</b>  \n",
    "    The file \"polydata.csv\" provides a dataset with 40 observations of the dependent variable <b>y</b> and independent variable <b>x</b>. Use the tools provided in the <b>scikit-learn</b> package to:\n",
    "<li>Create new columns for $k$ polynomial terms of the predictor variable <b>x</b></li>\n",
    "<li>Split the overall dataset into a training set and a test set.</li>\n",
    "<li>Train the $k$th degree polynomial regression model based on the training set.</li>\n",
    "<li>Retrieve the parameters of the fitted model.</li>\n",
    "<li>Find the $R^2$ values for the training and test sets.\n",
    "</div>"
   ]
  },
  {
   "cell_type": "code",
   "execution_count": 3,
   "metadata": {
    "scrolled": false
   },
   "outputs": [
    {
     "data": {
      "text/html": [
       "<div>\n",
       "<style scoped>\n",
       "    .dataframe tbody tr th:only-of-type {\n",
       "        vertical-align: middle;\n",
       "    }\n",
       "\n",
       "    .dataframe tbody tr th {\n",
       "        vertical-align: top;\n",
       "    }\n",
       "\n",
       "    .dataframe thead th {\n",
       "        text-align: right;\n",
       "    }\n",
       "</style>\n",
       "<table border=\"1\" class=\"dataframe\">\n",
       "  <thead>\n",
       "    <tr style=\"text-align: right;\">\n",
       "      <th></th>\n",
       "      <th>y</th>\n",
       "      <th>x</th>\n",
       "    </tr>\n",
       "  </thead>\n",
       "  <tbody>\n",
       "    <tr>\n",
       "      <th>0</th>\n",
       "      <td>4.903104</td>\n",
       "      <td>0.082443</td>\n",
       "    </tr>\n",
       "    <tr>\n",
       "      <th>1</th>\n",
       "      <td>2.555793</td>\n",
       "      <td>0.437323</td>\n",
       "    </tr>\n",
       "    <tr>\n",
       "      <th>2</th>\n",
       "      <td>9.459503</td>\n",
       "      <td>0.943338</td>\n",
       "    </tr>\n",
       "    <tr>\n",
       "      <th>...</th>\n",
       "      <td>...</td>\n",
       "      <td>...</td>\n",
       "    </tr>\n",
       "    <tr>\n",
       "      <th>37</th>\n",
       "      <td>12.830556</td>\n",
       "      <td>0.612578</td>\n",
       "    </tr>\n",
       "    <tr>\n",
       "      <th>38</th>\n",
       "      <td>11.364611</td>\n",
       "      <td>0.630342</td>\n",
       "    </tr>\n",
       "    <tr>\n",
       "      <th>39</th>\n",
       "      <td>6.668239</td>\n",
       "      <td>0.219169</td>\n",
       "    </tr>\n",
       "  </tbody>\n",
       "</table>\n",
       "<p>40 rows × 2 columns</p>\n",
       "</div>"
      ],
      "text/plain": [
       "            y         x\n",
       "0    4.903104  0.082443\n",
       "1    2.555793  0.437323\n",
       "2    9.459503  0.943338\n",
       "..        ...       ...\n",
       "37  12.830556  0.612578\n",
       "38  11.364611  0.630342\n",
       "39   6.668239  0.219169\n",
       "\n",
       "[40 rows x 2 columns]"
      ]
     },
     "execution_count": 3,
     "metadata": {},
     "output_type": "execute_result"
    }
   ],
   "source": [
    "data = pd.read_csv('polydata.csv')\n",
    "data"
   ]
  },
  {
   "cell_type": "markdown",
   "metadata": {},
   "source": [
    "#### Creating polynomial terms as the features\n",
    "The <code>scikit-learn</code> package provides powerful tools for each step of implementing the regression model. Please note that when importing the package, the name of the package is written as <code>sklearn</code>. \n",
    " \n",
    "It can be seen that the data frame above only provides the data for the predicted variable <code>y</code> and predictor variable <code>x</code>, so the first step of implementing the polynomial regression model is to create polynomial terms of <code>x</code>."
   ]
  },
  {
   "cell_type": "code",
   "execution_count": 4,
   "metadata": {
    "scrolled": true
   },
   "outputs": [
    {
     "data": {
      "text/html": [
       "<div>\n",
       "<style scoped>\n",
       "    .dataframe tbody tr th:only-of-type {\n",
       "        vertical-align: middle;\n",
       "    }\n",
       "\n",
       "    .dataframe tbody tr th {\n",
       "        vertical-align: top;\n",
       "    }\n",
       "\n",
       "    .dataframe thead th {\n",
       "        text-align: right;\n",
       "    }\n",
       "</style>\n",
       "<table border=\"1\" class=\"dataframe\">\n",
       "  <thead>\n",
       "    <tr style=\"text-align: right;\">\n",
       "      <th></th>\n",
       "      <th>0</th>\n",
       "      <th>1</th>\n",
       "      <th>2</th>\n",
       "      <th>3</th>\n",
       "    </tr>\n",
       "  </thead>\n",
       "  <tbody>\n",
       "    <tr>\n",
       "      <th>0</th>\n",
       "      <td>0.082443</td>\n",
       "      <td>0.006797</td>\n",
       "      <td>0.000560</td>\n",
       "      <td>0.000046</td>\n",
       "    </tr>\n",
       "    <tr>\n",
       "      <th>1</th>\n",
       "      <td>0.437323</td>\n",
       "      <td>0.191251</td>\n",
       "      <td>0.083638</td>\n",
       "      <td>0.036577</td>\n",
       "    </tr>\n",
       "    <tr>\n",
       "      <th>2</th>\n",
       "      <td>0.943338</td>\n",
       "      <td>0.889886</td>\n",
       "      <td>0.839463</td>\n",
       "      <td>0.791897</td>\n",
       "    </tr>\n",
       "    <tr>\n",
       "      <th>...</th>\n",
       "      <td>...</td>\n",
       "      <td>...</td>\n",
       "      <td>...</td>\n",
       "      <td>...</td>\n",
       "    </tr>\n",
       "    <tr>\n",
       "      <th>37</th>\n",
       "      <td>0.612578</td>\n",
       "      <td>0.375252</td>\n",
       "      <td>0.229871</td>\n",
       "      <td>0.140814</td>\n",
       "    </tr>\n",
       "    <tr>\n",
       "      <th>38</th>\n",
       "      <td>0.630342</td>\n",
       "      <td>0.397331</td>\n",
       "      <td>0.250454</td>\n",
       "      <td>0.157872</td>\n",
       "    </tr>\n",
       "    <tr>\n",
       "      <th>39</th>\n",
       "      <td>0.219169</td>\n",
       "      <td>0.048035</td>\n",
       "      <td>0.010528</td>\n",
       "      <td>0.002307</td>\n",
       "    </tr>\n",
       "  </tbody>\n",
       "</table>\n",
       "<p>40 rows × 4 columns</p>\n",
       "</div>"
      ],
      "text/plain": [
       "           0         1         2         3\n",
       "0   0.082443  0.006797  0.000560  0.000046\n",
       "1   0.437323  0.191251  0.083638  0.036577\n",
       "2   0.943338  0.889886  0.839463  0.791897\n",
       "..       ...       ...       ...       ...\n",
       "37  0.612578  0.375252  0.229871  0.140814\n",
       "38  0.630342  0.397331  0.250454  0.157872\n",
       "39  0.219169  0.048035  0.010528  0.002307\n",
       "\n",
       "[40 rows x 4 columns]"
      ]
     },
     "execution_count": 4,
     "metadata": {},
     "output_type": "execute_result"
    }
   ],
   "source": [
    "k = 4                                               # Degree of the polynomial function\n",
    "poly = PolynomialFeatures(k, include_bias=False)    # Create a kth-degree polynomial transformation, include_bias=False means not including the constant x^0\n",
    "x_ft = poly.fit_transform(data[['x']])              # Create columns of x**1, x**2, ...., x**k\n",
    "\n",
    "pd.DataFrame(x_ft)"
   ]
  },
  {
   "cell_type": "markdown",
   "metadata": {},
   "source": [
    "In the code above, the function <code>PolynomialFeatures()</code> imported from the package <code>sklearn.preprocessing</code> is used to create an object for the kth-degree polynomial transformation. We then call the <code>fit_transform()</code> method of the object to transform the column <code>x</code> into its polynomial terms. \n",
    "\n",
    "#### Train/test split\n",
    "Based on the dependent variable <code>y</code> and the polynomial features <code>x_poly</code>, the training set and the test set can be created by a function called <code>train_test_split()</code>, which is imported from the <code>sklearn.model_selection</code> package. "
   ]
  },
  {
   "cell_type": "code",
   "execution_count": 5,
   "metadata": {},
   "outputs": [],
   "source": [
    "x_train, x_test, y_train, y_test = train_test_split(x_ft, data['y'], test_size=0.25)  "
   ]
  },
  {
   "cell_type": "markdown",
   "metadata": {},
   "source": [
    "The first two positional variables are the predictor and predicted variables, while the keyword argument <code>test_size</code> specifies the proportion of observations for the test set. In the default setting, the dataset will be randomly shuffled before splitting the dataset, thus the results could be different in each run.\n",
    "\n",
    "#### Train the regression model\n",
    "The next step is to train the regression model, which can be done by the function <code>LinearRegression()</code> imported from the package <code>sklearn.linear_model</code>."
   ]
  },
  {
   "cell_type": "code",
   "execution_count": 6,
   "metadata": {},
   "outputs": [
    {
     "data": {
      "text/plain": [
       "LinearRegression()"
      ]
     },
     "execution_count": 6,
     "metadata": {},
     "output_type": "execute_result"
    }
   ],
   "source": [
    "regr = LinearRegression()       # Create an linear regerssion object\n",
    "regr.fit(x_train, y_train)      # Train the model with the training data set"
   ]
  },
  {
   "cell_type": "markdown",
   "metadata": {},
   "source": [
    "The parameters of the fitted model can be retrieved by the attributes <code>intercept_</code> and <code>coef_</code> of the model object."
   ]
  },
  {
   "cell_type": "code",
   "execution_count": 7,
   "metadata": {
    "scrolled": true
   },
   "outputs": [
    {
     "name": "stdout",
     "output_type": "stream",
     "text": [
      "Intercept is 3.997\n",
      "Slope parameters are [  38.513 -235.376  488.759 -288.136]\n"
     ]
    }
   ],
   "source": [
    "print('Intercept is {}'.format(np.round(regr.intercept_, 3)))\n",
    "print('Slope parameters are {}'.format(np.round(regr.coef_, 3)))"
   ]
  },
  {
   "cell_type": "markdown",
   "metadata": {},
   "source": [
    "#### Performance of the trained model\n",
    "\n",
    "Performance of the model is assessed by calculating the $R^2$ using the <code>score()</code> method of the regression model object. "
   ]
  },
  {
   "cell_type": "code",
   "execution_count": 8,
   "metadata": {},
   "outputs": [
    {
     "name": "stdout",
     "output_type": "stream",
     "text": [
      "Training R-squared value: 0.8685\n",
      "Test R-squared value: 0.7858\n"
     ]
    }
   ],
   "source": [
    "r2_training = regr.score(x_train, y_train)\n",
    "r2_test = regr.score(x_test, y_test)\n",
    "\n",
    "print('Training R-squared value: {0:0.4f}'.format(r2_training))\n",
    "print('Test R-squared value: {0:0.4f}'.format(r2_test))"
   ]
  },
  {
   "cell_type": "markdown",
   "metadata": {},
   "source": [
    "Recalling that the $R^2$ value is written as\n",
    "$$\n",
    "R^2 = 1 - \\frac{\\sum_{i=1}^n\\left(y_i - \\hat{y}_i\\right)^2}{\\sum_{i=1}^n\\left(y_i - \\bar{y}_i\\right)^2} = 1 - \\frac{\\text{MSE}}{\\frac{1}{n}\\sum_{i=1}^n\\left(y_i - \\bar{y}_i\\right)^2},\n",
    "$$\n",
    "where the numerator of the second term is MSE, and the denominator is a constant independent from the model. According to this expression, we can conclude that $R^2=0$ if our prediction is only as good as the average value $\\bar{y}$, and $R^2$ approaches one if the MSE is reduced to zero.\n",
    "\n",
    "#### Use the trained model for prediction\n",
    "\n",
    "The trained model can be then used to predict values of $y$ for previously unseen predictor variable $x$. For example, as the predictor variable $x$ is changed from 0 to 1 (with step to be 0.01), we want to predict the corresponding $y$ values so that the curve of the fitted function can be plotted. "
   ]
  },
  {
   "cell_type": "code",
   "execution_count": 9,
   "metadata": {},
   "outputs": [],
   "source": [
    "x_pred = np.arange(0, 1.01, 0.01)                       # x values between 0 and 1\n",
    "x_ft_pred = poly.fit_transform(pd.DataFrame(x_pred))    # Create columns of x**1, x**2, ...., x**k\n",
    "y_pred = regr.predict(x_ft_pred)                        # Predict y using polynomial terms of x"
   ]
  },
  {
   "cell_type": "markdown",
   "metadata": {},
   "source": [
    "The array of $x$ values and the array of predictions of $y$ are used in the code segment below for showing the fitted values of the polynomial regression model. "
   ]
  },
  {
   "cell_type": "code",
   "execution_count": 10,
   "metadata": {
    "scrolled": false
   },
   "outputs": [
    {
     "data": {
      "image/png": "[encoded data removed]",
      "text/plain": [
       "<Figure size 432x288 with 1 Axes>"
      ]
     },
     "metadata": {
      "needs_background": "light"
     },
     "output_type": "display_data"
    }
   ],
   "source": [
    "plt.scatter(x_train[:, 0], y_train, \n",
    "            c='b', alpha=0.4, label='Train data')\n",
    "plt.scatter(x_test[:, 0], y_test, \n",
    "            c='r', alpha=0.4, label='Test data')\n",
    "plt.plot(x_pred, y_pred, \n",
    "         color='m', label='Fitted values')\n",
    "\n",
    "plt.legend(fontsize=12)\n",
    "plt.xlabel('Predictor variable $x$', fontsize=12)\n",
    "plt.ylabel('Predicted variable $y$', fontsize=12)\n",
    "plt.show()"
   ]
  },
  {
   "cell_type": "markdown",
   "metadata": {},
   "source": [
    "#### Cross-validation and grid search\n",
    "The cross-validation technique can be directly implemented by the function <code>cross_val_score()</code> imported from the <code>sklearn.model_selection</code> package. We just need to specify the model object, predictor and predicted variables, and the number of folds for the cross-validation, via the function arguments. The output is an array of $R^2$ values for each fold. Some other measures given in [this link](https://scikit-learn.org/stable/modules/model_evaluation.html#scoring-parameter) can also be used as the performance indicator. They are enabled by specifying the argument <code>scoring</code> of the function <code>cross_val_score()</code>."
   ]
  },
  {
   "cell_type": "code",
   "execution_count": 11,
   "metadata": {
    "scrolled": true
   },
   "outputs": [
    {
     "data": {
      "text/plain": [
       "0.9260895751164994"
      ]
     },
     "execution_count": 11,
     "metadata": {},
     "output_type": "execute_result"
    }
   ],
   "source": [
    "k = 5\n",
    "poly = PolynomialFeatures(k, include_bias=False)       # Create a polynomial transformation\n",
    "x_ft = poly.fit_transform(data[['x']])                 # Create columns of x**0, x**1, ...., x**k\n",
    "regr = LinearRegression()                              # Create an linear regerssion object\n",
    "\n",
    "cross_val_score(regr, x_ft, data['y'], cv=4).mean()    # Perform cross-validation with 4 folds"
   ]
  },
  {
   "cell_type": "markdown",
   "metadata": {},
   "source": [
    "The code above can be further simplified by using <code>sklearn</code> pipelines. The pipeline summarizes all steps of data preprocessing and and learning method in a single function, as demonstrated below."
   ]
  },
  {
   "cell_type": "code",
   "execution_count": 12,
   "metadata": {},
   "outputs": [
    {
     "data": {
      "text/plain": [
       "array([0.89938951, 0.92439518, 0.9663815 , 0.91419212])"
      ]
     },
     "execution_count": 12,
     "metadata": {},
     "output_type": "execute_result"
    }
   ],
   "source": [
    "k = 5\n",
    "steps = [\n",
    "    ('poly', PolynomialFeatures(k, include_bias=False)),    # Step 1: polynormial transformation\n",
    "    ('lr', LinearRegression())                              # Step 2: linear regression\n",
    "]                            \n",
    "pipe = Pipeline(steps)                                      # Create a pipeline\n",
    "cross_val_score(pipe, data[['x']], data['y'], cv=4)         # Perform cross-validation"
   ]
  },
  {
   "cell_type": "markdown",
   "metadata": {},
   "source": [
    "Please note that:\n",
    "1. Intermediate steps of the pipeline must be \"transforms\", that is, they must implement fit and transform methods. The final estimator only needs to implement fit. \n",
    "2. The \"x\" data must be given as a two-dimensional data structure, such as a two-dimensional array or a data frame. \n",
    "\n",
    "The value <code>k</code> is referred to as a **hyperparameter**, which is not affected by the learning algorithm itself; it must be set prior to training and remains constant during training. The <code>sklearn</code> package also provides convenient tools to tune hyperparameters, such as by using the function <code>GridSearchCV()</code>."
   ]
  },
  {
   "cell_type": "code",
   "execution_count": 13,
   "metadata": {
    "scrolled": false
   },
   "outputs": [
    {
     "name": "stdout",
     "output_type": "stream",
     "text": [
      "Best parameter: {'poly__degree': 5}\n",
      "Best score: 0.926\n"
     ]
    }
   ],
   "source": [
    "param = {'poly__degree': np.arange(1, 16)}                  # Vary the parameter degree of poly\n",
    "steps = [\n",
    "    ('poly', PolynomialFeatures(include_bias=False)),       # Step 1: polynormial transformation\n",
    "    ('lr', LinearRegression())                              # Step 2: linear regression\n",
    "]                        \n",
    "\n",
    "pipe = Pipeline(steps)                                      # Create a pipline\n",
    "search = GridSearchCV(pipe, param, cv=4)                    # Create a grid search for the best parameter  \n",
    "search.fit(data[['x']], data['y'])                          # Fit the model with the x and y data\n",
    "\n",
    "k_best = search.best_params_['poly__degree']                  \n",
    "print('Best parameter: {0}'.format(search.best_params_))                 # Best paramter\n",
    "print('Best score: {0:0.3f}'.format(search.best_score_))    # R-squared value for the best parameter"
   ]
  },
  {
   "cell_type": "markdown",
   "metadata": {},
   "source": [
    "In the code segment above, possible values of the hyperparameter is specified by the first line, the string <code>'poly__degree'</code> suggests that the parameter is the attribute <code>degree</code> of the object named <code>'poly'</code>. \n",
    "\n",
    "The `search` object has a `dict` type attribute called `cv_results_`, which provides useful information on results of running the cross-validation. The code cell below provides an example of the average test scores under different hyperparameter values. "
   ]
  },
  {
   "cell_type": "code",
   "execution_count": 14,
   "metadata": {},
   "outputs": [
    {
     "data": {
      "text/plain": [
       "array([  0.53389763,   0.51298326,   0.66893669,   0.84719287,\n",
       "         0.92608958,   0.91787972,   0.91146481,   0.90729571,\n",
       "         0.9103041 ,   0.9250095 ,   0.84647308,   0.42031475,\n",
       "        -1.60123994, -23.24710902, -11.10189907])"
      ]
     },
     "execution_count": 14,
     "metadata": {},
     "output_type": "execute_result"
    }
   ],
   "source": [
    "search.cv_results_['mean_test_score']"
   ]
  },
  {
   "cell_type": "markdown",
   "metadata": {},
   "source": [
    " "
   ]
  },
  {
   "cell_type": "markdown",
   "metadata": {},
   "source": [
    "## Regularized linear models <a id=\"section4\"></a>\n",
    "\n",
    "In the previous section we saw that when over-fitting occurs, the magnitudes of model parameters become extremely large, thus causing the wide oscillations behaviors. One technique that is often used to control the over-fitting phenomenon in such cases is that of **regularization**, which involves adding a penalty term to the SSR objective function in order to discourage the parameters from reaching large values. This is why these methods are sometimes called the **shrinkage methods**. According to the formula of the penalty term, we have two types of the regularized models: ridge regression and least absolute shrinkage and selection operator (LASSO).\n",
    "\\begin{align}\n",
    "\\text{Ridge regression: }& \\min~\\sum\\limits_{i=1}^n \\left(y_i - \\beta_0 - \\beta_1 x_{i1} - \\beta_2 x_{i2} ... \\beta_k x_{ik} \\right)^2 + \\alpha\\sum\\limits_{j=1}^k \\beta_j^2 \\\\\n",
    "\\text{LASSO: }& \\min~\\frac{1}{2 n}\\sum\\limits_{i=1}^n \\left(y_i - \\beta_0 - \\beta_1 x_{i1} - \\beta_2 x_{i2} ... \\beta_k x_{ik} \\right)^2 + \\alpha\\sum\\limits_{j=1}^k |\\beta_j|\n",
    "\\end{align}"
   ]
  },
  {
   "cell_type": "code",
   "execution_count": 15,
   "metadata": {},
   "outputs": [
    {
     "data": {
      "text/html": [
       "<div>\n",
       "<style scoped>\n",
       "    .dataframe tbody tr th:only-of-type {\n",
       "        vertical-align: middle;\n",
       "    }\n",
       "\n",
       "    .dataframe tbody tr th {\n",
       "        vertical-align: top;\n",
       "    }\n",
       "\n",
       "    .dataframe thead th {\n",
       "        text-align: right;\n",
       "    }\n",
       "</style>\n",
       "<table border=\"1\" class=\"dataframe\">\n",
       "  <thead>\n",
       "    <tr style=\"text-align: right;\">\n",
       "      <th></th>\n",
       "      <th>Income</th>\n",
       "      <th>Limit</th>\n",
       "      <th>Rating</th>\n",
       "      <th>Cards</th>\n",
       "      <th>Age</th>\n",
       "      <th>...</th>\n",
       "      <th>Gender</th>\n",
       "      <th>Student</th>\n",
       "      <th>Married</th>\n",
       "      <th>Ethnicity</th>\n",
       "      <th>Balance</th>\n",
       "    </tr>\n",
       "  </thead>\n",
       "  <tbody>\n",
       "    <tr>\n",
       "      <th>0</th>\n",
       "      <td>14.891</td>\n",
       "      <td>3606</td>\n",
       "      <td>283</td>\n",
       "      <td>2</td>\n",
       "      <td>34</td>\n",
       "      <td>...</td>\n",
       "      <td>Male</td>\n",
       "      <td>No</td>\n",
       "      <td>Yes</td>\n",
       "      <td>Caucasian</td>\n",
       "      <td>333</td>\n",
       "    </tr>\n",
       "    <tr>\n",
       "      <th>1</th>\n",
       "      <td>106.025</td>\n",
       "      <td>6645</td>\n",
       "      <td>483</td>\n",
       "      <td>3</td>\n",
       "      <td>82</td>\n",
       "      <td>...</td>\n",
       "      <td>Female</td>\n",
       "      <td>Yes</td>\n",
       "      <td>Yes</td>\n",
       "      <td>Asian</td>\n",
       "      <td>903</td>\n",
       "    </tr>\n",
       "    <tr>\n",
       "      <th>2</th>\n",
       "      <td>104.593</td>\n",
       "      <td>7075</td>\n",
       "      <td>514</td>\n",
       "      <td>4</td>\n",
       "      <td>71</td>\n",
       "      <td>...</td>\n",
       "      <td>Male</td>\n",
       "      <td>No</td>\n",
       "      <td>No</td>\n",
       "      <td>Asian</td>\n",
       "      <td>580</td>\n",
       "    </tr>\n",
       "    <tr>\n",
       "      <th>...</th>\n",
       "      <td>...</td>\n",
       "      <td>...</td>\n",
       "      <td>...</td>\n",
       "      <td>...</td>\n",
       "      <td>...</td>\n",
       "      <td>...</td>\n",
       "      <td>...</td>\n",
       "      <td>...</td>\n",
       "      <td>...</td>\n",
       "      <td>...</td>\n",
       "      <td>...</td>\n",
       "    </tr>\n",
       "    <tr>\n",
       "      <th>397</th>\n",
       "      <td>57.872</td>\n",
       "      <td>4171</td>\n",
       "      <td>321</td>\n",
       "      <td>5</td>\n",
       "      <td>67</td>\n",
       "      <td>...</td>\n",
       "      <td>Female</td>\n",
       "      <td>No</td>\n",
       "      <td>Yes</td>\n",
       "      <td>Caucasian</td>\n",
       "      <td>138</td>\n",
       "    </tr>\n",
       "    <tr>\n",
       "      <th>398</th>\n",
       "      <td>37.728</td>\n",
       "      <td>2525</td>\n",
       "      <td>192</td>\n",
       "      <td>1</td>\n",
       "      <td>44</td>\n",
       "      <td>...</td>\n",
       "      <td>Male</td>\n",
       "      <td>No</td>\n",
       "      <td>Yes</td>\n",
       "      <td>Caucasian</td>\n",
       "      <td>0</td>\n",
       "    </tr>\n",
       "    <tr>\n",
       "      <th>399</th>\n",
       "      <td>18.701</td>\n",
       "      <td>5524</td>\n",
       "      <td>415</td>\n",
       "      <td>5</td>\n",
       "      <td>64</td>\n",
       "      <td>...</td>\n",
       "      <td>Female</td>\n",
       "      <td>No</td>\n",
       "      <td>No</td>\n",
       "      <td>Asian</td>\n",
       "      <td>966</td>\n",
       "    </tr>\n",
       "  </tbody>\n",
       "</table>\n",
       "<p>400 rows × 11 columns</p>\n",
       "</div>"
      ],
      "text/plain": [
       "      Income  Limit  Rating  Cards  Age  ...  Gender Student Married  \\\n",
       "0     14.891   3606     283      2   34  ...    Male      No     Yes   \n",
       "1    106.025   6645     483      3   82  ...  Female     Yes     Yes   \n",
       "2    104.593   7075     514      4   71  ...    Male      No      No   \n",
       "..       ...    ...     ...    ...  ...  ...     ...     ...     ...   \n",
       "397   57.872   4171     321      5   67  ...  Female      No     Yes   \n",
       "398   37.728   2525     192      1   44  ...    Male      No     Yes   \n",
       "399   18.701   5524     415      5   64  ...  Female      No      No   \n",
       "\n",
       "     Ethnicity Balance  \n",
       "0    Caucasian     333  \n",
       "1        Asian     903  \n",
       "2        Asian     580  \n",
       "..         ...     ...  \n",
       "397  Caucasian     138  \n",
       "398  Caucasian       0  \n",
       "399      Asian     966  \n",
       "\n",
       "[400 rows x 11 columns]"
      ]
     },
     "execution_count": 15,
     "metadata": {},
     "output_type": "execute_result"
    }
   ],
   "source": [
    "data = pd.read_csv('credit.csv')\n",
    "data"
   ]
  },
  {
   "cell_type": "code",
   "execution_count": 16,
   "metadata": {
    "scrolled": true
   },
   "outputs": [
    {
     "data": {
      "text/html": [
       "<div>\n",
       "<style scoped>\n",
       "    .dataframe tbody tr th:only-of-type {\n",
       "        vertical-align: middle;\n",
       "    }\n",
       "\n",
       "    .dataframe tbody tr th {\n",
       "        vertical-align: top;\n",
       "    }\n",
       "\n",
       "    .dataframe thead th {\n",
       "        text-align: right;\n",
       "    }\n",
       "</style>\n",
       "<table border=\"1\" class=\"dataframe\">\n",
       "  <thead>\n",
       "    <tr style=\"text-align: right;\">\n",
       "      <th></th>\n",
       "      <th>Income</th>\n",
       "      <th>Limit</th>\n",
       "      <th>Rating</th>\n",
       "      <th>Cards</th>\n",
       "      <th>Age</th>\n",
       "      <th>...</th>\n",
       "      <th>Gender_Female</th>\n",
       "      <th>Student_Yes</th>\n",
       "      <th>Married_Yes</th>\n",
       "      <th>Ethnicity_Asian</th>\n",
       "      <th>Ethnicity_Caucasian</th>\n",
       "    </tr>\n",
       "  </thead>\n",
       "  <tbody>\n",
       "    <tr>\n",
       "      <th>0</th>\n",
       "      <td>14.891</td>\n",
       "      <td>3606</td>\n",
       "      <td>283</td>\n",
       "      <td>2</td>\n",
       "      <td>34</td>\n",
       "      <td>...</td>\n",
       "      <td>0</td>\n",
       "      <td>0</td>\n",
       "      <td>1</td>\n",
       "      <td>0</td>\n",
       "      <td>1</td>\n",
       "    </tr>\n",
       "    <tr>\n",
       "      <th>1</th>\n",
       "      <td>106.025</td>\n",
       "      <td>6645</td>\n",
       "      <td>483</td>\n",
       "      <td>3</td>\n",
       "      <td>82</td>\n",
       "      <td>...</td>\n",
       "      <td>1</td>\n",
       "      <td>1</td>\n",
       "      <td>1</td>\n",
       "      <td>1</td>\n",
       "      <td>0</td>\n",
       "    </tr>\n",
       "    <tr>\n",
       "      <th>2</th>\n",
       "      <td>104.593</td>\n",
       "      <td>7075</td>\n",
       "      <td>514</td>\n",
       "      <td>4</td>\n",
       "      <td>71</td>\n",
       "      <td>...</td>\n",
       "      <td>0</td>\n",
       "      <td>0</td>\n",
       "      <td>0</td>\n",
       "      <td>1</td>\n",
       "      <td>0</td>\n",
       "    </tr>\n",
       "    <tr>\n",
       "      <th>...</th>\n",
       "      <td>...</td>\n",
       "      <td>...</td>\n",
       "      <td>...</td>\n",
       "      <td>...</td>\n",
       "      <td>...</td>\n",
       "      <td>...</td>\n",
       "      <td>...</td>\n",
       "      <td>...</td>\n",
       "      <td>...</td>\n",
       "      <td>...</td>\n",
       "      <td>...</td>\n",
       "    </tr>\n",
       "    <tr>\n",
       "      <th>397</th>\n",
       "      <td>57.872</td>\n",
       "      <td>4171</td>\n",
       "      <td>321</td>\n",
       "      <td>5</td>\n",
       "      <td>67</td>\n",
       "      <td>...</td>\n",
       "      <td>1</td>\n",
       "      <td>0</td>\n",
       "      <td>1</td>\n",
       "      <td>0</td>\n",
       "      <td>1</td>\n",
       "    </tr>\n",
       "    <tr>\n",
       "      <th>398</th>\n",
       "      <td>37.728</td>\n",
       "      <td>2525</td>\n",
       "      <td>192</td>\n",
       "      <td>1</td>\n",
       "      <td>44</td>\n",
       "      <td>...</td>\n",
       "      <td>0</td>\n",
       "      <td>0</td>\n",
       "      <td>1</td>\n",
       "      <td>0</td>\n",
       "      <td>1</td>\n",
       "    </tr>\n",
       "    <tr>\n",
       "      <th>399</th>\n",
       "      <td>18.701</td>\n",
       "      <td>5524</td>\n",
       "      <td>415</td>\n",
       "      <td>5</td>\n",
       "      <td>64</td>\n",
       "      <td>...</td>\n",
       "      <td>1</td>\n",
       "      <td>0</td>\n",
       "      <td>0</td>\n",
       "      <td>1</td>\n",
       "      <td>0</td>\n",
       "    </tr>\n",
       "  </tbody>\n",
       "</table>\n",
       "<p>400 rows × 12 columns</p>\n",
       "</div>"
      ],
      "text/plain": [
       "      Income  Limit  Rating  Cards  Age  ...  Gender_Female  Student_Yes  \\\n",
       "0     14.891   3606     283      2   34  ...              0            0   \n",
       "1    106.025   6645     483      3   82  ...              1            1   \n",
       "2    104.593   7075     514      4   71  ...              0            0   \n",
       "..       ...    ...     ...    ...  ...  ...            ...          ...   \n",
       "397   57.872   4171     321      5   67  ...              1            0   \n",
       "398   37.728   2525     192      1   44  ...              0            0   \n",
       "399   18.701   5524     415      5   64  ...              1            0   \n",
       "\n",
       "     Married_Yes  Ethnicity_Asian  Ethnicity_Caucasian  \n",
       "0              1                0                    1  \n",
       "1              1                1                    0  \n",
       "2              0                1                    0  \n",
       "..           ...              ...                  ...  \n",
       "397            1                0                    1  \n",
       "398            1                0                    1  \n",
       "399            0                1                    0  \n",
       "\n",
       "[400 rows x 12 columns]"
      ]
     },
     "execution_count": 16,
     "metadata": {},
     "output_type": "execute_result"
    }
   ],
   "source": [
    "data_num = pd.get_dummies(data, drop_first=True)\n",
    "data_num"
   ]
  },
  {
   "cell_type": "markdown",
   "metadata": {},
   "source": [
    "The objective function of the ridge regression model trades off two different criteria. As with least squares, ridge regression seeks coefficient estimates that fit the data well, by making the RSS\n",
    "small. However, the second term, $\\alpha\\sum_{j=1}^k\\beta_j^2$, called a **shrinkage penalty**, is small when $\\beta_1$, ..., $\\beta_k$ are close to zero, and so it has the effect of shrinking penalty\n",
    "the estimates of $\\beta_j$ towards zero. The hyperparameter $\\alpha$ serves to control the relative impact of these two terms on the regression coefficient estimates. When $\\alpha = 0$, the penalty term has no effect, and ridge regression will produce the least squares estimates. However, as $\\alpha\\rightarrow \\infty$, the impact of\n",
    "the shrinkage penalty grows, and the ridge regression coefficient estimates will approach zero. You may find this diagram from the reference book [An Introduction to Statistical Learning-with Applications in R](https://faculty.marshall.usc.edu/gareth-james/ISL/ISLR%20Seventh%20Printing.pdf) on page 216. "
   ]
  },
  {
   "cell_type": "code",
   "execution_count": 17,
   "metadata": {
    "scrolled": true
   },
   "outputs": [
    {
     "data": {
      "image/png": "[encoded data removed]",
      "text/plain": [
       "<Figure size 432x288 with 1 Axes>"
      ]
     },
     "metadata": {
      "needs_background": "light"
     },
     "output_type": "display_data"
    }
   ],
   "source": [
    "alphas = 10**np.arange(-2, 6.2, 0.2)\n",
    "slopes = []\n",
    "x_data = data_num.drop(columns='Balance')\n",
    "y_data = data_num['Balance']\n",
    "for alpha in alphas:\n",
    "    steps = [('scaler', StandardScaler()),\n",
    "             ('ridge', Ridge(alpha))]\n",
    "    pipe = Pipeline(steps) \n",
    "    pipe.fit(x_data, y_data)\n",
    "    slopes.append(pipe._final_estimator.coef_)  # Coefficients of \n",
    "\n",
    "slopes = np.array(slopes)\n",
    "for i in range(len(x_data.columns)):\n",
    "    label = x_data.columns[i]\n",
    "    if label in ['Income', 'Limit', 'Rating', 'Student_Yes']:\n",
    "        plt.plot(alphas, slopes[:, i], \n",
    "                 label=x_data.columns[i])\n",
    "    else:\n",
    "        plt.plot(alphas, slopes[:, i])\n",
    "\n",
    "plt.legend(fontsize=14, frameon=False)\n",
    "plt.xlabel(r'Hyperparameter $\\alpha$', fontsize=12)\n",
    "plt.ylabel('Standardized coefficients', fontsize=14)\n",
    "plt.xscale('log')\n",
    "plt.show()"
   ]
  },
  {
   "cell_type": "markdown",
   "metadata": {},
   "source": [
    "Unlike least squares, which generates only one set of coefficient estimates, ridge regression will produce a different set of coefficient estimates for each value of $\\alpha$. Selecting a good value for $\\alpha$ is critical, and it can be determined by the grid search approach."
   ]
  },
  {
   "cell_type": "code",
   "execution_count": 18,
   "metadata": {
    "scrolled": false
   },
   "outputs": [
    {
     "name": "stdout",
     "output_type": "stream",
     "text": [
      "Best parameter: 0.03162\n",
      "Best score: 0.951\n"
     ]
    }
   ],
   "source": [
    "param = {'ridge__alpha': 10**np.arange(-5, 4.5, 0.5)}           # Vary the alpha parameter\n",
    "steps = [\n",
    "    ('scaler', StandardScaler()),                               # Step 1: Standardized scaler\n",
    "    ('ridge', Ridge()),                                         # Step 2: ridge regression\n",
    "]\n",
    "\n",
    "pipe = Pipeline(steps)                                          # Create a pipline\n",
    "search = GridSearchCV(pipe, param, cv=4)                        # Create a grid search for the best parameter \n",
    "x, y = data_num.drop(columns='Balance'), data_num['Balance']    # Predictor and predicted variables\n",
    "search.fit(x, y)                                                # Fit the model with the x and y data\n",
    "\n",
    "alpha_best = search.best_params_['ridge__alpha']                  \n",
    "print('Best parameter: {0:0.5f}'.format(alpha_best))            # Best paramter\n",
    "print('Best score: {0:0.3f}'.format(search.best_score_))        # R-squared value for the best parameter"
   ]
  },
  {
   "cell_type": "markdown",
   "metadata": {},
   "source": [
    "As with ridge regression, the lasso shrinks the coefficient estimates towards zero. However, in the case of the lasso, the different penalty has the effect of forcing some of the coefficient estimates to be exactly equal to zero when the tuning parameter $\\alpha$ is sufficiently large. Hence, much like best subset selection, the lasso performs variable selection. As a result, models generated from the lasso are generally much easier to interpret than those produced by ridge regression. We say that the lasso yields sparse models—that is, models that involve only a subset of the variables. The same figure can be found on page 220 of the reference book [An Introduction to Statistical Learning-with Applications in R](https://faculty.marshall.usc.edu/gareth-james/ISL/ISLR%20Seventh%20Printing.pdf)."
   ]
  },
  {
   "cell_type": "code",
   "execution_count": 19,
   "metadata": {
    "scrolled": true
   },
   "outputs": [
    {
     "data": {
      "image/png": "[encoded data removed]",
      "text/plain": [
       "<Figure size 432x288 with 1 Axes>"
      ]
     },
     "metadata": {
      "needs_background": "light"
     },
     "output_type": "display_data"
    }
   ],
   "source": [
    "alphas = 10**np.arange(-1, 5.1, 0.1)\n",
    "slopes = []\n",
    "x_data = data_num.drop(columns='Balance')\n",
    "y_data = data_num['Balance']\n",
    "for alpha in alphas:\n",
    "    steps = [('scaler', StandardScaler()),\n",
    "             ('lasso', Lasso(alpha, max_iter=1e6))]\n",
    "    pipe = Pipeline(steps) \n",
    "    pipe.fit(x_data, y_data)\n",
    "    slopes.append(pipe._final_estimator.coef_)\n",
    "\n",
    "slopes = np.array(slopes)\n",
    "for i in range(len(x_data.columns)):\n",
    "    label = x_data.columns[i]\n",
    "    if label in ['Income', 'Limit', 'Rating', 'Student_Yes']:\n",
    "        plt.plot(alphas, slopes[:, i], \n",
    "                 label=x_data.columns[i])\n",
    "    else:\n",
    "        plt.plot(alphas, slopes[:, i])\n",
    "\n",
    "plt.legend(fontsize=14, frameon=False)\n",
    "plt.xlabel(r'Hyperparameter $\\alpha$', fontsize=12)\n",
    "plt.ylabel('Standardized coefficients', fontsize=14)\n",
    "plt.xscale('log')\n",
    "plt.show()"
   ]
  },
  {
   "cell_type": "markdown",
   "metadata": {},
   "source": [
    "As in ridge regression, selecting a good value of $\\alpha$ for the lasso model is critical, and we can also use grid search method as follows."
   ]
  },
  {
   "cell_type": "code",
   "execution_count": 20,
   "metadata": {},
   "outputs": [
    {
     "name": "stdout",
     "output_type": "stream",
     "text": [
      "Best parameter: 0.501\n",
      "Best score: 0.951\n"
     ]
    }
   ],
   "source": [
    "param = {'lasso__alpha': 10**np.arange(-5, 5.1, 0.1)}           # Vary the alpha parameter\n",
    "steps = [\n",
    "    ('scaler', StandardScaler()),                               # Step 1: Standardized scaler\n",
    "    ('lasso', Lasso(max_iter=1e5))                              # Step 2: LASSO\n",
    "]                        \n",
    "\n",
    "pipe = Pipeline(steps)                                          # Create a pipline\n",
    "search = GridSearchCV(pipe, param, cv=4)                        # Create a grid search for the best parameter \n",
    "x, y = data_num.drop(columns='Balance'), data_num['Balance']    # Predictor and predicted variables\n",
    "search.fit(x, y)                                                # Fit the model with the x and y data\n",
    "\n",
    "alpha_best = search.best_params_['lasso__alpha']                  \n",
    "print('Best parameter: {0}'.format(np.round(alpha_best, 3)))    # Best paramter\n",
    "print('Best score: {0:0.3f}'.format(search.best_score_))        # R-squared value for the best parameter"
   ]
  },
  {
   "cell_type": "markdown",
   "metadata": {},
   "source": [
    " "
   ]
  },
  {
   "cell_type": "markdown",
   "metadata": {},
   "source": [
    "## Dimension reduction <a id=\"section5\"></a>\n",
    "\n",
    "Please note that the term \"dimension\" used in this section is different from the same word we used in discussing NumPy arrays. Here the dimension is the number of predictor variables or features, and how they can be visualized. Take a case with two predictors, for example, the values of these two variables can be visualized by a two-dimensional diagram. While for three variables, they can be visualized in a three-dimensional space. As for cases with more than three dimensions, there is no easy way to visualize them by simply increasing dimensions.\n",
    "\n",
    "### Motivation: curse of dimensionality <a id=\"subsection5.1\"></a>\n",
    "\n",
    "> *Many Machine Learning problems involve thousands or even millions of features for each training instance. Not only does this make training extremely slow, it can also make it much harder to find a good solution, as we will see. This problem is often referred to as the **curse of dimensionality**.* - [Hands-On Machine Learning with Scikit-Learn and TensorFlow](https://www.lpsm.paris/pageperso/has/source/Hand-on-ML.pdf)\n",
    "\n",
    "The curse of dimensionality is illustrated by interactive data visualizations provided on [Programming for Business Analytics](https://share.streamlit.io/xiongpengnus/learn_dao/main/web.py):\n",
    "- All data points tend to approach the borders as the data dimensions increase;\n",
    "- Test data points are farther away from the training dataset as data dimensions increase.\n",
    "\n",
    "### Principal component analysis <a id=\"subsection5.2\"></a>\n",
    "\n",
    "**Principal components analysis (PCA)** is an **unsupervised learning** approach for deriving a low-dimensional set of features from a large set of variables. These features or so called **principal components** are linear combinations of the original independent variables, and the variances along the selected dimensions are maximized. \n",
    "\n",
    "In order to demonstrate how the PCA is applied to reduce data dimensions, we consider the dataset \"USArrests.csv\", where the crime statistics per 100,1000 residents in 50 states of USA are provided. "
   ]
  },
  {
   "cell_type": "code",
   "execution_count": 21,
   "metadata": {
    "scrolled": false
   },
   "outputs": [
    {
     "data": {
      "text/html": [
       "<div>\n",
       "<style scoped>\n",
       "    .dataframe tbody tr th:only-of-type {\n",
       "        vertical-align: middle;\n",
       "    }\n",
       "\n",
       "    .dataframe tbody tr th {\n",
       "        vertical-align: top;\n",
       "    }\n",
       "\n",
       "    .dataframe thead th {\n",
       "        text-align: right;\n",
       "    }\n",
       "</style>\n",
       "<table border=\"1\" class=\"dataframe\">\n",
       "  <thead>\n",
       "    <tr style=\"text-align: right;\">\n",
       "      <th></th>\n",
       "      <th>States</th>\n",
       "      <th>Murder</th>\n",
       "      <th>Assault</th>\n",
       "      <th>UrbanPop</th>\n",
       "      <th>Rape</th>\n",
       "    </tr>\n",
       "  </thead>\n",
       "  <tbody>\n",
       "    <tr>\n",
       "      <th>0</th>\n",
       "      <td>Alabama</td>\n",
       "      <td>13.2</td>\n",
       "      <td>236</td>\n",
       "      <td>58</td>\n",
       "      <td>21.2</td>\n",
       "    </tr>\n",
       "    <tr>\n",
       "      <th>1</th>\n",
       "      <td>Alaska</td>\n",
       "      <td>10.0</td>\n",
       "      <td>263</td>\n",
       "      <td>48</td>\n",
       "      <td>44.5</td>\n",
       "    </tr>\n",
       "    <tr>\n",
       "      <th>2</th>\n",
       "      <td>Arizona</td>\n",
       "      <td>8.1</td>\n",
       "      <td>294</td>\n",
       "      <td>80</td>\n",
       "      <td>31.0</td>\n",
       "    </tr>\n",
       "    <tr>\n",
       "      <th>...</th>\n",
       "      <td>...</td>\n",
       "      <td>...</td>\n",
       "      <td>...</td>\n",
       "      <td>...</td>\n",
       "      <td>...</td>\n",
       "    </tr>\n",
       "    <tr>\n",
       "      <th>47</th>\n",
       "      <td>West Virginia</td>\n",
       "      <td>5.7</td>\n",
       "      <td>81</td>\n",
       "      <td>39</td>\n",
       "      <td>9.3</td>\n",
       "    </tr>\n",
       "    <tr>\n",
       "      <th>48</th>\n",
       "      <td>Wisconsin</td>\n",
       "      <td>2.6</td>\n",
       "      <td>53</td>\n",
       "      <td>66</td>\n",
       "      <td>10.8</td>\n",
       "    </tr>\n",
       "    <tr>\n",
       "      <th>49</th>\n",
       "      <td>Wyoming</td>\n",
       "      <td>6.8</td>\n",
       "      <td>161</td>\n",
       "      <td>60</td>\n",
       "      <td>15.6</td>\n",
       "    </tr>\n",
       "  </tbody>\n",
       "</table>\n",
       "<p>50 rows × 5 columns</p>\n",
       "</div>"
      ],
      "text/plain": [
       "           States  Murder  Assault  UrbanPop  Rape\n",
       "0         Alabama    13.2      236        58  21.2\n",
       "1          Alaska    10.0      263        48  44.5\n",
       "2         Arizona     8.1      294        80  31.0\n",
       "..            ...     ...      ...       ...   ...\n",
       "47  West Virginia     5.7       81        39   9.3\n",
       "48      Wisconsin     2.6       53        66  10.8\n",
       "49        Wyoming     6.8      161        60  15.6\n",
       "\n",
       "[50 rows x 5 columns]"
      ]
     },
     "execution_count": 21,
     "metadata": {},
     "output_type": "execute_result"
    }
   ],
   "source": [
    "usa = pd.read_csv('USArrests.csv')\n",
    "usa"
   ]
  },
  {
   "cell_type": "markdown",
   "metadata": {},
   "source": [
    "The correlation table below shows that variables `Murder`, `Assault`, `UrbanPop`, and `Rape` are highly correlated, and such relations can be verified by the subsequent pair plots. "
   ]
  },
  {
   "cell_type": "code",
   "execution_count": 22,
   "metadata": {},
   "outputs": [
    {
     "data": {
      "text/html": [
       "<div>\n",
       "<style scoped>\n",
       "    .dataframe tbody tr th:only-of-type {\n",
       "        vertical-align: middle;\n",
       "    }\n",
       "\n",
       "    .dataframe tbody tr th {\n",
       "        vertical-align: top;\n",
       "    }\n",
       "\n",
       "    .dataframe thead th {\n",
       "        text-align: right;\n",
       "    }\n",
       "</style>\n",
       "<table border=\"1\" class=\"dataframe\">\n",
       "  <thead>\n",
       "    <tr style=\"text-align: right;\">\n",
       "      <th></th>\n",
       "      <th>Murder</th>\n",
       "      <th>Assault</th>\n",
       "      <th>UrbanPop</th>\n",
       "      <th>Rape</th>\n",
       "    </tr>\n",
       "  </thead>\n",
       "  <tbody>\n",
       "    <tr>\n",
       "      <th>Murder</th>\n",
       "      <td>1.000000</td>\n",
       "      <td>0.801873</td>\n",
       "      <td>0.069573</td>\n",
       "      <td>0.563579</td>\n",
       "    </tr>\n",
       "    <tr>\n",
       "      <th>Assault</th>\n",
       "      <td>0.801873</td>\n",
       "      <td>1.000000</td>\n",
       "      <td>0.258872</td>\n",
       "      <td>0.665241</td>\n",
       "    </tr>\n",
       "    <tr>\n",
       "      <th>UrbanPop</th>\n",
       "      <td>0.069573</td>\n",
       "      <td>0.258872</td>\n",
       "      <td>1.000000</td>\n",
       "      <td>0.411341</td>\n",
       "    </tr>\n",
       "    <tr>\n",
       "      <th>Rape</th>\n",
       "      <td>0.563579</td>\n",
       "      <td>0.665241</td>\n",
       "      <td>0.411341</td>\n",
       "      <td>1.000000</td>\n",
       "    </tr>\n",
       "  </tbody>\n",
       "</table>\n",
       "</div>"
      ],
      "text/plain": [
       "            Murder   Assault  UrbanPop      Rape\n",
       "Murder    1.000000  0.801873  0.069573  0.563579\n",
       "Assault   0.801873  1.000000  0.258872  0.665241\n",
       "UrbanPop  0.069573  0.258872  1.000000  0.411341\n",
       "Rape      0.563579  0.665241  0.411341  1.000000"
      ]
     },
     "execution_count": 22,
     "metadata": {},
     "output_type": "execute_result"
    }
   ],
   "source": [
    "usa.corr()"
   ]
  },
  {
   "cell_type": "code",
   "execution_count": 23,
   "metadata": {
    "scrolled": false
   },
   "outputs": [
    {
     "data": {
      "image/png": "[encoded data removed]",
      "text/plain": [
       "<Figure size 432x432 with 20 Axes>"
      ]
     },
     "metadata": {
      "needs_background": "light"
     },
     "output_type": "display_data"
    }
   ],
   "source": [
    "pplt = sns.pairplot(usa)                # Pair plots of all quantitative variables\n",
    "pplt.fig.set_size_inches(6,6)           # Change the figure size of the pair plots"
   ]
  },
  {
   "cell_type": "markdown",
   "metadata": {},
   "source": [
    "Consider two variables `Assault` and `Murder` that are highly correlated, we may use the following steps to derive a principal component for dimension reduction. \n",
    "\n",
    "<img src=\"https://github.com/XiongPengNUS/dao_resources/blob/main/pca_reduce_one.png?raw=true\" width=500>\n",
    "\n",
    "- Subplot (a) shows the data of two selected variables `Assault` and `Murder`. The correlation between these two variables is 0.8019.\n",
    "- Subplot (b) shows the standardized values of the selected variables, and displays two perpendicular components that captures the variation of these two variables.\n",
    "- Subplot (c) shows that the first principal component captures most of the variation of these two variables, and the remaining variation is represented by the second principal component.\n",
    "- Subplot (d) shows that as the second principal component is removed, the dimension of data is reduced while the first component preserves most of (not all) the variation information in the selected variable.\n",
    "\n",
    "You may use the interactive data visualization provided on [Programming for Business Analytics](https://share.streamlit.io/xiongpengnus/learn_dao/main/web.py) to conduct similar experiments on other pairs of variables. \n",
    "\n",
    "Now let us drive two principal components from these four variables using tools provided by the the `sklearn` package. \n"
   ]
  },
  {
   "cell_type": "code",
   "execution_count": 24,
   "metadata": {
    "scrolled": true
   },
   "outputs": [
    {
     "data": {
      "text/html": [
       "<div>\n",
       "<style scoped>\n",
       "    .dataframe tbody tr th:only-of-type {\n",
       "        vertical-align: middle;\n",
       "    }\n",
       "\n",
       "    .dataframe tbody tr th {\n",
       "        vertical-align: top;\n",
       "    }\n",
       "\n",
       "    .dataframe thead th {\n",
       "        text-align: right;\n",
       "    }\n",
       "</style>\n",
       "<table border=\"1\" class=\"dataframe\">\n",
       "  <thead>\n",
       "    <tr style=\"text-align: right;\">\n",
       "      <th></th>\n",
       "      <th>PC1</th>\n",
       "      <th>PC2</th>\n",
       "    </tr>\n",
       "  </thead>\n",
       "  <tbody>\n",
       "    <tr>\n",
       "      <th>0</th>\n",
       "      <td>0.985566</td>\n",
       "      <td>1.133392</td>\n",
       "    </tr>\n",
       "    <tr>\n",
       "      <th>1</th>\n",
       "      <td>1.950138</td>\n",
       "      <td>1.073213</td>\n",
       "    </tr>\n",
       "    <tr>\n",
       "      <th>2</th>\n",
       "      <td>1.763164</td>\n",
       "      <td>-0.745957</td>\n",
       "    </tr>\n",
       "    <tr>\n",
       "      <th>...</th>\n",
       "      <td>...</td>\n",
       "      <td>...</td>\n",
       "    </tr>\n",
       "    <tr>\n",
       "      <th>47</th>\n",
       "      <td>-2.108585</td>\n",
       "      <td>1.424847</td>\n",
       "    </tr>\n",
       "    <tr>\n",
       "      <th>48</th>\n",
       "      <td>-2.079714</td>\n",
       "      <td>-0.611269</td>\n",
       "    </tr>\n",
       "    <tr>\n",
       "      <th>49</th>\n",
       "      <td>-0.629427</td>\n",
       "      <td>0.321013</td>\n",
       "    </tr>\n",
       "  </tbody>\n",
       "</table>\n",
       "<p>50 rows × 2 columns</p>\n",
       "</div>"
      ],
      "text/plain": [
       "         PC1       PC2\n",
       "0   0.985566  1.133392\n",
       "1   1.950138  1.073213\n",
       "2   1.763164 -0.745957\n",
       "..       ...       ...\n",
       "47 -2.108585  1.424847\n",
       "48 -2.079714 -0.611269\n",
       "49 -0.629427  0.321013\n",
       "\n",
       "[50 rows x 2 columns]"
      ]
     },
     "execution_count": 24,
     "metadata": {},
     "output_type": "execute_result"
    }
   ],
   "source": [
    "x = usa.drop(columns='States')              # All columns except 'States'\n",
    "x_std = StandardScaler().fit_transform(x)   # Standardization of the variable\n",
    "\n",
    "nc = 2                                      # Number of principal components\n",
    "pca = PCA(n_components=nc)                  # Create a PCA object and specify the number of components\n",
    "\n",
    "z = pd.DataFrame(pca.fit_transform(x_std),  # Derive the principal components using the PCA object\n",
    "                 columns=['PC1', 'PC2'])    # Convert the array to a data frame\n",
    "z"
   ]
  },
  {
   "cell_type": "markdown",
   "metadata": {},
   "source": [
    "These two principal components `PC1` and `PC2` are barely correlated as shown by the correlation table below."
   ]
  },
  {
   "cell_type": "code",
   "execution_count": 25,
   "metadata": {
    "scrolled": false
   },
   "outputs": [
    {
     "data": {
      "text/html": [
       "<div>\n",
       "<style scoped>\n",
       "    .dataframe tbody tr th:only-of-type {\n",
       "        vertical-align: middle;\n",
       "    }\n",
       "\n",
       "    .dataframe tbody tr th {\n",
       "        vertical-align: top;\n",
       "    }\n",
       "\n",
       "    .dataframe thead th {\n",
       "        text-align: right;\n",
       "    }\n",
       "</style>\n",
       "<table border=\"1\" class=\"dataframe\">\n",
       "  <thead>\n",
       "    <tr style=\"text-align: right;\">\n",
       "      <th></th>\n",
       "      <th>PC1</th>\n",
       "      <th>PC2</th>\n",
       "    </tr>\n",
       "  </thead>\n",
       "  <tbody>\n",
       "    <tr>\n",
       "      <th>PC1</th>\n",
       "      <td>1.000000e+00</td>\n",
       "      <td>-1.417187e-18</td>\n",
       "    </tr>\n",
       "    <tr>\n",
       "      <th>PC2</th>\n",
       "      <td>-1.417187e-18</td>\n",
       "      <td>1.000000e+00</td>\n",
       "    </tr>\n",
       "  </tbody>\n",
       "</table>\n",
       "</div>"
      ],
      "text/plain": [
       "              PC1           PC2\n",
       "PC1  1.000000e+00 -1.417187e-18\n",
       "PC2 -1.417187e-18  1.000000e+00"
      ]
     },
     "execution_count": 25,
     "metadata": {},
     "output_type": "execute_result"
    }
   ],
   "source": [
    "z.corr()"
   ]
  },
  {
   "cell_type": "markdown",
   "metadata": {},
   "source": [
    "Note that the principal components are linear combinations of the original variables, so they can be written as\n",
    "\n",
    "$$\n",
    "z_1 = \\phi_{11} x_{\\text{Murder}} + \\phi_{21} x_{\\text{Assault}} + \\phi_{31} x_{\\text{UrbanPop}} + \\phi_{41}x_{\\text{Rape}} \\\\\n",
    "z_2 = \\phi_{12} x_{\\text{Murder}} + \\phi_{22} x_{\\text{Assault}} + \\phi_{32} x_{\\text{UrbanPop}} + \\phi_{42}x_{\\text{Rape}} \\\\\n",
    "$$\n",
    "\n",
    "where $\\phi_{jk}$ are coefficients of the linear combination expression. These coefficients can be retrieved as the `components_` attribute of the `PCA` object, as shown below. The similar results can be found in Table 10.1 (page 377) of the reference book [An Introduction to Statistical Learning-with Applications in R](https://faculty.marshall.usc.edu/gareth-james/ISL/ISLR%20Seventh%20Printing.pdf)."
   ]
  },
  {
   "cell_type": "code",
   "execution_count": 26,
   "metadata": {
    "scrolled": true
   },
   "outputs": [
    {
     "data": {
      "text/html": [
       "<div>\n",
       "<style scoped>\n",
       "    .dataframe tbody tr th:only-of-type {\n",
       "        vertical-align: middle;\n",
       "    }\n",
       "\n",
       "    .dataframe tbody tr th {\n",
       "        vertical-align: top;\n",
       "    }\n",
       "\n",
       "    .dataframe thead th {\n",
       "        text-align: right;\n",
       "    }\n",
       "</style>\n",
       "<table border=\"1\" class=\"dataframe\">\n",
       "  <thead>\n",
       "    <tr style=\"text-align: right;\">\n",
       "      <th></th>\n",
       "      <th>PC1</th>\n",
       "      <th>PC2</th>\n",
       "    </tr>\n",
       "  </thead>\n",
       "  <tbody>\n",
       "    <tr>\n",
       "      <th>Murder</th>\n",
       "      <td>0.535899</td>\n",
       "      <td>0.418181</td>\n",
       "    </tr>\n",
       "    <tr>\n",
       "      <th>Assault</th>\n",
       "      <td>0.583184</td>\n",
       "      <td>0.187986</td>\n",
       "    </tr>\n",
       "    <tr>\n",
       "      <th>UrbanPop</th>\n",
       "      <td>0.278191</td>\n",
       "      <td>-0.872806</td>\n",
       "    </tr>\n",
       "    <tr>\n",
       "      <th>Rape</th>\n",
       "      <td>0.543432</td>\n",
       "      <td>-0.167319</td>\n",
       "    </tr>\n",
       "  </tbody>\n",
       "</table>\n",
       "</div>"
      ],
      "text/plain": [
       "               PC1       PC2\n",
       "Murder    0.535899  0.418181\n",
       "Assault   0.583184  0.187986\n",
       "UrbanPop  0.278191 -0.872806\n",
       "Rape      0.543432 -0.167319"
      ]
     },
     "execution_count": 26,
     "metadata": {},
     "output_type": "execute_result"
    }
   ],
   "source": [
    "pd.DataFrame(pca.components_.T,         # Transpose of the components_ attribute\n",
    "             columns=['PC1', 'PC2'],    # Column labels\n",
    "             index=x.columns)           # Row indices"
   ]
  },
  {
   "cell_type": "markdown",
   "metadata": {},
   "source": [
    "<div class=\"alert alert-block alert-success\">\n",
    "<b>Example 3:</b>  \n",
    "    The file \"Hitters.csv\" provides a dataset on baseball players. Predict players' salaries using a proper linear regression model.\n",
    "</div>\n",
    "\n",
    "The code cell below prepares a dataset for predicting baseball players' salaries. Description of the dataset can be found from [here](https://rdrr.io/cran/ISLR/man/Hitters.html)."
   ]
  },
  {
   "cell_type": "code",
   "execution_count": 27,
   "metadata": {
    "scrolled": true
   },
   "outputs": [
    {
     "data": {
      "text/html": [
       "<div>\n",
       "<style scoped>\n",
       "    .dataframe tbody tr th:only-of-type {\n",
       "        vertical-align: middle;\n",
       "    }\n",
       "\n",
       "    .dataframe tbody tr th {\n",
       "        vertical-align: top;\n",
       "    }\n",
       "\n",
       "    .dataframe thead th {\n",
       "        text-align: right;\n",
       "    }\n",
       "</style>\n",
       "<table border=\"1\" class=\"dataframe\">\n",
       "  <thead>\n",
       "    <tr style=\"text-align: right;\">\n",
       "      <th></th>\n",
       "      <th>AtBat</th>\n",
       "      <th>Hits</th>\n",
       "      <th>HmRun</th>\n",
       "      <th>Runs</th>\n",
       "      <th>RBI</th>\n",
       "      <th>...</th>\n",
       "      <th>Errors</th>\n",
       "      <th>Salary</th>\n",
       "      <th>League_N</th>\n",
       "      <th>Division_W</th>\n",
       "      <th>NewLeague_N</th>\n",
       "    </tr>\n",
       "  </thead>\n",
       "  <tbody>\n",
       "    <tr>\n",
       "      <th>0</th>\n",
       "      <td>315</td>\n",
       "      <td>81</td>\n",
       "      <td>7</td>\n",
       "      <td>24</td>\n",
       "      <td>38</td>\n",
       "      <td>...</td>\n",
       "      <td>10</td>\n",
       "      <td>475.0</td>\n",
       "      <td>1</td>\n",
       "      <td>1</td>\n",
       "      <td>1</td>\n",
       "    </tr>\n",
       "    <tr>\n",
       "      <th>1</th>\n",
       "      <td>479</td>\n",
       "      <td>130</td>\n",
       "      <td>18</td>\n",
       "      <td>66</td>\n",
       "      <td>72</td>\n",
       "      <td>...</td>\n",
       "      <td>14</td>\n",
       "      <td>480.0</td>\n",
       "      <td>0</td>\n",
       "      <td>1</td>\n",
       "      <td>0</td>\n",
       "    </tr>\n",
       "    <tr>\n",
       "      <th>2</th>\n",
       "      <td>496</td>\n",
       "      <td>141</td>\n",
       "      <td>20</td>\n",
       "      <td>65</td>\n",
       "      <td>78</td>\n",
       "      <td>...</td>\n",
       "      <td>3</td>\n",
       "      <td>500.0</td>\n",
       "      <td>1</td>\n",
       "      <td>0</td>\n",
       "      <td>1</td>\n",
       "    </tr>\n",
       "    <tr>\n",
       "      <th>...</th>\n",
       "      <td>...</td>\n",
       "      <td>...</td>\n",
       "      <td>...</td>\n",
       "      <td>...</td>\n",
       "      <td>...</td>\n",
       "      <td>...</td>\n",
       "      <td>...</td>\n",
       "      <td>...</td>\n",
       "      <td>...</td>\n",
       "      <td>...</td>\n",
       "      <td>...</td>\n",
       "    </tr>\n",
       "    <tr>\n",
       "      <th>260</th>\n",
       "      <td>475</td>\n",
       "      <td>126</td>\n",
       "      <td>3</td>\n",
       "      <td>61</td>\n",
       "      <td>43</td>\n",
       "      <td>...</td>\n",
       "      <td>7</td>\n",
       "      <td>385.0</td>\n",
       "      <td>0</td>\n",
       "      <td>1</td>\n",
       "      <td>0</td>\n",
       "    </tr>\n",
       "    <tr>\n",
       "      <th>261</th>\n",
       "      <td>573</td>\n",
       "      <td>144</td>\n",
       "      <td>9</td>\n",
       "      <td>85</td>\n",
       "      <td>60</td>\n",
       "      <td>...</td>\n",
       "      <td>12</td>\n",
       "      <td>960.0</td>\n",
       "      <td>0</td>\n",
       "      <td>0</td>\n",
       "      <td>0</td>\n",
       "    </tr>\n",
       "    <tr>\n",
       "      <th>262</th>\n",
       "      <td>631</td>\n",
       "      <td>170</td>\n",
       "      <td>9</td>\n",
       "      <td>77</td>\n",
       "      <td>44</td>\n",
       "      <td>...</td>\n",
       "      <td>3</td>\n",
       "      <td>1000.0</td>\n",
       "      <td>0</td>\n",
       "      <td>1</td>\n",
       "      <td>0</td>\n",
       "    </tr>\n",
       "  </tbody>\n",
       "</table>\n",
       "<p>263 rows × 20 columns</p>\n",
       "</div>"
      ],
      "text/plain": [
       "     AtBat  Hits  HmRun  Runs  RBI  ...  Errors  Salary  League_N  Division_W  \\\n",
       "0      315    81      7    24   38  ...      10   475.0         1           1   \n",
       "1      479   130     18    66   72  ...      14   480.0         0           1   \n",
       "2      496   141     20    65   78  ...       3   500.0         1           0   \n",
       "..     ...   ...    ...   ...  ...  ...     ...     ...       ...         ...   \n",
       "260    475   126      3    61   43  ...       7   385.0         0           1   \n",
       "261    573   144      9    85   60  ...      12   960.0         0           0   \n",
       "262    631   170      9    77   44  ...       3  1000.0         0           1   \n",
       "\n",
       "     NewLeague_N  \n",
       "0              1  \n",
       "1              0  \n",
       "2              1  \n",
       "..           ...  \n",
       "260            0  \n",
       "261            0  \n",
       "262            0  \n",
       "\n",
       "[263 rows x 20 columns]"
      ]
     },
     "execution_count": 27,
     "metadata": {},
     "output_type": "execute_result"
    }
   ],
   "source": [
    "hitters = pd.read_csv('Hitters.csv')\n",
    "hitters = hitters.loc[hitters['Salary'].notnull()].reset_index(drop=True)\n",
    "hitters_num = pd.get_dummies(hitters, drop_first=True)\n",
    "hitters_num"
   ]
  },
  {
   "cell_type": "markdown",
   "metadata": {},
   "source": [
    "The following code segment implements the regression model directly where all predictor variables are considered."
   ]
  },
  {
   "cell_type": "code",
   "execution_count": 28,
   "metadata": {},
   "outputs": [
    {
     "data": {
      "text/plain": [
       "0.3245713522246291"
      ]
     },
     "execution_count": 28,
     "metadata": {},
     "output_type": "execute_result"
    }
   ],
   "source": [
    "x = hitters_num.drop(columns='Salary')\n",
    "y = hitters_num['Salary']\n",
    "\n",
    "regr = LinearRegression()                   # Linear regression model\n",
    "cross_val_score(regr, x, y, cv=10).mean()   # Average R^2 from 10-fold cross-validation"
   ]
  },
  {
   "cell_type": "markdown",
   "metadata": {},
   "source": [
    "Notice that there are 19 predictor variables and many of them are highly correlated, as shown by the correlation table below."
   ]
  },
  {
   "cell_type": "code",
   "execution_count": 29,
   "metadata": {},
   "outputs": [
    {
     "data": {
      "text/html": [
       "<div>\n",
       "<style scoped>\n",
       "    .dataframe tbody tr th:only-of-type {\n",
       "        vertical-align: middle;\n",
       "    }\n",
       "\n",
       "    .dataframe tbody tr th {\n",
       "        vertical-align: top;\n",
       "    }\n",
       "\n",
       "    .dataframe thead th {\n",
       "        text-align: right;\n",
       "    }\n",
       "</style>\n",
       "<table border=\"1\" class=\"dataframe\">\n",
       "  <thead>\n",
       "    <tr style=\"text-align: right;\">\n",
       "      <th></th>\n",
       "      <th>AtBat</th>\n",
       "      <th>Hits</th>\n",
       "      <th>HmRun</th>\n",
       "      <th>Runs</th>\n",
       "      <th>RBI</th>\n",
       "      <th>...</th>\n",
       "      <th>Errors</th>\n",
       "      <th>Salary</th>\n",
       "      <th>League_N</th>\n",
       "      <th>Division_W</th>\n",
       "      <th>NewLeague_N</th>\n",
       "    </tr>\n",
       "  </thead>\n",
       "  <tbody>\n",
       "    <tr>\n",
       "      <th>AtBat</th>\n",
       "      <td>1.000000</td>\n",
       "      <td>0.963969</td>\n",
       "      <td>0.555102</td>\n",
       "      <td>0.899829</td>\n",
       "      <td>0.796015</td>\n",
       "      <td>...</td>\n",
       "      <td>0.325577</td>\n",
       "      <td>0.394771</td>\n",
       "      <td>-0.153176</td>\n",
       "      <td>-0.056341</td>\n",
       "      <td>-0.089838</td>\n",
       "    </tr>\n",
       "    <tr>\n",
       "      <th>Hits</th>\n",
       "      <td>0.963969</td>\n",
       "      <td>1.000000</td>\n",
       "      <td>0.530627</td>\n",
       "      <td>0.910630</td>\n",
       "      <td>0.788478</td>\n",
       "      <td>...</td>\n",
       "      <td>0.279876</td>\n",
       "      <td>0.438675</td>\n",
       "      <td>-0.153522</td>\n",
       "      <td>-0.083266</td>\n",
       "      <td>-0.094990</td>\n",
       "    </tr>\n",
       "    <tr>\n",
       "      <th>HmRun</th>\n",
       "      <td>0.555102</td>\n",
       "      <td>0.530627</td>\n",
       "      <td>1.000000</td>\n",
       "      <td>0.631076</td>\n",
       "      <td>0.849107</td>\n",
       "      <td>...</td>\n",
       "      <td>-0.009743</td>\n",
       "      <td>0.343028</td>\n",
       "      <td>-0.222965</td>\n",
       "      <td>-0.034851</td>\n",
       "      <td>-0.199424</td>\n",
       "    </tr>\n",
       "    <tr>\n",
       "      <th>...</th>\n",
       "      <td>...</td>\n",
       "      <td>...</td>\n",
       "      <td>...</td>\n",
       "      <td>...</td>\n",
       "      <td>...</td>\n",
       "      <td>...</td>\n",
       "      <td>...</td>\n",
       "      <td>...</td>\n",
       "      <td>...</td>\n",
       "      <td>...</td>\n",
       "      <td>...</td>\n",
       "    </tr>\n",
       "    <tr>\n",
       "      <th>League_N</th>\n",
       "      <td>-0.153176</td>\n",
       "      <td>-0.153522</td>\n",
       "      <td>-0.222965</td>\n",
       "      <td>-0.206001</td>\n",
       "      <td>-0.185858</td>\n",
       "      <td>...</td>\n",
       "      <td>0.091774</td>\n",
       "      <td>-0.014282</td>\n",
       "      <td>1.000000</td>\n",
       "      <td>-0.002723</td>\n",
       "      <td>0.862652</td>\n",
       "    </tr>\n",
       "    <tr>\n",
       "      <th>Division_W</th>\n",
       "      <td>-0.056341</td>\n",
       "      <td>-0.083266</td>\n",
       "      <td>-0.034851</td>\n",
       "      <td>-0.107672</td>\n",
       "      <td>-0.090157</td>\n",
       "      <td>...</td>\n",
       "      <td>-0.000557</td>\n",
       "      <td>-0.192514</td>\n",
       "      <td>-0.002723</td>\n",
       "      <td>1.000000</td>\n",
       "      <td>-0.002436</td>\n",
       "    </tr>\n",
       "    <tr>\n",
       "      <th>NewLeague_N</th>\n",
       "      <td>-0.089838</td>\n",
       "      <td>-0.094990</td>\n",
       "      <td>-0.199424</td>\n",
       "      <td>-0.154911</td>\n",
       "      <td>-0.143549</td>\n",
       "      <td>...</td>\n",
       "      <td>0.063173</td>\n",
       "      <td>-0.002834</td>\n",
       "      <td>0.862652</td>\n",
       "      <td>-0.002436</td>\n",
       "      <td>1.000000</td>\n",
       "    </tr>\n",
       "  </tbody>\n",
       "</table>\n",
       "<p>20 rows × 20 columns</p>\n",
       "</div>"
      ],
      "text/plain": [
       "                AtBat      Hits     HmRun      Runs       RBI  ...    Errors  \\\n",
       "AtBat        1.000000  0.963969  0.555102  0.899829  0.796015  ...  0.325577   \n",
       "Hits         0.963969  1.000000  0.530627  0.910630  0.788478  ...  0.279876   \n",
       "HmRun        0.555102  0.530627  1.000000  0.631076  0.849107  ... -0.009743   \n",
       "...               ...       ...       ...       ...       ...  ...       ...   \n",
       "League_N    -0.153176 -0.153522 -0.222965 -0.206001 -0.185858  ...  0.091774   \n",
       "Division_W  -0.056341 -0.083266 -0.034851 -0.107672 -0.090157  ... -0.000557   \n",
       "NewLeague_N -0.089838 -0.094990 -0.199424 -0.154911 -0.143549  ...  0.063173   \n",
       "\n",
       "               Salary  League_N  Division_W  NewLeague_N  \n",
       "AtBat        0.394771 -0.153176   -0.056341    -0.089838  \n",
       "Hits         0.438675 -0.153522   -0.083266    -0.094990  \n",
       "HmRun        0.343028 -0.222965   -0.034851    -0.199424  \n",
       "...               ...       ...         ...          ...  \n",
       "League_N    -0.014282  1.000000   -0.002723     0.862652  \n",
       "Division_W  -0.192514 -0.002723    1.000000    -0.002436  \n",
       "NewLeague_N -0.002834  0.862652   -0.002436     1.000000  \n",
       "\n",
       "[20 rows x 20 columns]"
      ]
     },
     "execution_count": 29,
     "metadata": {},
     "output_type": "execute_result"
    }
   ],
   "source": [
    "hitters_num.corr()"
   ]
  },
  {
   "cell_type": "markdown",
   "metadata": {},
   "source": [
    "We then apply PCA to create four principal components and use them in the regression model to predict players' salaries. "
   ]
  },
  {
   "cell_type": "code",
   "execution_count": 30,
   "metadata": {
    "scrolled": true
   },
   "outputs": [
    {
     "data": {
      "text/plain": [
       "0.36386711307345754"
      ]
     },
     "execution_count": 30,
     "metadata": {},
     "output_type": "execute_result"
    }
   ],
   "source": [
    "x = hitters_num.drop(columns='Salary')\n",
    "y = hitters_num['Salary']\n",
    "\n",
    "nc = 4\n",
    "steps = [\n",
    "    ('scaler', StandardScaler()),           # Step 1: Standardize all predictor variables\n",
    "    ('pca', PCA(n_components=nc)),          # Step 2: PCA transformation\n",
    "    ('lr', LinearRegression())              # Step 3: linear regression\n",
    "]        \n",
    "pipe = Pipeline(steps)                      # Create a pipeline\n",
    "cross_val_score(pipe, x, y, cv=10).mean()   # Average R^2 from 10-fold cross-validation"
   ]
  },
  {
   "cell_type": "markdown",
   "metadata": {},
   "source": [
    "It can be seen that running the regression model on the principal components leads to better performance in terms of increased average $R^2$ value from the 10-fold cross-validation."
   ]
  },
  {
   "cell_type": "markdown",
   "metadata": {},
   "source": [
    " "
   ]
  },
  {
   "cell_type": "markdown",
   "metadata": {},
   "source": [
    "## Case studies <a id=\"section6\"></a>\n",
    "\n",
    "### Case study 1: Baseball players' data<a id=\"subsection6.1\"></a>\n",
    "\n",
    "#### PCA and regression\n",
    "For the 'hitters' datasets, can you determine the optimal number of principle components in predicting the salary of a given player? You may use ten folds in the cross-validation. Also draw the pair plots for the derived optimal principal components.\n",
    "\n",
    "**Solution**:"
   ]
  },
  {
   "cell_type": "code",
   "execution_count": 48,
   "metadata": {
    "scrolled": false
   },
   "outputs": [
    {
     "name": "stdout",
     "output_type": "stream",
     "text": [
      "Best parameter: 5\n",
      "Best score: 0.373\n"
     ]
    }
   ],
   "source": [
    "param = {'pca__n_components': np.arange(2,19)}\n",
    "steps = [\n",
    "    ('scaler', StandardScaler()),           \n",
    "    ('pca', PCA()),                         \n",
    "    ('lr', LinearRegression())              \n",
    "]        \n",
    "pipe = Pipeline(steps)                      \n",
    "search = GridSearchCV(pipe, param, cv=10)                        \n",
    "x = hitters_num.drop(columns='Salary')\n",
    "y = hitters_num['Salary']\n",
    "search.fit(x, y)\n",
    "\n",
    "pca_best = search.best_params_['pca__n_components']                  \n",
    "print('Best parameter: {0}'.format(np.round(pca_best, 3)))    \n",
    "print('Best score: {0:0.3f}'.format(search.best_score_))        "
   ]
  },
  {
   "cell_type": "code",
   "execution_count": 50,
   "metadata": {},
   "outputs": [
    {
     "data": {
      "text/html": [
       "<div>\n",
       "<style scoped>\n",
       "    .dataframe tbody tr th:only-of-type {\n",
       "        vertical-align: middle;\n",
       "    }\n",
       "\n",
       "    .dataframe tbody tr th {\n",
       "        vertical-align: top;\n",
       "    }\n",
       "\n",
       "    .dataframe thead th {\n",
       "        text-align: right;\n",
       "    }\n",
       "</style>\n",
       "<table border=\"1\" class=\"dataframe\">\n",
       "  <thead>\n",
       "    <tr style=\"text-align: right;\">\n",
       "      <th></th>\n",
       "      <th>PC1</th>\n",
       "      <th>PC2</th>\n",
       "      <th>PC3</th>\n",
       "      <th>PC4</th>\n",
       "      <th>PC5</th>\n",
       "    </tr>\n",
       "  </thead>\n",
       "  <tbody>\n",
       "    <tr>\n",
       "      <th>0</th>\n",
       "      <td>-0.009649</td>\n",
       "      <td>1.870522</td>\n",
       "      <td>1.265145</td>\n",
       "      <td>-0.935481</td>\n",
       "      <td>1.109636</td>\n",
       "    </tr>\n",
       "    <tr>\n",
       "      <th>1</th>\n",
       "      <td>0.411434</td>\n",
       "      <td>-2.429422</td>\n",
       "      <td>-0.909193</td>\n",
       "      <td>-0.264212</td>\n",
       "      <td>1.232031</td>\n",
       "    </tr>\n",
       "    <tr>\n",
       "      <th>2</th>\n",
       "      <td>3.466822</td>\n",
       "      <td>0.825947</td>\n",
       "      <td>0.555469</td>\n",
       "      <td>-1.616726</td>\n",
       "      <td>-0.857488</td>\n",
       "    </tr>\n",
       "    <tr>\n",
       "      <th>...</th>\n",
       "      <td>...</td>\n",
       "      <td>...</td>\n",
       "      <td>...</td>\n",
       "      <td>...</td>\n",
       "      <td>...</td>\n",
       "    </tr>\n",
       "    <tr>\n",
       "      <th>260</th>\n",
       "      <td>-1.094609</td>\n",
       "      <td>-0.751386</td>\n",
       "      <td>-0.935937</td>\n",
       "      <td>1.072347</td>\n",
       "      <td>0.705912</td>\n",
       "    </tr>\n",
       "    <tr>\n",
       "      <th>261</th>\n",
       "      <td>1.977682</td>\n",
       "      <td>-2.184517</td>\n",
       "      <td>-0.282012</td>\n",
       "      <td>-0.216874</td>\n",
       "      <td>-0.694872</td>\n",
       "    </tr>\n",
       "    <tr>\n",
       "      <th>262</th>\n",
       "      <td>1.833002</td>\n",
       "      <td>-0.301097</td>\n",
       "      <td>-1.055323</td>\n",
       "      <td>0.492980</td>\n",
       "      <td>0.916396</td>\n",
       "    </tr>\n",
       "  </tbody>\n",
       "</table>\n",
       "<p>263 rows × 5 columns</p>\n",
       "</div>"
      ],
      "text/plain": [
       "          PC1       PC2       PC3       PC4       PC5\n",
       "0   -0.009649  1.870522  1.265145 -0.935481  1.109636\n",
       "1    0.411434 -2.429422 -0.909193 -0.264212  1.232031\n",
       "2    3.466822  0.825947  0.555469 -1.616726 -0.857488\n",
       "..        ...       ...       ...       ...       ...\n",
       "260 -1.094609 -0.751386 -0.935937  1.072347  0.705912\n",
       "261  1.977682 -2.184517 -0.282012 -0.216874 -0.694872\n",
       "262  1.833002 -0.301097 -1.055323  0.492980  0.916396\n",
       "\n",
       "[263 rows x 5 columns]"
      ]
     },
     "execution_count": 50,
     "metadata": {},
     "output_type": "execute_result"
    }
   ],
   "source": [
    "steps = [\n",
    "    ('scaler', StandardScaler()), \n",
    "    ('pca', PCA(n_components=pca_best))\n",
    "]\n",
    "pca = PCA(n_components=pca_best)                  # Create a PCA object and specify the number of components\n",
    "\n",
    "pipe = Pipeline(steps)\n",
    "z = pd.DataFrame(pipe.fit_transform(x),  # Derive the principal components using the PCA object\n",
    "                 columns=['PC{}'.format(i) for i in range(1,pca_best+1)])    # Convert the array to a data frame\n",
    "z"
   ]
  },
  {
   "cell_type": "code",
   "execution_count": 51,
   "metadata": {},
   "outputs": [
    {
     "data": {
      "image/png": "[encoded data removed]",
      "text/plain": [
       "<Figure size 900x900 with 30 Axes>"
      ]
     },
     "metadata": {
      "needs_background": "light"
     },
     "output_type": "display_data"
    }
   ],
   "source": [
    "pplt = sns.pairplot(z)                # Pair plots of all quantitative variables"
   ]
  },
  {
   "cell_type": "code",
   "execution_count": null,
   "metadata": {},
   "outputs": [],
   "source": []
  }
 ],
 "metadata": {
  "kernelspec": {
   "display_name": "Python 3",
   "language": "python",
   "name": "python3"
  },
  "language_info": {
   "codemirror_mode": {
    "name": "ipython",
    "version": 3
   },
   "file_extension": ".py",
   "mimetype": "text/x-python",
   "name": "python",
   "nbconvert_exporter": "python",
   "pygments_lexer": "ipython3",
   "version": "3.8.5"
  }
 },
 "nbformat": 4,
 "nbformat_minor": 4
}
