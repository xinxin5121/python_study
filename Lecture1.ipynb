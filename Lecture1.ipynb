{
 "cells": [
  {
   "cell_type": "markdown",
   "metadata": {},
   "source": [
    "# Lecture 1: Basics of Jupyter Notebook and Python\n",
    "\n",
    "## Contents\n",
    "- [Jupyter Notebook](#section1)\n",
    "    - [Modal user interface](#subsection1.1)\n",
    "    - [Try Jupyter Notebook as a scientific calculator](#subsection1.2)\n",
    "- [Python objects and variables](#section2)\n",
    "    - [Everything is an object](#subsection2.1)\n",
    "    - [Variables and assignment statement](#subsection2.2)\n",
    "    - [Data type conversions](#subsection2.3)\n",
    "- [Python control flow](#section3)\n",
    "    - [The boolean type expressions ](#subsection3.1)\n",
    "    - [Conditional statements](#subsection3.2)"
   ]
  },
  {
   "cell_type": "markdown",
   "metadata": {},
   "source": [
    " "
   ]
  },
  {
   "cell_type": "markdown",
   "metadata": {},
   "source": [
    "## Jupyter Notebook <a id='section1'></a>\n",
    "The Jupyter Notebook is an open-source web application that allows you to create and share documents that contain live code, equations, visualizations and narrative text. Uses include: data cleaning and transformation, numerical simulation, statistical modeling, data visualization, machine learning, and much more.\n",
    "\n",
    "### Modal user interface <a id='subsection1.1'></a>\n",
    "The Jupyter Notebook has a modal user interface. This means that the keyboard does different things depending on which mode the Notebook is in. There are two modes: **edit mode** and **command mode**.\n",
    "\n",
    "#### Edit mode\n",
    "Edit mode is indicated by a green cell border and a prompt showing in the editor area:\n",
    "<img src=\"https://github.com/XiongPengNUS/dao_resources/blob/main/edit_mode.jpg?raw=true\" width=750>\n",
    "- Edit the content of a cell\n",
    "- Press <code>enter</code> (<code>return</code> for Mac OS) to enable edit mode, and <code>esc</code> to quit editing\n",
    "\n",
    "#### Command mode\n",
    "Command mode is indicated by a grey cell border with a blue left margin:\n",
    "<img src=\"https://github.com/XiongPengNUS/dao_resources/blob/main/command_mode.jpg?raw=true\" width=762>\n",
    "- Notebook level actions: insert/remove cells, and change cell types, etc.\n",
    "- Keyboard shortcuts\n",
    "    - <code>A</code>: insert a cell above\n",
    "    - <code>B</code>: insert a cell below\n",
    "    - <code>D</code>, <code>D</code>: delete a cell\n",
    "    - <code>M</code>: change to markdown mode\n",
    "    - <code>Y</code>: change to code mode\n",
    "\n",
    "#### Other keyboard shortcuts\n",
    "- <code>ctrl</code> + <code>enter</code> (<code>control</code> + <code>enter</code> for Mac OS): run cells\n",
    "- <code>shift</code> + <code>enter</code> (<code>shift</code> + <code>return</code> for Mac OS): run cells, and select (insert) the cell below \n",
    "\n",
    "Once a code cell is executed, there will be a number appearing in the square bracket in front of the cell, indicating the sequence of executing cells.\n",
    "\n",
    "\n",
    "###  Try Jupyter Notebook as a scientific calculator <a id='subsection1.2'></a>\n",
    "\n",
    "#### Operators and operands\n",
    "In many programming languages, **operators** are special symbols that represent computations like addition and multiplication. The values the operator is applied to are called **operands**. The commonly used math operators of Python are presented in the table below. \n",
    "\n",
    "Operator | Description | Example | Result\n",
    ":--------|:------------|:--------|:------\n",
    "<code>+</code> | addition | <code>5 + 8</code> | 13\n",
    "<code>-</code> | subtraction | <code>9 - 2</code> | 7\n",
    "<code>*</code> | multiplication | <code>4 * 7</code> | 28\n",
    "<code>/</code> | float point division | <code>7 / 2</code> | 3.5\n",
    "<code>//</code> | integer (truncating) division | <code>7 / 2</code> | 3\n",
    "<code>%</code> | modulus (remainder) | <code>7 % 2</code> | 1\n",
    "<code>**</code> | exponentiation | <code>3 ** 4</code> | 81\n",
    "\n",
    "It can be seen that many of the operators are consistent with a scientific calculator, which enables us to do some simple calculations as follows."
   ]
  },
  {
   "cell_type": "code",
   "execution_count": 1,
   "metadata": {},
   "outputs": [
    {
     "data": {
      "text/plain": [
       "2.5"
      ]
     },
     "execution_count": 1,
     "metadata": {},
     "output_type": "execute_result"
    }
   ],
   "source": [
    "3 / 1.2"
   ]
  },
  {
   "cell_type": "code",
   "execution_count": 2,
   "metadata": {
    "scrolled": true
   },
   "outputs": [
    {
     "data": {
      "text/plain": [
       "22.0"
      ]
     },
     "execution_count": 2,
     "metadata": {},
     "output_type": "execute_result"
    }
   ],
   "source": [
    "(2+3.5) * 6 / (1.75-0.25)"
   ]
  },
  {
   "cell_type": "markdown",
   "metadata": {},
   "source": [
    "There are a few special operators, like <code>//</code> takes the integer division of two numbers, where the fraction part of the result is truncated. "
   ]
  },
  {
   "cell_type": "code",
   "execution_count": 3,
   "metadata": {},
   "outputs": [
    {
     "data": {
      "text/plain": [
       "3"
      ]
     },
     "execution_count": 3,
     "metadata": {},
     "output_type": "execute_result"
    }
   ],
   "source": [
    "11 // 3"
   ]
  },
  {
   "cell_type": "markdown",
   "metadata": {},
   "source": [
    "The operator <code>%</code> takes the remainder of a division expression."
   ]
  },
  {
   "cell_type": "code",
   "execution_count": 4,
   "metadata": {},
   "outputs": [
    {
     "data": {
      "text/plain": [
       "3"
      ]
     },
     "execution_count": 4,
     "metadata": {},
     "output_type": "execute_result"
    }
   ],
   "source": [
    "(2 + 3*5) % 7"
   ]
  },
  {
   "cell_type": "markdown",
   "metadata": {},
   "source": [
    "The operator <code>**</code> calculates the exponentiation."
   ]
  },
  {
   "cell_type": "code",
   "execution_count": 5,
   "metadata": {
    "scrolled": false
   },
   "outputs": [
    {
     "data": {
      "text/plain": [
       "8"
      ]
     },
     "execution_count": 5,
     "metadata": {},
     "output_type": "execute_result"
    }
   ],
   "source": [
    "2 ** 3"
   ]
  },
  {
   "cell_type": "code",
   "execution_count": 6,
   "metadata": {},
   "outputs": [
    {
     "data": {
      "text/plain": [
       "2.0"
      ]
     },
     "execution_count": 6,
     "metadata": {},
     "output_type": "execute_result"
    }
   ],
   "source": [
    "4 ** 0.5"
   ]
  },
  {
   "cell_type": "markdown",
   "metadata": {},
   "source": [
    "#### Comments and displaying results \n",
    "\n",
    "A **comment** is a piece of text in your program that is ignored by the Python interpreter. You might use comments to clarify nearby Python code, make notes to yourself (or others) to fix something in the future, or for whatever purposes you like. You mark a comment by using the <code>#</code> character; everything from that point on to the end of the current line is part of the comment. Please check the following example."
   ]
  },
  {
   "cell_type": "code",
   "execution_count": 7,
   "metadata": {
    "scrolled": true
   },
   "outputs": [
    {
     "data": {
      "text/plain": [
       "7.0"
      ]
     },
     "execution_count": 7,
     "metadata": {},
     "output_type": "execute_result"
    }
   ],
   "source": [
    "3.5 * 2     # Everthing follows the # character is the comment\n",
    "            # 2 + 3 + 6 \n",
    "            # The expression above is a part of the comment, ignored by Python"
   ]
  },
  {
   "cell_type": "markdown",
   "metadata": {},
   "source": [
    "In cases for multi-line comments, it will be more convenient to use a text body surrounded by three single or three double quotation marks. Any quotes, tabs, symbols, numbers, or newlines in between the \"triple quotes\" are considered part of the text body."
   ]
  },
  {
   "cell_type": "code",
   "execution_count": 8,
   "metadata": {},
   "outputs": [
    {
     "data": {
      "text/plain": [
       "12"
      ]
     },
     "execution_count": 8,
     "metadata": {},
     "output_type": "execute_result"
    }
   ],
   "source": [
    "\"\"\"\n",
    "When you’re fundraising, it’s AI.\n",
    "\n",
    "When you’re hiring, it’s ML.\n",
    "\n",
    "When you’re implementing, it’s linear regression.\n",
    "\n",
    "When you’re debugging, it’s printf().\n",
    "\n",
    "                                - Baron Schwartz\n",
    "\"\"\"\n",
    "\n",
    "(2 + 5*7) // 3"
   ]
  },
  {
   "cell_type": "markdown",
   "metadata": {},
   "source": [
    "In this module, please pay attention to comments in the code cell, because we will frequently use them to explain the meanings and mechanics of the given code. \n",
    "\n",
    "From previous examples above, you may notice that results of the Python code are given as the <code>Out</code> of each code cell. Please note that only the last line of the code cell is displayed as the <code>Out</code>. Values or intermediate results of the other lines are not displayed. If you want to display values of expressions other than the last line, you can always use the function <code>print()</code> to print the given value. "
   ]
  },
  {
   "cell_type": "code",
   "execution_count": 9,
   "metadata": {},
   "outputs": [
    {
     "name": "stdout",
     "output_type": "stream",
     "text": [
      "8\n"
     ]
    },
    {
     "data": {
      "text/plain": [
       "6"
      ]
     },
     "execution_count": 9,
     "metadata": {},
     "output_type": "execute_result"
    }
   ],
   "source": [
    "2 + 3\n",
    "print(1 + 7)\n",
    "1.5\n",
    "1 + 2 + 3"
   ]
  },
  {
   "cell_type": "markdown",
   "metadata": {},
   "source": [
    "<div class=\"alert alert-block alert-success\">\n",
    "<b>Example 1:</b>  \n",
    "A grocery store had 500 packs of cookies in storage. Among the total storage, 5% were dumped due to expiration, and another 230 packs were sold this month. Calculate how many packs of cookies left in the grocery store.\n",
    "</div>\n"
   ]
  },
  {
   "cell_type": "code",
   "execution_count": 10,
   "metadata": {},
   "outputs": [
    {
     "data": {
      "text/plain": [
       "245.0"
      ]
     },
     "execution_count": 10,
     "metadata": {},
     "output_type": "execute_result"
    }
   ],
   "source": [
    "500*(1-0.05) - 230"
   ]
  },
  {
   "cell_type": "markdown",
   "metadata": {},
   "source": [
    "   "
   ]
  },
  {
   "cell_type": "markdown",
   "metadata": {},
   "source": [
    "## Python objects and variables <a id='section2'></a>\n",
    "\n",
    "### Everything is an object <a id='subsection2.1'></a>\n",
    "\n",
    "In Python, everything—booleans, integers, floats, strings, even large data structures, functions, and programs—is implemented as an **object**. Every object has an **identity**, a **type** and a **value**. An object’s identity never changes once it has been created; you may think of it as the object's address in memory. The identity can be retrieved by the function <code>id()</code>."
   ]
  },
  {
   "cell_type": "code",
   "execution_count": 11,
   "metadata": {},
   "outputs": [
    {
     "name": "stdout",
     "output_type": "stream",
     "text": [
      "4344837328\n",
      "4344837712\n",
      "140494241129568\n"
     ]
    }
   ],
   "source": [
    "print(id(3))        # identity of the object 3\n",
    "print(id(3 + 2*6))  # identity of the object 3 + 2*6\n",
    "print(id(print))    # identify of the object print"
   ]
  },
  {
   "cell_type": "markdown",
   "metadata": {},
   "source": [
    "An object's type determines the operations that the object supports and also defines the possible values for objects of that type. Like its identity, an object's type is also unchangeable, and can be retrieved by the <code>type()</code> function. In Python, we have a few numeric types, like <code>int</code>, for signed integers, and <code>float</code>, for floating point numbers. "
   ]
  },
  {
   "cell_type": "code",
   "execution_count": 12,
   "metadata": {},
   "outputs": [
    {
     "name": "stdout",
     "output_type": "stream",
     "text": [
      "<class 'int'>\n",
      "<class 'float'>\n"
     ]
    }
   ],
   "source": [
    "print(type(5))          # 5 is an int type object\n",
    "print(type(2.3))        # 2.3 is a float type object"
   ]
  },
  {
   "cell_type": "markdown",
   "metadata": {},
   "source": [
    "Another data type we want to introduce here is <code>str</code>, representing a string of characters. A <code>str</code> type object can be created by a sequence of characters surrounded by either single or double quotation marks. "
   ]
  },
  {
   "cell_type": "code",
   "execution_count": 13,
   "metadata": {},
   "outputs": [
    {
     "name": "stdout",
     "output_type": "stream",
     "text": [
      "<class 'str'>\n",
      "<class 'str'>\n",
      "<class 'str'>\n"
     ]
    }
   ],
   "source": [
    "print(type('Hello '))   # 'Hello ' is a string\n",
    "print(type(\"World\"))    # \"World\" is a string\n",
    "print(type(\"5000\"))     # \"5000\" is a string"
   ]
  },
  {
   "cell_type": "markdown",
   "metadata": {},
   "source": [
    "Different data types support different operations, even for the same operators, as demonstrated by the following example."
   ]
  },
  {
   "cell_type": "code",
   "execution_count": 14,
   "metadata": {},
   "outputs": [
    {
     "name": "stdout",
     "output_type": "stream",
     "text": [
      "7.3\n",
      "Hello World\n"
     ]
    }
   ],
   "source": [
    "print(2.3 + 5)              # Numerical addition via \"+\"\n",
    "print('Hello ' + 'World')   # Combining strings via \"+\""
   ]
  },
  {
   "cell_type": "code",
   "execution_count": 15,
   "metadata": {},
   "outputs": [
    {
     "name": "stdout",
     "output_type": "stream",
     "text": [
      "11.5\n",
      "Hello Hello Hello Hello Hello \n"
     ]
    }
   ],
   "source": [
    "print(2.3 * 5)              # Numerical multiplication via \"*\"\n",
    "print('Hello ' * 5)         # Repeat the string via \"*\""
   ]
  },
  {
   "cell_type": "code",
   "execution_count": 16,
   "metadata": {},
   "outputs": [
    {
     "name": "stdout",
     "output_type": "stream",
     "text": [
      "I will not throw paper airplaines in class.\n",
      "I will not throw paper airplaines in class.\n",
      "I will not throw paper airplaines in class.\n",
      "I will not throw paper airplaines in class.\n",
      "I will not throw paper airplaines in class.\n",
      "I will not throw paper airplaines in class.\n",
      "I will not throw paper airplaines in class.\n",
      "I will not throw paper airplaines in class.\n",
      "I will not throw paper airplaines in class.\n",
      "I will not throw paper airplaines in class.\n",
      "\n"
     ]
    }
   ],
   "source": [
    "print('I will not throw paper airplaines in class.\\n' * 10)"
   ]
  },
  {
   "cell_type": "markdown",
   "metadata": {},
   "source": [
    "It can be seen that the behaviors of operators <code>+</code> and <code>*</code> are determined by the data types of operands. For <code>str</code> type operands, the operator <code>+</code> is used to concatenate string segments, and the operator <code>*</code> is used to repeat the content of a string by a given <code>int</code> number of times. In cases that the operations are not supported by the types of operands, the program is terminated by an error message. \n",
    "\n",
    "### Variables and assignment statement <a id='subsection2.2'></a>\n",
    "\n",
    "Python and many other programming languages allow you to define variables. These are names that refer to objects in the computer's memory that you can define for use with your program. A variable can be created by an **assignment statement**, which associate the variable name with an object. An assignment statement can be broken into the following components:\n",
    "- Assignment operator <code>=</code>. \n",
    "- Variable(s): name(s) on the left.\n",
    "- Object(s): expression(s) on the right.\n",
    "\n",
    "Once a variable is created, the associated object can be accessed via the variable in the subsequent code.\n",
    "\n",
    "<div class=\"alert alert-block alert-success\">\n",
    "<b>Example 1:</b>  \n",
    "A grocery store had 500 packs of cookies in storage. Among the total storage, 5% were dumped due to expiration, and another 230 packs were sold this month. Calculate how many packs of cookies left in the grocery store.\n",
    "</div>"
   ]
  },
  {
   "cell_type": "code",
   "execution_count": 17,
   "metadata": {},
   "outputs": [
    {
     "data": {
      "text/plain": [
       "245.0"
      ]
     },
     "execution_count": 17,
     "metadata": {},
     "output_type": "execute_result"
    }
   ],
   "source": [
    "storage = 500\n",
    "dump_rate = 0.05\n",
    "sold = 230\n",
    "\n",
    "storage = storage*(1-dump_rate)     # Number of packs after dumping 5%\n",
    "storage = storage - sold            # Number of packs after selling 230 packs\n",
    "\n",
    "storage"
   ]
  },
  {
   "cell_type": "markdown",
   "metadata": {},
   "source": [
    "In this example, we are using variable names <code>storage</code>, <code>dump_rate</code>, and <code>sold</code> for better readability. In fact, you may use any variable names as long as they follow the syntax rules below.\n",
    "<div class=\"alert alert-block alert-danger\">\n",
    "<b>Notes: syntax for variable names:</b> \n",
    "<li>Only one word</li>\n",
    "<li>Only consist of letters, numbers, and underscores</li>\n",
    "<li>Cannot begin with a number</li>\n",
    "<li>Avoid contradictions with Python <a href=\"https://www.programiz.com/python-programming/keyword-list\"><b>keywords</b></a>\n",
    "</div>\n",
    "\n",
    "Do not worry too much about memorizing all keywords. In Jupyter and other programming environment, the keywords are highlighted by a different color, to prevent users from naming their variables and functions after the keywords. \n",
    "\n",
    "<div class=\"alert alert-block alert-danger\">\n",
    "<b>Notes: </b> \n",
    "Variables are just names. Assignment does not copy or create a value; it just attaches a name to the object that contains the data. The name is a reference to a thing rather than the thing itself.\n",
    "</div>\n",
    "\n",
    "<div class=\"alert alert-block alert-warning\">\n",
    "<b>Coding Style: </b>   \n",
    "<a href=\"https://www.python.org/dev/peps/pep-0008/#function-and-variable-names\">PEP 8 Style Guide:</a> \n",
    "<li>Variable names</li>\n",
    "<li>Whitespace in expressions and statements</li>\n",
    "<li>Empty lines used for better readability</li>\n",
    "</div>\n",
    "\n",
    "Besides the assignment operator <code>=</code>, some other operators can also be used in assignment statement.\n",
    "\n",
    "Operators | Examples | Remarks\n",
    ":---------|:--------|:---------\n",
    "<code>+=</code> | <code>x += y</code> | Equivalent to <code> x = x + y</code>\n",
    "<code>-=</code> | <code>x -= y</code> | Equivalent to <code> x = x - y</code>\n",
    "<code>*=</code> | <code>x *= y</code> | Equivalent to <code> x = x * y</code>\n",
    "<code>/=</code> | <code>x /= y</code> | Equivalent to <code> x = x / y</code>\n",
    "<code>//=</code> | <code>x //= y</code> | Equivalent to <code> x = x // y</code>\n",
    "<code>%=</code> | <code>x %= y</code> | Equivalent to <code> x = x % y</code>\n",
    "<code>**=</code> | <code>x **= y</code> | Equivalent to <code> x = x ** y</code>\n",
    "\n",
    "As a result, the code for **Example 1** can be rewritten as follows."
   ]
  },
  {
   "cell_type": "code",
   "execution_count": 18,
   "metadata": {
    "scrolled": true
   },
   "outputs": [
    {
     "data": {
      "text/plain": [
       "245.0"
      ]
     },
     "execution_count": 18,
     "metadata": {},
     "output_type": "execute_result"
    }
   ],
   "source": [
    "storage = 500\n",
    "dump_rate = 0.05\n",
    "sold = 230\n",
    "\n",
    "storage *= 1-dump_rate      # Number of packs after dumping 5%\n",
    "storage -= sold             # Number of packs after selling 230 packs\n",
    "\n",
    "storage"
   ]
  },
  {
   "cell_type": "markdown",
   "metadata": {},
   "source": [
    "Python objects stored in your computer can be viewed as animals living in a pet hotel, where:\n",
    "- Memory of your computer: a pet hotel with many rooms.\n",
    "- Object: a pet living in a hotel room.\n",
    "- Identity (cannot change once created): the room number of the hotel.\n",
    "- Type (cannot change once created): the pet species, like dogs, cats, birds, etc. The type of the animals determine their behaviors: \"woof woof\" or \"meow meow\". \n",
    "- Variables: Names for these pets, like \"Tom\" and \"Pluto\". A Name can be detached from one pet and attached to another.\n",
    "\n",
    "<img src=\"https://github.com/XiongPengNUS/test/blob/master/Screen%20Shot%202020-07-03%20at%2012.33.52%20PM.png?raw=true\" width=400>\n",
    "\n",
    "Think about the following questions and use Python code to verify your answers:\n",
    "1. Is it possible to have two or more names given to the same object?\n",
    "2. Is it possible to have two or more objects assigned to the same name?\n",
    "3. How to determine the data type of a variable? Can we change the data type of a variable?"
   ]
  },
  {
   "cell_type": "code",
   "execution_count": null,
   "metadata": {},
   "outputs": [],
   "source": []
  },
  {
   "cell_type": "markdown",
   "metadata": {},
   "source": [
    "### Data type conversions <a id='subsection2.3'></a>\n",
    "\n",
    "Examples above show that some functions or operators, such as <code>+</code> and <code>*</code>, may perform differently as they are applied to operands with different data types. There are times we need to convert data between types in order to manipulate them in the desired way. In Python, data type conversions can be conducted by using the type name as the conversion function. For example, the function <code>int()</code> converts an object into an <code>int</code> type object, and <code>float()</code> converts an object into <code>float</code> type.  \n",
    "\n",
    "<div class=\"alert alert-block alert-success\">\n",
    "<b>Example 2:</b>  \n",
    "Print a message \"Your input is: \", followed by the input number multiplied by ten. \n",
    "</div>\n",
    "\n",
    "In this example, we can use the function <code>input()</code> to generate a prompt that allows users to give an input. Then a <code>str</code> type object is created according to users' inputs. "
   ]
  },
  {
   "cell_type": "code",
   "execution_count": 3,
   "metadata": {
    "scrolled": true
   },
   "outputs": [
    {
     "name": "stdout",
     "output_type": "stream",
     "text": [
      "Type something: 3\n",
      "Your input is: 3333333333\n"
     ]
    }
   ],
   "source": [
    "input_str = input('Type something: ')\n",
    "\n",
    "print('Your input is: ' + input_str*10)"
   ]
  },
  {
   "cell_type": "markdown",
   "metadata": {},
   "source": [
    "The code above is incorrect because the output of the <code>input()</code> function is always a <code>str</code> type object, regardless of the content of users' inputs. The expression <code>input_str*10</code> is thus the string <code>input_str</code> repeated ten times. \n",
    "\n",
    "In order to perform numerical multiplication, the <code>str</code> type object should be converted into a <code>float</code> type first, as shown by the code cell below."
   ]
  },
  {
   "cell_type": "code",
   "execution_count": 20,
   "metadata": {
    "scrolled": true
   },
   "outputs": [
    {
     "name": "stdout",
     "output_type": "stream",
     "text": [
      "Type something: 3\n",
      "Your input is: 30.0\n"
     ]
    }
   ],
   "source": [
    "input_str = input('Type something: ')\n",
    "\n",
    "print('Your input is: ' + str(float(input_str)*10))"
   ]
  },
  {
   "cell_type": "markdown",
   "metadata": {},
   "source": [
    " "
   ]
  },
  {
   "cell_type": "markdown",
   "metadata": {},
   "source": [
    "## Python control flow <a id='section3'></a>\n",
    "The control flow of a program is the order in which the code executes. Like the other program languages, the control flow of a Python program is commonly regulated by conditional statements and loops. With control flow, you can execute certain code blocks conditionally and/or repeatedly: these basic building blocks can be combined to create surprisingly sophisticated programs!\n",
    "\n",
    "### The boolean type expressions <a id='subsection3.1'></a>\n",
    "Python provides the boolean type expressions that can be either set to <code>False</code> or <code>True</code>. Many functions and operations returns boolean objects.\n",
    "\n",
    "#### Comparison operators\n",
    "The comparison operators are used to compare two values, and a boolean value is returned. \n",
    "\n",
    "Operator |   Name  |  Example\n",
    ":--------|:--------|:---------\n",
    "<code>==</code> | Equal | x == y\n",
    "<code>!=</code> | Not equal | x != y\n",
    "<code>>=</code> | Greater than or equal to | x >= y\n",
    "<code><=</code> | Smaller than or equal to | x <= y\n",
    "<code>></code> | Greater than | x > y\n",
    "<code><</code> | Smaller than | x < y\n",
    "\n",
    "A few examples are given below."
   ]
  },
  {
   "cell_type": "code",
   "execution_count": 21,
   "metadata": {},
   "outputs": [
    {
     "name": "stdout",
     "output_type": "stream",
     "text": [
      "True\n",
      "False\n",
      "True\n",
      "False\n"
     ]
    }
   ],
   "source": [
    "print(2 <= 3)      # 2 <= 3 is true\n",
    "print(3.5 > 4)     # 3.5 > 4 is false\n",
    "print(2 == 2.0)    # 2 == 2.0 is true\n",
    "print(2 != 2.0)    # 2 != 2.0 is false"
   ]
  },
  {
   "cell_type": "markdown",
   "metadata": {},
   "source": [
    "#### Identity operators\n",
    "Identity operators <code>is</code> and <code>is not</code> are used to compare the objects, not if they are equal, but if they are actually the same object. \n",
    "\n",
    "Operator |   Name  |  Example\n",
    ":--------|:--------|:---------\n",
    "<code>is</code> | Returns True if both <br> variables are the <br> same object | x is y\n",
    "<code>is not</code> | Returns True if two <br> variables are not the <br> same object | x is not y"
   ]
  },
  {
   "cell_type": "code",
   "execution_count": 22,
   "metadata": {
    "scrolled": true
   },
   "outputs": [
    {
     "name": "stdout",
     "output_type": "stream",
     "text": [
      "True\n",
      "False\n"
     ]
    }
   ],
   "source": [
    "x = 0\n",
    "y = 0.0\n",
    "\n",
    "print(x == y)   # True because 0 and 0.0 have equal values\n",
    "print(x is y)   # False because they are not the same object"
   ]
  },
  {
   "cell_type": "markdown",
   "metadata": {},
   "source": [
    "The statement <code>x == y</code> gives <code>True</code> because the two variables have exactly the same values. However, they are different objects, which can be verified by their identities."
   ]
  },
  {
   "cell_type": "code",
   "execution_count": 23,
   "metadata": {},
   "outputs": [
    {
     "name": "stdout",
     "output_type": "stream",
     "text": [
      "4344837232\n",
      "140494326459184\n"
     ]
    }
   ],
   "source": [
    "print(id(x))\n",
    "print(id(y))"
   ]
  },
  {
   "cell_type": "markdown",
   "metadata": {},
   "source": [
    "Notice that in the example above, the first statement is <code>True</code> because these two numbers have the same value. The second statement is <code>False</code> because they have different data type, thus not the same object. \n",
    "\n",
    "#### Membership operators\n",
    "Membership operators are used to test if a sequence is presented in an object.\n",
    "\n",
    "Operator |   Name  |  Example\n",
    ":--------|:--------|:---------\n",
    "<code>in</code> | Returns True if it finds a variable <br> in the specified sequence and <br> false otherwise | x in y\n",
    "<code>not in</code> | Returns True if it does not finds a <br> variable in the specified sequence <br> and false otherwise | x not in y\n",
    "\n",
    "For example, the membership operators can be used in searching a given word in a sentence."
   ]
  },
  {
   "cell_type": "code",
   "execution_count": 24,
   "metadata": {},
   "outputs": [
    {
     "name": "stdout",
     "output_type": "stream",
     "text": [
      "True\n",
      "False\n",
      "True\n"
     ]
    }
   ],
   "source": [
    "sentence = \"All work and no play makes Jack a dull boy.\"\n",
    "\n",
    "print('work' in sentence)      # True as \"work\" is in the sentence, True\n",
    "print('Work' in sentence)      # False as \"Work\" is not in the sentence\n",
    "print('John' not in sentence)  # True as \"John\" is not in the sentence"
   ]
  },
  {
   "cell_type": "markdown",
   "metadata": {},
   "source": [
    "#### Logical operators\n",
    "\n",
    "Logical operators are used to combine conditional statements.\n",
    "\n",
    "Operator |   Name  |  Example\n",
    ":--------|:--------|:---------\n",
    "<code>and</code> | Returns True if both <br> statements are true | x >= 1 and x <= 2\n",
    "<code>or</code> | Returns True if either <br> one statements is true | x >= 1 or x <= 2\n",
    "<code> not </code> | Reverse the result, returns <br> False if the result is true | not x == 0\n",
    "\n",
    "Please check the following example, you are encourage to change the values of boolean type variables, and explore the results."
   ]
  },
  {
   "cell_type": "code",
   "execution_count": 25,
   "metadata": {},
   "outputs": [
    {
     "name": "stdout",
     "output_type": "stream",
     "text": [
      "False\n",
      "True\n"
     ]
    }
   ],
   "source": [
    "is_monday = True\n",
    "is_public_holiday = False\n",
    "is_weekends = False\n",
    "\n",
    "no_school = is_public_holiday or is_weekends\n",
    "stressful_day = is_monday and not is_public_holiday\n",
    "\n",
    "print(no_school)\n",
    "print(stressful_day)"
   ]
  },
  {
   "cell_type": "markdown",
   "metadata": {},
   "source": [
    "More illustrative examples are provided below.\n",
    "\n",
    "<img src=\"https://pbs.twimg.com/media/B06VG_xIYAAdDL3.jpg\" width=500>"
   ]
  },
  {
   "cell_type": "code",
   "execution_count": 26,
   "metadata": {
    "scrolled": true
   },
   "outputs": [
    {
     "name": "stdout",
     "output_type": "stream",
     "text": [
      "False\n",
      "True\n"
     ]
    }
   ],
   "source": [
    "\"\"\"Check the picture above.\"\"\"\n",
    "\n",
    "a_beard = False          # A has no beard (False)\n",
    "b_beard = True           # B has a beard (True)\n",
    "\n",
    "a_and_b_beard = a_beard and b_beard\n",
    "a_or_b_beard = a_beard or b_beard\n",
    "\n",
    "print(a_and_b_beard)     # \"A and B\" has no beard, so False \n",
    "print(a_or_b_beard)      # \"A or B\" has a beard, so True"
   ]
  },
  {
   "cell_type": "code",
   "execution_count": 27,
   "metadata": {},
   "outputs": [
    {
     "data": {
      "text/plain": [
       "True"
      ]
     },
     "execution_count": 27,
     "metadata": {},
     "output_type": "execute_result"
    }
   ],
   "source": [
    "to_be = True             # No matter to_be is true or false\n",
    "to_be or not to_be       # This statement is always true, why?"
   ]
  },
  {
   "cell_type": "markdown",
   "metadata": {},
   "source": [
    "### Conditional statements <a id='subsection3.2'></a>\n",
    "\n",
    "Python's <code>if-elif-else</code> syntax makes it possible to take actions if a boolean expression is True and different actions if otherwise. \n",
    "\n",
    "<div class=\"alert alert-block alert-success\">\n",
    "<b>Example 3:</b>  \n",
    "The price of ticket for admission to Singapore Zoo is $\\$35$ for adults, and $\\$16$ for senior citizens, who are 60 years old or above. The ticket price for children, who aged 3 to 12 years old, is $\\$23$, and children under 3 years old can enjoy a free admission to the zoo. Given a visitor's age, write a program to determine the ticket price.\n",
    "</div>\n",
    "\n",
    "According to the requirements, we can calculate the ticket price in a natural way as follows."
   ]
  },
  {
   "cell_type": "code",
   "execution_count": 28,
   "metadata": {},
   "outputs": [
    {
     "name": "stdout",
     "output_type": "stream",
     "text": [
      "The ticket price is: $23\n"
     ]
    }
   ],
   "source": [
    "age = 8\n",
    "\n",
    "if age < 3:\n",
    "    ticket_price = 0\n",
    "\n",
    "if age >= 3 and age <= 12:\n",
    "    ticket_price = 23\n",
    "\n",
    "if age > 12 and age < 60:\n",
    "    ticket_price = 35\n",
    "    \n",
    "if age >= 60:\n",
    "    ticket_price = 15\n",
    "    \n",
    "print('The ticket price is: $' + str(ticket_price))"
   ]
  },
  {
   "cell_type": "markdown",
   "metadata": {},
   "source": [
    "The program can be further simplified by using the <code>if-elif-else</code> syntax. "
   ]
  },
  {
   "cell_type": "code",
   "execution_count": 29,
   "metadata": {},
   "outputs": [
    {
     "name": "stdout",
     "output_type": "stream",
     "text": [
      "The ticket price is: $35\n"
     ]
    }
   ],
   "source": [
    "age = 20\n",
    "\n",
    "if age < 3:\n",
    "    ticket_price = 0\n",
    "elif age <= 12:\n",
    "    ticket_price = 23\n",
    "elif age < 60:\n",
    "    ticket_price = 35\n",
    "else:\n",
    "    ticket_price = 16\n",
    "\n",
    "print('The ticket price is: $' + str(ticket_price))"
   ]
  },
  {
   "cell_type": "markdown",
   "metadata": {},
   "source": [
    "<div class=\"alert alert-block alert-danger\">\n",
    "<b>Notes:</b>  \n",
    "    In Python, the body of the <b>if-elif-else</b> statement is indicated by the indentation (a tab or four spaces). The body starts with an indentation and the first unindented line marks the end.\n",
    "</div>\n",
    "\n",
    "<div class=\"alert alert-block alert-success\">\n",
    "<b>Example 4 - A simple newsvendor case:</b>  \n",
    "A newsboy ordered 550 newspapers to sell today. Each piece of newspaper costs 10 cents and can be sold at a price of 60 cents. Write a program to calculate the total profit, given the demand quantity to be 300 and the order quantity to be 550.\n",
    "</div>"
   ]
  },
  {
   "cell_type": "code",
   "execution_count": 30,
   "metadata": {},
   "outputs": [
    {
     "name": "stdout",
     "output_type": "stream",
     "text": [
      "Newspapers sold: 300\n",
      "Total profit: 125.0\n"
     ]
    }
   ],
   "source": [
    "cost = 0.1\n",
    "price = 0.6\n",
    "\n",
    "order = 550\n",
    "demand = 300\n",
    "\n",
    "\"\"\"Classic if-else syntax\"\"\"\n",
    "if demand < order:\n",
    "    sold = demand\n",
    "else:\n",
    "    sold = order\n",
    "\n",
    "profit = price*sold - cost*order\n",
    "\n",
    "print(\"Newspapers sold: \" + str(sold))\n",
    "print(\"Total profit: \" + str(profit))"
   ]
  },
  {
   "cell_type": "markdown",
   "metadata": {},
   "source": [
    "It can be seen that the value of the variable <code>sold</code> is determined by a conditional statement. The program above is equivalent to the code below, which is considered more \"Pythonic\". "
   ]
  },
  {
   "cell_type": "code",
   "execution_count": 31,
   "metadata": {},
   "outputs": [
    {
     "name": "stdout",
     "output_type": "stream",
     "text": [
      "Newspapers sold: 300\n",
      "Total profit: 125.0\n"
     ]
    }
   ],
   "source": [
    "cost = 0.1\n",
    "price = 0.6\n",
    "\n",
    "order = 550\n",
    "demand = 300\n",
    "\n",
    "\"\"\"More Pythonic if-else assignments\"\"\"\n",
    "sold = demand if demand < order else order \n",
    "\n",
    "profit = price*sold - cost*order\n",
    "\n",
    "print(\"Newspapers sold: \" + str(sold))\n",
    "print(\"Total profit: \" + str(profit))"
   ]
  },
  {
   "cell_type": "markdown",
   "metadata": {},
   "source": [
    "The <code>if-elif-else</code> could be implemented in a nested manner for more complicated branching logic flow, as demonstrated by the following example.\n",
    "\n",
    "<div class=\"alert alert-block alert-success\">\n",
    "<b>Example 5 - A simple newsvendor case:</b>  \n",
    "A newsboy ordered 550 newspapers to sell today. Each piece of newspaper costs 10 cents and can be sold at a price of 60 cents. Every day, up to 120 pieces of newspaper can be recycled at a price of 5 cents. Write a program to calculate the total profit, given the demand quantity to be 300 and the order quantity to be 450. \n",
    "</div>"
   ]
  },
  {
   "cell_type": "code",
   "execution_count": 32,
   "metadata": {},
   "outputs": [
    {
     "name": "stdout",
     "output_type": "stream",
     "text": [
      "Newspapers sold: 300\n",
      "Newspapers recycled: 120\n",
      "Total profit: 141.0\n"
     ]
    }
   ],
   "source": [
    "cost = 0.1\n",
    "price = 0.6\n",
    "rec_price = 0.05\n",
    "\n",
    "order = 450\n",
    "demand = 300\n",
    "\n",
    "if demand < order:\n",
    "    sold = demand\n",
    "    left = order - sold\n",
    "    if left > 120:\n",
    "        recycle = 120\n",
    "    else:\n",
    "        recycle = left\n",
    "else:\n",
    "    sold = order\n",
    "\n",
    "profit = price*sold + rec_price*recycle - cost*order\n",
    "\n",
    "print(\"Newspapers sold: \" + str(sold))\n",
    "print(\"Newspapers recycled: \" + str(recycle))\n",
    "print(\"Total profit: \" + str(profit))"
   ]
  },
  {
   "cell_type": "markdown",
   "metadata": {},
   "source": [
    "In the code cell above, there is an inner <code>if-else</code> statement which calculates the quantity of recycled newspaper when the demand is smaller than the order. Some extra indents are introduced to highlight the body of the inner <code>if-else</code> statement. Can you use one line of code to replace the inner <code>if-else</code> statement?"
   ]
  },
  {
   "cell_type": "code",
   "execution_count": null,
   "metadata": {},
   "outputs": [],
   "source": []
  },
  {
   "cell_type": "markdown",
   "metadata": {},
   "source": [
    "<div class=\"alert alert-block alert-danger\">\n",
    "<b>Notes:</b>  \n",
    "    Python uses indentations to force you to write neatly formatted code with a clear visual structure. In longer programs and deeply nested conditional statements, blocks of code indented at a few different levels may help you gain a general sense of the overall program’s organization. \n",
    "</div>\n",
    "\n",
    "<div style='height: 200px; width: 100px;display:table-cell;vertical-align: middle'>\n",
    "<img src=\"https://vignette.wikia.nocookie.net/nintendo/images/9/9b/Ryu_Hadouken_sprite.png/revision/latest?cb=20160213212450&path-prefix=en\" width=70px style=\"float:left\"/>\n",
    "</div>\n",
    "\n",
    "<div style='height: 250px; width: 400px;display:table-cell;vertical-align: middle'>\n",
    "<img src=\"https://www.python-course.eu/images/blocks.png\" width=400px style=\"float:left\"/>\n",
    "</div>\n",
    "\n",
    "<div class=\"alert alert-block alert-success\">\n",
    "<b>Extra Example:</b>  \n",
    "    The following code determines if a user is qualified for a business analytics course.\n",
    "</div>"
   ]
  },
  {
   "cell_type": "code",
   "execution_count": 33,
   "metadata": {
    "scrolled": true
   },
   "outputs": [
    {
     "name": "stdout",
     "output_type": "stream",
     "text": [
      "Are you an NUS student? Yes/No: Yes\n",
      "Are you a student in the business school? Yes/No: Yes\n",
      "Have you finished the prerequisite? Yes/No: Yes\n",
      "You are qualified for the BA course.\n"
     ]
    }
   ],
   "source": [
    "is_nus = input('Are you an NUS student? Yes/No: ')\n",
    "if is_nus == 'Yes':\n",
    "    is_biz = input('Are you a student in the business school? Yes/No: ')\n",
    "    if is_biz == 'Yes':\n",
    "        done_prerequisites = input('Have you finished the prerequisite? Yes/No: ')\n",
    "        if done_prerequisites == 'Yes':\n",
    "            print(\"You are qualified for the BA course.\")\n",
    "        else:\n",
    "            print(\"Sorry, you must finish the prerequisite first!\")\n",
    "    else:\n",
    "        print('Sorry, the BA course is only provided to Business School students.')\n",
    "else:\n",
    "    print('Sorry, the BA course is only provided to NUS students.')"
   ]
  },
  {
   "cell_type": "markdown",
   "metadata": {},
   "source": [
    "You are encouraged to key in different \"Yes/No\" combinations for each question to explore how the nested structure above works. "
   ]
  }
 ],
 "metadata": {
  "kernelspec": {
   "display_name": "Python 3",
   "language": "python",
   "name": "python3"
  },
  "language_info": {
   "codemirror_mode": {
    "name": "ipython",
    "version": 3
   },
   "file_extension": ".py",
   "mimetype": "text/x-python",
   "name": "python",
   "nbconvert_exporter": "python",
   "pygments_lexer": "ipython3",
   "version": "3.8.5"
  },
  "toc": {
   "base_numbering": 1,
   "nav_menu": {},
   "number_sections": false,
   "sideBar": false,
   "skip_h1_title": true,
   "title_cell": "Contents",
   "title_sidebar": "Contents",
   "toc_cell": true,
   "toc_position": {},
   "toc_section_display": true,
   "toc_window_display": false
  }
 },
 "nbformat": 4,
 "nbformat_minor": 2
}
